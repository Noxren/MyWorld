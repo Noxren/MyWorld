{
 "cells": [
  {
   "cell_type": "code",
   "execution_count": 8,
   "metadata": {},
   "outputs": [],
   "source": [
    "%matplotlib inline\n",
    "\n",
    "import numpy as np\n",
    "import matplotlib.pyplot as plt\n",
    "import pandas as pd"
   ]
  },
  {
   "cell_type": "code",
   "execution_count": 38,
   "metadata": {},
   "outputs": [],
   "source": [
    "import time\n",
    "now = time.localtime(time.time())\n",
    "year = int(time.strftime('%Y', now))\n",
    "month = time.strftime('%b', now)\n",
    "day = int(time.strftime('%d', now))"
   ]
  },
  {
   "cell_type": "code",
   "execution_count": 41,
   "metadata": {
    "scrolled": true
   },
   "outputs": [
    {
     "name": "stdout",
     "output_type": "stream",
     "text": [
      "項目: 晚餐\n",
      "花費: 80\n",
      "項目: end\n"
     ]
    }
   ],
   "source": [
    "x = 1\n",
    "charge = []\n",
    "while x == 1:\n",
    "    item = input(\"項目: \")\n",
    "    if item == \"end\":\n",
    "        break\n",
    "    spend = int(input(\"花費: \"))\n",
    "    arr = [year, month, day, item, spend]\n",
    "    charge.append(arr)"
   ]
  },
  {
   "cell_type": "code",
   "execution_count": 40,
   "metadata": {},
   "outputs": [],
   "source": [
    "col = ['Year', 'Month', 'Day', 'Item', 'Spend']\n",
    "df = pd.DataFrame(charge, columns = col)\n",
    "df1 = pd.read_excel('charge.xls')\n",
    "sum_table = pd.concat([df1, df], join = 'inner', ignore_index = True)\n",
    "sum_table.to_excel('charge.xls')"
   ]
  },
  {
   "cell_type": "code",
   "execution_count": null,
   "metadata": {},
   "outputs": [],
   "source": []
  }
 ],
 "metadata": {
  "kernelspec": {
   "display_name": "Python 3",
   "language": "python",
   "name": "python3"
  },
  "language_info": {
   "codemirror_mode": {
    "name": "ipython",
    "version": 3
   },
   "file_extension": ".py",
   "mimetype": "text/x-python",
   "name": "python",
   "nbconvert_exporter": "python",
   "pygments_lexer": "ipython3",
   "version": "3.7.4"
  }
 },
 "nbformat": 4,
 "nbformat_minor": 2
}
