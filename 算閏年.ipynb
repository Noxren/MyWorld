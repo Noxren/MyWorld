{
 "cells": [
  {
   "cell_type": "code",
   "execution_count": 1,
   "metadata": {},
   "outputs": [],
   "source": [
    "%matplotlib inline\n",
    "\n",
    "import numpy as np\n",
    "import matplotlib.pyplot as plt\n",
    "import pandas as pd"
   ]
  },
  {
   "cell_type": "code",
   "execution_count": 2,
   "metadata": {},
   "outputs": [],
   "source": [
    "def leap_year(n):\n",
    "    if(n%4 == 0):\n",
    "        if(n%100 == 0):\n",
    "            if(n%400 == 0):\n",
    "                print(str(n) + \"年是閏年\")\n",
    "            else:\n",
    "                print(str(n) + \"年不是閏年\")\n",
    "        else:\n",
    "            print(str(n) + \"年是閏年\")\n",
    "    else:\n",
    "        print(str(n) + \"年不是閏年\")"
   ]
  },
  {
   "cell_type": "code",
   "execution_count": 5,
   "metadata": {},
   "outputs": [
    {
     "name": "stdout",
     "output_type": "stream",
     "text": [
      "請輸入西元年分: 2020\n",
      "2020年是閏年\n"
     ]
    }
   ],
   "source": [
    "year = input(\"請輸入西元年分: \")\n",
    "leap_year(int(year))"
   ]
  },
  {
   "cell_type": "code",
   "execution_count": null,
   "metadata": {},
   "outputs": [],
   "source": []
  }
 ],
 "metadata": {
  "kernelspec": {
   "display_name": "Python 3",
   "language": "python",
   "name": "python3"
  },
  "language_info": {
   "codemirror_mode": {
    "name": "ipython",
    "version": 3
   },
   "file_extension": ".py",
   "mimetype": "text/x-python",
   "name": "python",
   "nbconvert_exporter": "python",
   "pygments_lexer": "ipython3",
   "version": "3.7.6"
  }
 },
 "nbformat": 4,
 "nbformat_minor": 4
}
