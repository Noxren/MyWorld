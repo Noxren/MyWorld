{
 "cells": [
  {
   "cell_type": "code",
   "execution_count": 1,
   "metadata": {},
   "outputs": [],
   "source": [
    "%matplotlib inline\n",
    "\n",
    "import numpy as np\n",
    "import matplotlib.pyplot as plt"
   ]
  },
  {
   "cell_type": "code",
   "execution_count": 2,
   "metadata": {},
   "outputs": [],
   "source": [
    "import tensorflow as tf"
   ]
  },
  {
   "cell_type": "markdown",
   "metadata": {},
   "source": [
    "## 1.讀入fashion MNIST"
   ]
  },
  {
   "cell_type": "code",
   "execution_count": 5,
   "metadata": {},
   "outputs": [],
   "source": [
    "from tensorflow.keras.datasets import fashion_mnist"
   ]
  },
  {
   "cell_type": "code",
   "execution_count": 24,
   "metadata": {},
   "outputs": [],
   "source": [
    "(x_train, y_train), (x_test, y_test) = fashion_mnist.load_data()"
   ]
  },
  {
   "cell_type": "markdown",
   "metadata": {},
   "source": [
    "## 2.查看數據集內容"
   ]
  },
  {
   "cell_type": "code",
   "execution_count": 7,
   "metadata": {},
   "outputs": [],
   "source": [
    "class_names = ['T-shirt/top', 'Trouser', 'Pullover', 'Dress', 'Coat',\n",
    "               'Sandal', 'Shirt', 'Sneaker', 'Bag', 'Ankle boot']"
   ]
  },
  {
   "cell_type": "code",
   "execution_count": 25,
   "metadata": {},
   "outputs": [
    {
     "name": "stdout",
     "output_type": "stream",
     "text": [
      "這是 Pullover\n"
     ]
    },
    {
     "data": {
      "image/png": "[encoded data removed]",
      "text/plain": [
       "<Figure size 432x288 with 1 Axes>"
      ]
     },
     "metadata": {
      "needs_background": "light"
     },
     "output_type": "display_data"
    }
   ],
   "source": [
    "n = 5432\n",
    "print('這是', class_names[y_train[n]])\n",
    "plt.imshow(x_train[n], cmap='Greys');"
   ]
  },
  {
   "cell_type": "code",
   "execution_count": 10,
   "metadata": {},
   "outputs": [
    {
     "data": {
      "image/png": "[encoded data removed]",
      "text/plain": [
       "<Figure size 432x288 with 5 Axes>"
      ]
     },
     "metadata": {},
     "output_type": "display_data"
    }
   ],
   "source": [
    "pick = np.random.choice(60000, 5, replace=False)\n",
    "\n",
    "for i in range(5):\n",
    "    n = pick[i]\n",
    "    ax = plt.subplot(151+i)\n",
    "    ax.set_xticks([])\n",
    "    ax.set_yticks([])\n",
    "    ax.set_title(class_names[y_train[n]], fontsize=10)\n",
    "    plt.imshow(x_train[n], cmap='Greys') "
   ]
  },
  {
   "cell_type": "markdown",
   "metadata": {},
   "source": [
    "## 3.資料整理"
   ]
  },
  {
   "cell_type": "code",
   "execution_count": 26,
   "metadata": {},
   "outputs": [],
   "source": [
    "x_train = x_train / 255\n",
    "x_test = x_test / 255"
   ]
  },
  {
   "cell_type": "code",
   "execution_count": 27,
   "metadata": {},
   "outputs": [
    {
     "data": {
      "text/plain": [
       "(60000, 28, 28)"
      ]
     },
     "execution_count": 27,
     "metadata": {},
     "output_type": "execute_result"
    }
   ],
   "source": [
    "x_train.shape"
   ]
  },
  {
   "cell_type": "code",
   "execution_count": 28,
   "metadata": {},
   "outputs": [
    {
     "data": {
      "text/plain": [
       "(10000, 28, 28)"
      ]
     },
     "execution_count": 28,
     "metadata": {},
     "output_type": "execute_result"
    }
   ],
   "source": [
    "x_test.shape"
   ]
  },
  {
   "cell_type": "code",
   "execution_count": 29,
   "metadata": {},
   "outputs": [],
   "source": [
    "x_train = x_train.reshape(60000,784)"
   ]
  },
  {
   "cell_type": "code",
   "execution_count": 30,
   "metadata": {},
   "outputs": [],
   "source": [
    "x_test = x_test.reshape(10000,784)"
   ]
  },
  {
   "cell_type": "code",
   "execution_count": 16,
   "metadata": {},
   "outputs": [],
   "source": [
    "from tensorflow.keras.utils import to_categorical"
   ]
  },
  {
   "cell_type": "code",
   "execution_count": 31,
   "metadata": {},
   "outputs": [],
   "source": [
    "y_train = to_categorical(y_train, 10)"
   ]
  },
  {
   "cell_type": "code",
   "execution_count": 32,
   "metadata": {},
   "outputs": [],
   "source": [
    "y_test = to_categorical(y_test, 10)"
   ]
  },
  {
   "cell_type": "code",
   "execution_count": 35,
   "metadata": {},
   "outputs": [
    {
     "data": {
      "text/plain": [
       "array([0., 0., 1., 0., 0., 0., 0., 0., 0., 0.], dtype=float32)"
      ]
     },
     "execution_count": 35,
     "metadata": {},
     "output_type": "execute_result"
    }
   ],
   "source": [
    "y_train[n]"
   ]
  },
  {
   "cell_type": "markdown",
   "metadata": {},
   "source": [
    "## 4.建立神經網路模型"
   ]
  },
  {
   "cell_type": "code",
   "execution_count": 36,
   "metadata": {},
   "outputs": [],
   "source": [
    "from tensorflow.keras.models import Sequential\n",
    "from tensorflow.keras.layers import Dense\n",
    "from tensorflow.keras.optimizers import SGD"
   ]
  },
  {
   "cell_type": "code",
   "execution_count": 37,
   "metadata": {},
   "outputs": [],
   "source": [
    "model = Sequential()"
   ]
  },
  {
   "cell_type": "code",
   "execution_count": 38,
   "metadata": {},
   "outputs": [],
   "source": [
    "model.add(Dense(88, input_dim = 784, activation = 'relu'))"
   ]
  },
  {
   "cell_type": "code",
   "execution_count": 39,
   "metadata": {},
   "outputs": [],
   "source": [
    "model.add(Dense(821, activation = 'relu'))"
   ]
  },
  {
   "cell_type": "code",
   "execution_count": 40,
   "metadata": {},
   "outputs": [],
   "source": [
    "model.add(Dense(325, activation = 'relu'))"
   ]
  },
  {
   "cell_type": "code",
   "execution_count": 41,
   "metadata": {},
   "outputs": [],
   "source": [
    "model.add(Dense(10, activation = 'softmax'))"
   ]
  },
  {
   "cell_type": "code",
   "execution_count": 42,
   "metadata": {},
   "outputs": [],
   "source": [
    "model.compile(loss = 'mse', optimizer = SGD(lr = 0.012), metrics = ['accuracy'])"
   ]
  },
  {
   "cell_type": "code",
   "execution_count": 43,
   "metadata": {},
   "outputs": [
    {
     "name": "stdout",
     "output_type": "stream",
     "text": [
      "Model: \"sequential\"\n",
      "_________________________________________________________________\n",
      "Layer (type)                 Output Shape              Param #   \n",
      "=================================================================\n",
      "dense (Dense)                (None, 88)                69080     \n",
      "_________________________________________________________________\n",
      "dense_1 (Dense)              (None, 821)               73069     \n",
      "_________________________________________________________________\n",
      "dense_2 (Dense)              (None, 325)               267150    \n",
      "_________________________________________________________________\n",
      "dense_3 (Dense)              (None, 10)                3260      \n",
      "=================================================================\n",
      "Total params: 412,559\n",
      "Trainable params: 412,559\n",
      "Non-trainable params: 0\n",
      "_________________________________________________________________\n"
     ]
    }
   ],
   "source": [
    "model.summary()"
   ]
  },
  {
   "cell_type": "markdown",
   "metadata": {},
   "source": [
    "## 5.訓練"
   ]
  },
  {
   "cell_type": "code",
   "execution_count": 44,
   "metadata": {},
   "outputs": [
    {
     "name": "stdout",
     "output_type": "stream",
     "text": [
      "Train on 60000 samples\n",
      "Epoch 1/30\n",
      "60000/60000 [==============================] - 8s 125us/sample - loss: 0.0886 - accuracy: 0.2368\n",
      "Epoch 2/30\n",
      "60000/60000 [==============================] - 6s 101us/sample - loss: 0.0838 - accuracy: 0.4126\n",
      "Epoch 3/30\n",
      "60000/60000 [==============================] - 6s 102us/sample - loss: 0.0742 - accuracy: 0.5404\n",
      "Epoch 4/30\n",
      "60000/60000 [==============================] - 6s 105us/sample - loss: 0.0605 - accuracy: 0.6133\n",
      "Epoch 5/30\n",
      "60000/60000 [==============================] - 6s 99us/sample - loss: 0.0508 - accuracy: 0.6582\n",
      "Epoch 6/30\n",
      "60000/60000 [==============================] - 6s 100us/sample - loss: 0.0453 - accuracy: 0.6802\n",
      "Epoch 7/30\n",
      "60000/60000 [==============================] - 6s 101us/sample - loss: 0.0419 - accuracy: 0.7059\n",
      "Epoch 8/30\n",
      "60000/60000 [==============================] - 6s 99us/sample - loss: 0.0394 - accuracy: 0.7320\n",
      "Epoch 9/30\n",
      "60000/60000 [==============================] - 6s 100us/sample - loss: 0.0374 - accuracy: 0.7510\n",
      "Epoch 10/30\n",
      "60000/60000 [==============================] - 6s 103us/sample - loss: 0.0356 - accuracy: 0.7661\n",
      "Epoch 11/30\n",
      "60000/60000 [==============================] - 6s 100us/sample - loss: 0.0341 - accuracy: 0.7767\n",
      "Epoch 12/30\n",
      "60000/60000 [==============================] - 6s 101us/sample - loss: 0.0328 - accuracy: 0.7854\n",
      "Epoch 13/30\n",
      "60000/60000 [==============================] - 6s 101us/sample - loss: 0.0317 - accuracy: 0.7929\n",
      "Epoch 14/30\n",
      "60000/60000 [==============================] - 6s 103us/sample - loss: 0.0308 - accuracy: 0.7975\n",
      "Epoch 15/30\n",
      "60000/60000 [==============================] - 6s 101us/sample - loss: 0.0300 - accuracy: 0.8024\n",
      "Epoch 16/30\n",
      "60000/60000 [==============================] - 6s 102us/sample - loss: 0.0293 - accuracy: 0.8058\n",
      "Epoch 17/30\n",
      "60000/60000 [==============================] - 6s 102us/sample - loss: 0.0287 - accuracy: 0.8106\n",
      "Epoch 18/30\n",
      "60000/60000 [==============================] - 6s 102us/sample - loss: 0.0281 - accuracy: 0.8127\n",
      "Epoch 19/30\n",
      "60000/60000 [==============================] - 6s 101us/sample - loss: 0.0276 - accuracy: 0.8155\n",
      "Epoch 20/30\n",
      "60000/60000 [==============================] - 7s 109us/sample - loss: 0.0272 - accuracy: 0.8187\n",
      "Epoch 21/30\n",
      "60000/60000 [==============================] - 6s 101us/sample - loss: 0.0268 - accuracy: 0.8206\n",
      "Epoch 22/30\n",
      "60000/60000 [==============================] - 6s 101us/sample - loss: 0.0265 - accuracy: 0.8231\n",
      "Epoch 23/30\n",
      "60000/60000 [==============================] - 6s 103us/sample - loss: 0.0261 - accuracy: 0.8247\n",
      "Epoch 24/30\n",
      "60000/60000 [==============================] - 6s 106us/sample - loss: 0.0258 - accuracy: 0.8270\n",
      "Epoch 25/30\n",
      "60000/60000 [==============================] - 6s 101us/sample - loss: 0.0255 - accuracy: 0.8292\n",
      "Epoch 26/30\n",
      "60000/60000 [==============================] - 6s 102us/sample - loss: 0.0253 - accuracy: 0.8297\n",
      "Epoch 27/30\n",
      "60000/60000 [==============================] - 6s 101us/sample - loss: 0.0250 - accuracy: 0.8316\n",
      "Epoch 28/30\n",
      "60000/60000 [==============================] - 6s 102us/sample - loss: 0.0248 - accuracy: 0.8324\n",
      "Epoch 29/30\n",
      "60000/60000 [==============================] - 6s 105us/sample - loss: 0.0246 - accuracy: 0.8342\n",
      "Epoch 30/30\n",
      "60000/60000 [==============================] - 6s 102us/sample - loss: 0.0244 - accuracy: 0.8355\n"
     ]
    },
    {
     "data": {
      "text/plain": [
       "<tensorflow.python.keras.callbacks.History at 0x253a4338708>"
      ]
     },
     "execution_count": 44,
     "metadata": {},
     "output_type": "execute_result"
    }
   ],
   "source": [
    "model.fit(x_train, y_train, batch_size = 50, epochs = 30)"
   ]
  },
  {
   "cell_type": "markdown",
   "metadata": {},
   "source": [
    "## 6.訓練成果"
   ]
  },
  {
   "cell_type": "code",
   "execution_count": 45,
   "metadata": {},
   "outputs": [],
   "source": [
    "result = model.predict_classes(x_test)"
   ]
  },
  {
   "cell_type": "code",
   "execution_count": 85,
   "metadata": {},
   "outputs": [
    {
     "name": "stdout",
     "output_type": "stream",
     "text": [
      "神經網路預測:  Bag\n"
     ]
    },
    {
     "data": {
      "image/png": "[encoded data removed]",
      "text/plain": [
       "<Figure size 432x288 with 1 Axes>"
      ]
     },
     "metadata": {
      "needs_background": "light"
     },
     "output_type": "display_data"
    }
   ],
   "source": [
    "n = 1470\n",
    "print('神經網路預測: ', class_names[result[n]])\n",
    "plt.imshow(x_test[n].reshape(28,28), cmap = 'Greys');"
   ]
  },
  {
   "cell_type": "code",
   "execution_count": null,
   "metadata": {},
   "outputs": [],
   "source": []
  }
 ],
 "metadata": {
  "kernelspec": {
   "display_name": "Python 3",
   "language": "python",
   "name": "python3"
  },
  "language_info": {
   "codemirror_mode": {
    "name": "ipython",
    "version": 3
   },
   "file_extension": ".py",
   "mimetype": "text/x-python",
   "name": "python",
   "nbconvert_exporter": "python",
   "pygments_lexer": "ipython3",
   "version": "3.7.4"
  }
 },
 "nbformat": 4,
 "nbformat_minor": 2
}
