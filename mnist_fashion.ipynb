{
 "cells": [
  {
   "cell_type": "code",
   "execution_count": 1,
   "metadata": {},
   "outputs": [],
   "source": [
    "%matplotlib inline\n",
    "\n",
    "import numpy as np\n",
    "import matplotlib.pyplot as plt"
   ]
  },
  {
   "cell_type": "code",
   "execution_count": 2,
   "metadata": {},
   "outputs": [],
   "source": [
    "import tensorflow as tf"
   ]
  },
  {
   "cell_type": "markdown",
   "metadata": {},
   "source": [
    "## 1.讀入fashion MNIST"
   ]
  },
  {
   "cell_type": "code",
   "execution_count": 3,
   "metadata": {},
   "outputs": [],
   "source": [
    "from tensorflow.keras.datasets import fashion_mnist"
   ]
  },
  {
   "cell_type": "code",
   "execution_count": 4,
   "metadata": {},
   "outputs": [],
   "source": [
    "(x_train, y_train), (x_test, y_test) = fashion_mnist.load_data()"
   ]
  },
  {
   "cell_type": "markdown",
   "metadata": {},
   "source": [
    "## 2.查看數據集內容"
   ]
  },
  {
   "cell_type": "code",
   "execution_count": 5,
   "metadata": {},
   "outputs": [],
   "source": [
    "class_names = ['T-shirt/top', 'Trouser', 'Pullover', 'Dress', 'Coat',\n",
    "               'Sandal', 'Shirt', 'Sneaker', 'Bag', 'Ankle boot']"
   ]
  },
  {
   "cell_type": "code",
   "execution_count": 6,
   "metadata": {},
   "outputs": [
    {
     "name": "stdout",
     "output_type": "stream",
     "text": [
      "這是 Pullover\n"
     ]
    },
    {
     "data": {
      "image/png": "[encoded data removed]",
      "text/plain": [
       "<Figure size 432x288 with 1 Axes>"
      ]
     },
     "metadata": {
      "needs_background": "light"
     },
     "output_type": "display_data"
    }
   ],
   "source": [
    "n = 5432\n",
    "print('這是', class_names[y_train[n]])\n",
    "plt.imshow(x_train[n], cmap='Greys');"
   ]
  },
  {
   "cell_type": "code",
   "execution_count": 7,
   "metadata": {},
   "outputs": [
    {
     "data": {
      "image/png": "[encoded data removed]",
      "text/plain": [
       "<Figure size 432x288 with 5 Axes>"
      ]
     },
     "metadata": {},
     "output_type": "display_data"
    }
   ],
   "source": [
    "pick = np.random.choice(60000, 5, replace=False)\n",
    "\n",
    "for i in range(5):\n",
    "    n = pick[i]\n",
    "    ax = plt.subplot(151+i)\n",
    "    ax.set_xticks([])\n",
    "    ax.set_yticks([])\n",
    "    ax.set_title(class_names[y_train[n]], fontsize=10)\n",
    "    plt.imshow(x_train[n], cmap='Greys') "
   ]
  },
  {
   "cell_type": "markdown",
   "metadata": {},
   "source": [
    "## 3.資料整理"
   ]
  },
  {
   "cell_type": "code",
   "execution_count": 8,
   "metadata": {},
   "outputs": [],
   "source": [
    "x_train = x_train / 255\n",
    "x_test = x_test / 255"
   ]
  },
  {
   "cell_type": "code",
   "execution_count": 9,
   "metadata": {},
   "outputs": [
    {
     "data": {
      "text/plain": [
       "(60000, 28, 28)"
      ]
     },
     "execution_count": 9,
     "metadata": {},
     "output_type": "execute_result"
    }
   ],
   "source": [
    "x_train.shape"
   ]
  },
  {
   "cell_type": "code",
   "execution_count": 10,
   "metadata": {},
   "outputs": [
    {
     "data": {
      "text/plain": [
       "(10000, 28, 28)"
      ]
     },
     "execution_count": 10,
     "metadata": {},
     "output_type": "execute_result"
    }
   ],
   "source": [
    "x_test.shape"
   ]
  },
  {
   "cell_type": "code",
   "execution_count": 11,
   "metadata": {},
   "outputs": [],
   "source": [
    "x_train = x_train.reshape(60000,784)"
   ]
  },
  {
   "cell_type": "code",
   "execution_count": 12,
   "metadata": {},
   "outputs": [],
   "source": [
    "x_test = x_test.reshape(10000,784)"
   ]
  },
  {
   "cell_type": "code",
   "execution_count": 13,
   "metadata": {},
   "outputs": [],
   "source": [
    "from tensorflow.keras.utils import to_categorical"
   ]
  },
  {
   "cell_type": "code",
   "execution_count": 14,
   "metadata": {},
   "outputs": [],
   "source": [
    "y_train = to_categorical(y_train, 10)"
   ]
  },
  {
   "cell_type": "code",
   "execution_count": 15,
   "metadata": {},
   "outputs": [],
   "source": [
    "y_test = to_categorical(y_test, 10)"
   ]
  },
  {
   "cell_type": "code",
   "execution_count": 16,
   "metadata": {},
   "outputs": [
    {
     "data": {
      "text/plain": [
       "array([0., 0., 0., 0., 1., 0., 0., 0., 0., 0.], dtype=float32)"
      ]
     },
     "execution_count": 16,
     "metadata": {},
     "output_type": "execute_result"
    }
   ],
   "source": [
    "y_train[n]"
   ]
  },
  {
   "cell_type": "markdown",
   "metadata": {},
   "source": [
    "## 4.建立神經網路模型"
   ]
  },
  {
   "cell_type": "code",
   "execution_count": 17,
   "metadata": {},
   "outputs": [],
   "source": [
    "from tensorflow.keras.models import Sequential\n",
    "from tensorflow.keras.layers import Dense\n",
    "from tensorflow.keras.optimizers import SGD"
   ]
  },
  {
   "cell_type": "code",
   "execution_count": 18,
   "metadata": {},
   "outputs": [],
   "source": [
    "model = Sequential()"
   ]
  },
  {
   "cell_type": "markdown",
   "metadata": {},
   "source": [
    "### 建立第一層 神經元設為50個"
   ]
  },
  {
   "cell_type": "code",
   "execution_count": 19,
   "metadata": {},
   "outputs": [],
   "source": [
    "model.add(Dense(50, input_dim = 784, activation = 'relu'))"
   ]
  },
  {
   "cell_type": "markdown",
   "metadata": {},
   "source": [
    "### 建立第二層 神經元設為49個"
   ]
  },
  {
   "cell_type": "code",
   "execution_count": 20,
   "metadata": {},
   "outputs": [],
   "source": [
    "model.add(Dense(49, activation = 'relu'))"
   ]
  },
  {
   "cell_type": "markdown",
   "metadata": {},
   "source": [
    "### 建立第三層 神經元設為52個"
   ]
  },
  {
   "cell_type": "code",
   "execution_count": 21,
   "metadata": {},
   "outputs": [],
   "source": [
    "model.add(Dense(52, activation = 'relu'))"
   ]
  },
  {
   "cell_type": "code",
   "execution_count": 22,
   "metadata": {},
   "outputs": [],
   "source": [
    "model.add(Dense(10, activation = 'softmax'))"
   ]
  },
  {
   "cell_type": "markdown",
   "metadata": {},
   "source": [
    "### 把模型的學習率設為0.054"
   ]
  },
  {
   "cell_type": "code",
   "execution_count": 23,
   "metadata": {},
   "outputs": [],
   "source": [
    "model.compile(loss = 'mse', optimizer = SGD(lr = 0.054), metrics = ['accuracy'])"
   ]
  },
  {
   "cell_type": "code",
   "execution_count": 24,
   "metadata": {},
   "outputs": [
    {
     "name": "stdout",
     "output_type": "stream",
     "text": [
      "Model: \"sequential\"\n",
      "_________________________________________________________________\n",
      "Layer (type)                 Output Shape              Param #   \n",
      "=================================================================\n",
      "dense (Dense)                (None, 50)                39250     \n",
      "_________________________________________________________________\n",
      "dense_1 (Dense)              (None, 49)                2499      \n",
      "_________________________________________________________________\n",
      "dense_2 (Dense)              (None, 52)                2600      \n",
      "_________________________________________________________________\n",
      "dense_3 (Dense)              (None, 10)                530       \n",
      "=================================================================\n",
      "Total params: 44,879\n",
      "Trainable params: 44,879\n",
      "Non-trainable params: 0\n",
      "_________________________________________________________________\n"
     ]
    }
   ],
   "source": [
    "model.summary()"
   ]
  },
  {
   "cell_type": "markdown",
   "metadata": {},
   "source": [
    "## 5.訓練"
   ]
  },
  {
   "cell_type": "markdown",
   "metadata": {},
   "source": [
    "### 訓練模型 batch_size設為50 訓練次數設為30次"
   ]
  },
  {
   "cell_type": "code",
   "execution_count": 25,
   "metadata": {},
   "outputs": [
    {
     "name": "stdout",
     "output_type": "stream",
     "text": [
      "Train on 60000 samples\n",
      "Epoch 1/30\n",
      "60000/60000 [==============================] - 3s 55us/sample - loss: 0.0773 - accuracy: 0.3846\n",
      "Epoch 2/30\n",
      "60000/60000 [==============================] - 3s 48us/sample - loss: 0.0461 - accuracy: 0.6674\n",
      "Epoch 3/30\n",
      "60000/60000 [==============================] - 3s 47us/sample - loss: 0.0365 - accuracy: 0.7531\n",
      "Epoch 4/30\n",
      "60000/60000 [==============================] - 3s 48us/sample - loss: 0.0315 - accuracy: 0.7926\n",
      "Epoch 5/30\n",
      "60000/60000 [==============================] - 3s 49us/sample - loss: 0.0288 - accuracy: 0.8095\n",
      "Epoch 6/30\n",
      "60000/60000 [==============================] - 3s 49us/sample - loss: 0.0270 - accuracy: 0.8196\n",
      "Epoch 7/30\n",
      "60000/60000 [==============================] - 3s 49us/sample - loss: 0.0258 - accuracy: 0.8264\n",
      "Epoch 8/30\n",
      "60000/60000 [==============================] - 3s 49us/sample - loss: 0.0249 - accuracy: 0.8325\n",
      "Epoch 9/30\n",
      "60000/60000 [==============================] - 3s 47us/sample - loss: 0.0242 - accuracy: 0.8372\n",
      "Epoch 10/30\n",
      "60000/60000 [==============================] - 3s 50us/sample - loss: 0.0236 - accuracy: 0.8404\n",
      "Epoch 11/30\n",
      "60000/60000 [==============================] - 3s 50us/sample - loss: 0.0232 - accuracy: 0.8428\n",
      "Epoch 12/30\n",
      "60000/60000 [==============================] - 3s 48us/sample - loss: 0.0228 - accuracy: 0.8450\n",
      "Epoch 13/30\n",
      "60000/60000 [==============================] - 3s 49us/sample - loss: 0.0225 - accuracy: 0.8475\n",
      "Epoch 14/30\n",
      "60000/60000 [==============================] - 3s 49us/sample - loss: 0.0221 - accuracy: 0.8505\n",
      "Epoch 15/30\n",
      "60000/60000 [==============================] - 3s 49us/sample - loss: 0.0218 - accuracy: 0.8531\n",
      "Epoch 16/30\n",
      "60000/60000 [==============================] - 3s 48us/sample - loss: 0.0216 - accuracy: 0.8537\n",
      "Epoch 17/30\n",
      "60000/60000 [==============================] - 3s 51us/sample - loss: 0.0213 - accuracy: 0.8559\n",
      "Epoch 18/30\n",
      "60000/60000 [==============================] - 3s 48us/sample - loss: 0.0212 - accuracy: 0.8570\n",
      "Epoch 19/30\n",
      "60000/60000 [==============================] - 3s 49us/sample - loss: 0.0210 - accuracy: 0.8573\n",
      "Epoch 20/30\n",
      "60000/60000 [==============================] - 3s 49us/sample - loss: 0.0207 - accuracy: 0.8605\n",
      "Epoch 21/30\n",
      "60000/60000 [==============================] - 3s 49us/sample - loss: 0.0205 - accuracy: 0.8609\n",
      "Epoch 22/30\n",
      "60000/60000 [==============================] - 3s 48us/sample - loss: 0.0204 - accuracy: 0.8629\n",
      "Epoch 23/30\n",
      "60000/60000 [==============================] - 3s 49us/sample - loss: 0.0202 - accuracy: 0.8635\n",
      "Epoch 24/30\n",
      "60000/60000 [==============================] - 3s 48us/sample - loss: 0.0200 - accuracy: 0.8658\n",
      "Epoch 25/30\n",
      "60000/60000 [==============================] - 3s 49us/sample - loss: 0.0199 - accuracy: 0.8665\n",
      "Epoch 26/30\n",
      "60000/60000 [==============================] - 3s 49us/sample - loss: 0.0197 - accuracy: 0.8677\n",
      "Epoch 27/30\n",
      "60000/60000 [==============================] - 3s 49us/sample - loss: 0.0195 - accuracy: 0.8688\n",
      "Epoch 28/30\n",
      "60000/60000 [==============================] - 3s 49us/sample - loss: 0.0194 - accuracy: 0.8699\n",
      "Epoch 29/30\n",
      "60000/60000 [==============================] - 3s 49us/sample - loss: 0.0193 - accuracy: 0.8702\n",
      "Epoch 30/30\n",
      "60000/60000 [==============================] - 3s 48us/sample - loss: 0.0191 - accuracy: 0.8711\n"
     ]
    },
    {
     "data": {
      "text/plain": [
       "<tensorflow.python.keras.callbacks.History at 0x162bf883f88>"
      ]
     },
     "execution_count": 25,
     "metadata": {},
     "output_type": "execute_result"
    }
   ],
   "source": [
    "model.fit(x_train, y_train, batch_size = 50, epochs = 30)"
   ]
  },
  {
   "cell_type": "markdown",
   "metadata": {},
   "source": [
    "## 準確率有點低，再訓練一次"
   ]
  },
  {
   "cell_type": "code",
   "execution_count": 26,
   "metadata": {},
   "outputs": [
    {
     "name": "stdout",
     "output_type": "stream",
     "text": [
      "Train on 60000 samples\n",
      "Epoch 1/30\n",
      "60000/60000 [==============================] - 3s 50us/sample - loss: 0.0190 - accuracy: 0.8728\n",
      "Epoch 2/30\n",
      "60000/60000 [==============================] - 3s 50us/sample - loss: 0.0188 - accuracy: 0.8741\n",
      "Epoch 3/30\n",
      "60000/60000 [==============================] - 3s 47us/sample - loss: 0.0187 - accuracy: 0.8743\n",
      "Epoch 4/30\n",
      "60000/60000 [==============================] - 3s 49us/sample - loss: 0.0186 - accuracy: 0.8749\n",
      "Epoch 5/30\n",
      "60000/60000 [==============================] - 3s 49us/sample - loss: 0.0185 - accuracy: 0.8764\n",
      "Epoch 6/30\n",
      "60000/60000 [==============================] - 3s 48us/sample - loss: 0.0184 - accuracy: 0.8767\n",
      "Epoch 7/30\n",
      "60000/60000 [==============================] - 3s 49us/sample - loss: 0.0183 - accuracy: 0.8776\n",
      "Epoch 8/30\n",
      "60000/60000 [==============================] - 3s 49us/sample - loss: 0.0182 - accuracy: 0.8792\n",
      "Epoch 9/30\n",
      "60000/60000 [==============================] - 3s 51us/sample - loss: 0.0181 - accuracy: 0.8795\n",
      "Epoch 10/30\n",
      "60000/60000 [==============================] - 3s 49us/sample - loss: 0.0180 - accuracy: 0.8803\n",
      "Epoch 11/30\n",
      "60000/60000 [==============================] - 3s 49us/sample - loss: 0.0179 - accuracy: 0.8805\n",
      "Epoch 12/30\n",
      "60000/60000 [==============================] - 3s 51us/sample - loss: 0.0177 - accuracy: 0.8819\n",
      "Epoch 13/30\n",
      "60000/60000 [==============================] - 3s 49us/sample - loss: 0.0176 - accuracy: 0.8824\n",
      "Epoch 14/30\n",
      "60000/60000 [==============================] - 3s 49us/sample - loss: 0.0176 - accuracy: 0.8825\n",
      "Epoch 15/30\n",
      "60000/60000 [==============================] - 3s 50us/sample - loss: 0.0175 - accuracy: 0.8839\n",
      "Epoch 16/30\n",
      "60000/60000 [==============================] - 3s 49us/sample - loss: 0.0174 - accuracy: 0.8847\n",
      "Epoch 17/30\n",
      "60000/60000 [==============================] - 3s 50us/sample - loss: 0.0173 - accuracy: 0.8845\n",
      "Epoch 18/30\n",
      "60000/60000 [==============================] - 3s 49us/sample - loss: 0.0171 - accuracy: 0.8860\n",
      "Epoch 19/30\n",
      "60000/60000 [==============================] - 3s 51us/sample - loss: 0.0171 - accuracy: 0.8859\n",
      "Epoch 20/30\n",
      "60000/60000 [==============================] - 3s 51us/sample - loss: 0.0170 - accuracy: 0.8865\n",
      "Epoch 21/30\n",
      "60000/60000 [==============================] - 3s 50us/sample - loss: 0.0169 - accuracy: 0.8874\n",
      "Epoch 22/30\n",
      "60000/60000 [==============================] - 3s 51us/sample - loss: 0.0168 - accuracy: 0.8888\n",
      "Epoch 23/30\n",
      "60000/60000 [==============================] - 3s 49us/sample - loss: 0.0167 - accuracy: 0.8886\n",
      "Epoch 24/30\n",
      "60000/60000 [==============================] - 3s 51us/sample - loss: 0.0166 - accuracy: 0.8895\n",
      "Epoch 25/30\n",
      "60000/60000 [==============================] - 3s 52us/sample - loss: 0.0166 - accuracy: 0.8900\n",
      "Epoch 26/30\n",
      "60000/60000 [==============================] - 3s 50us/sample - loss: 0.0165 - accuracy: 0.8900\n",
      "Epoch 27/30\n",
      "60000/60000 [==============================] - 3s 50us/sample - loss: 0.0164 - accuracy: 0.8910\n",
      "Epoch 28/30\n",
      "60000/60000 [==============================] - 3s 51us/sample - loss: 0.0164 - accuracy: 0.8912\n",
      "Epoch 29/30\n",
      "60000/60000 [==============================] - 3s 50us/sample - loss: 0.0163 - accuracy: 0.8914\n",
      "Epoch 30/30\n",
      "60000/60000 [==============================] - 3s 50us/sample - loss: 0.0162 - accuracy: 0.8925\n"
     ]
    },
    {
     "data": {
      "text/plain": [
       "<tensorflow.python.keras.callbacks.History at 0x162bfe9c708>"
      ]
     },
     "execution_count": 26,
     "metadata": {},
     "output_type": "execute_result"
    }
   ],
   "source": [
    "model.fit(x_train, y_train, batch_size = 50, epochs = 30)"
   ]
  },
  {
   "cell_type": "markdown",
   "metadata": {},
   "source": [
    "### 試試看能不能讓準確率到0.9"
   ]
  },
  {
   "cell_type": "code",
   "execution_count": 27,
   "metadata": {},
   "outputs": [
    {
     "name": "stdout",
     "output_type": "stream",
     "text": [
      "Train on 60000 samples\n",
      "Epoch 1/30\n",
      "60000/60000 [==============================] - 3s 51us/sample - loss: 0.0161 - accuracy: 0.8929\n",
      "Epoch 2/30\n",
      "60000/60000 [==============================] - 3s 48us/sample - loss: 0.0161 - accuracy: 0.8932\n",
      "Epoch 3/30\n",
      "60000/60000 [==============================] - 3s 49us/sample - loss: 0.0160 - accuracy: 0.8933\n",
      "Epoch 4/30\n",
      "60000/60000 [==============================] - 3s 49us/sample - loss: 0.0160 - accuracy: 0.8943\n",
      "Epoch 5/30\n",
      "60000/60000 [==============================] - 3s 51us/sample - loss: 0.0159 - accuracy: 0.8941\n",
      "Epoch 6/30\n",
      "60000/60000 [==============================] - 3s 52us/sample - loss: 0.0158 - accuracy: 0.8954\n",
      "Epoch 7/30\n",
      "60000/60000 [==============================] - 3s 48us/sample - loss: 0.0158 - accuracy: 0.8957\n",
      "Epoch 8/30\n",
      "60000/60000 [==============================] - 3s 49us/sample - loss: 0.0157 - accuracy: 0.8961\n",
      "Epoch 9/30\n",
      "60000/60000 [==============================] - 3s 48us/sample - loss: 0.0156 - accuracy: 0.8953\n",
      "Epoch 10/30\n",
      "60000/60000 [==============================] - 3s 49us/sample - loss: 0.0156 - accuracy: 0.8967\n",
      "Epoch 11/30\n",
      "60000/60000 [==============================] - 3s 49us/sample - loss: 0.0155 - accuracy: 0.8983\n",
      "Epoch 12/30\n",
      "60000/60000 [==============================] - 3s 51us/sample - loss: 0.0154 - accuracy: 0.8987\n",
      "Epoch 13/30\n",
      "60000/60000 [==============================] - 3s 48us/sample - loss: 0.0154 - accuracy: 0.8970\n",
      "Epoch 14/30\n",
      "60000/60000 [==============================] - 3s 48us/sample - loss: 0.0154 - accuracy: 0.8982\n",
      "Epoch 15/30\n",
      "60000/60000 [==============================] - 3s 49us/sample - loss: 0.0153 - accuracy: 0.8991\n",
      "Epoch 16/30\n",
      "60000/60000 [==============================] - 3s 49us/sample - loss: 0.0152 - accuracy: 0.8992\n",
      "Epoch 17/30\n",
      "60000/60000 [==============================] - 3s 49us/sample - loss: 0.0152 - accuracy: 0.9003\n",
      "Epoch 18/30\n",
      "60000/60000 [==============================] - 3s 49us/sample - loss: 0.0151 - accuracy: 0.8996\n",
      "Epoch 19/30\n",
      "60000/60000 [==============================] - 3s 48us/sample - loss: 0.0151 - accuracy: 0.9013\n",
      "Epoch 20/30\n",
      "60000/60000 [==============================] - 3s 48us/sample - loss: 0.0151 - accuracy: 0.9001\n",
      "Epoch 21/30\n",
      "60000/60000 [==============================] - 3s 48us/sample - loss: 0.0150 - accuracy: 0.9012\n",
      "Epoch 22/30\n",
      "60000/60000 [==============================] - 3s 50us/sample - loss: 0.0149 - accuracy: 0.9021\n",
      "Epoch 23/30\n",
      "60000/60000 [==============================] - 3s 48us/sample - loss: 0.0149 - accuracy: 0.9024\n",
      "Epoch 24/30\n",
      "60000/60000 [==============================] - 3s 49us/sample - loss: 0.0148 - accuracy: 0.9029\n",
      "Epoch 25/30\n",
      "60000/60000 [==============================] - 3s 53us/sample - loss: 0.0148 - accuracy: 0.9028\n",
      "Epoch 26/30\n",
      "60000/60000 [==============================] - 3s 49us/sample - loss: 0.0147 - accuracy: 0.9022\n",
      "Epoch 27/30\n",
      "60000/60000 [==============================] - 3s 49us/sample - loss: 0.0147 - accuracy: 0.9029\n",
      "Epoch 28/30\n",
      "60000/60000 [==============================] - 3s 48us/sample - loss: 0.0146 - accuracy: 0.9038\n",
      "Epoch 29/30\n",
      "60000/60000 [==============================] - 3s 49us/sample - loss: 0.0146 - accuracy: 0.9040\n",
      "Epoch 30/30\n",
      "60000/60000 [==============================] - 3s 48us/sample - loss: 0.0146 - accuracy: 0.9040\n"
     ]
    },
    {
     "data": {
      "text/plain": [
       "<tensorflow.python.keras.callbacks.History at 0x162c2950a08>"
      ]
     },
     "execution_count": 27,
     "metadata": {},
     "output_type": "execute_result"
    }
   ],
   "source": [
    "model.fit(x_train, y_train, batch_size = 50, epochs = 30)"
   ]
  },
  {
   "cell_type": "markdown",
   "metadata": {},
   "source": [
    "## 6.訓練成果"
   ]
  },
  {
   "cell_type": "markdown",
   "metadata": {},
   "source": [
    "### 查看有沒有overfitting"
   ]
  },
  {
   "cell_type": "code",
   "execution_count": 29,
   "metadata": {},
   "outputs": [
    {
     "name": "stdout",
     "output_type": "stream",
     "text": [
      "10000/10000 [==============================] - 1s 61us/sample - loss: 0.0188 - accuracy: 0.8729\n"
     ]
    }
   ],
   "source": [
    "score = model.evaluate(x_test, y_test)"
   ]
  },
  {
   "cell_type": "code",
   "execution_count": 28,
   "metadata": {},
   "outputs": [],
   "source": [
    "result = model.predict_classes(x_test)"
   ]
  },
  {
   "cell_type": "code",
   "execution_count": 30,
   "metadata": {},
   "outputs": [
    {
     "name": "stdout",
     "output_type": "stream",
     "text": [
      "神經網路預測:  Bag\n"
     ]
    },
    {
     "data": {
      "image/png": "[encoded data removed]",
      "text/plain": [
       "<Figure size 432x288 with 1 Axes>"
      ]
     },
     "metadata": {
      "needs_background": "light"
     },
     "output_type": "display_data"
    }
   ],
   "source": [
    "n = 1470\n",
    "print('神經網路預測: ', class_names[result[n]])\n",
    "plt.imshow(x_test[n].reshape(28,28), cmap = 'Greys');"
   ]
  },
  {
   "cell_type": "code",
   "execution_count": null,
   "metadata": {},
   "outputs": [],
   "source": []
  }
 ],
 "metadata": {
  "kernelspec": {
   "display_name": "Python 3",
   "language": "python",
   "name": "python3"
  },
  "language_info": {
   "codemirror_mode": {
    "name": "ipython",
    "version": 3
   },
   "file_extension": ".py",
   "mimetype": "text/x-python",
   "name": "python",
   "nbconvert_exporter": "python",
   "pygments_lexer": "ipython3",
   "version": "3.7.4"
  }
 },
 "nbformat": 4,
 "nbformat_minor": 2
}
