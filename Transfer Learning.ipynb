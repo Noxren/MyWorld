{
 "cells": [
  {
   "cell_type": "markdown",
   "metadata": {},
   "source": [
    "## 1.讀入套件與資料集"
   ]
  },
  {
   "cell_type": "code",
   "execution_count": 2,
   "metadata": {},
   "outputs": [],
   "source": [
    "%matplotlib inline\n",
    "\n",
    "import numpy as np\n",
    "import matplotlib.pyplot as plt\n",
    "import pandas as pd\n",
    "\n",
    "from tensorflow.keras.models import Sequential\n",
    "from tensorflow.keras.layers import Dense, Flatten\n",
    "\n",
    "from tensorflow.keras.layers import Conv2D, MaxPooling2D\n",
    "from tensorflow.keras.optimizers import SGD\n",
    "\n",
    "from tensorflow.keras.datasets import mnist\n",
    "from tensorflow.keras.datasets import fashion_mnist\n",
    "from tensorflow.keras.utils import to_categorical"
   ]
  },
  {
   "cell_type": "markdown",
   "metadata": {},
   "source": [
    "## 2.讀入mnist數據集並整理"
   ]
  },
  {
   "cell_type": "code",
   "execution_count": 3,
   "metadata": {},
   "outputs": [
    {
     "name": "stdout",
     "output_type": "stream",
     "text": [
      "Downloading data from https://storage.googleapis.com/tensorflow/tf-keras-datasets/mnist.npz\n",
      "11493376/11490434 [==============================] - 1s 0us/step\n"
     ]
    }
   ],
   "source": [
    "(x_train, y_train), (x_test, y_test) = mnist.load_data()\n",
    "\n",
    "x_train = x_train.reshape(60000, 28, 28, 1) / 255\n",
    "x_test = x_test.reshape(10000, 28, 28, 1) / 255\n",
    "\n",
    "y_train = to_categorical(y_train, 10)\n",
    "y_test = to_categorical(y_test, 10)"
   ]
  },
  {
   "cell_type": "markdown",
   "metadata": {},
   "source": [
    "## 3.建立CNN層和FC層並加到model_1"
   ]
  },
  {
   "cell_type": "code",
   "execution_count": 6,
   "metadata": {},
   "outputs": [],
   "source": [
    "CNN_layers = [Conv2D(20, (3, 3), padding = 'same', input_shape = (28, 28, 1), activation = 'relu'),\n",
    "             MaxPooling2D(pool_size = (2, 2)),\n",
    "             Conv2D(48, (3, 3), padding = 'same', activation = 'relu'),\n",
    "             MaxPooling2D(pool_size = (2, 2)),\n",
    "             Conv2D(82, (3, 3), padding = 'same', activation = 'relu'),\n",
    "             MaxPooling2D(pool_size = (2, 2))]\n",
    "\n",
    "FC_layers = [Flatten(),\n",
    "            Dense(52, activation = 'relu'),\n",
    "            Dense(10, activation = 'softmax')]"
   ]
  },
  {
   "cell_type": "code",
   "execution_count": 7,
   "metadata": {},
   "outputs": [
    {
     "name": "stdout",
     "output_type": "stream",
     "text": [
      "Model: \"sequential_1\"\n",
      "_________________________________________________________________\n",
      "Layer (type)                 Output Shape              Param #   \n",
      "=================================================================\n",
      "conv2d_3 (Conv2D)            (None, 28, 28, 20)        200       \n",
      "_________________________________________________________________\n",
      "max_pooling2d_3 (MaxPooling2 (None, 14, 14, 20)        0         \n",
      "_________________________________________________________________\n",
      "conv2d_4 (Conv2D)            (None, 14, 14, 48)        8688      \n",
      "_________________________________________________________________\n",
      "max_pooling2d_4 (MaxPooling2 (None, 7, 7, 48)          0         \n",
      "_________________________________________________________________\n",
      "conv2d_5 (Conv2D)            (None, 7, 7, 82)          35506     \n",
      "_________________________________________________________________\n",
      "max_pooling2d_5 (MaxPooling2 (None, 3, 3, 82)          0         \n",
      "_________________________________________________________________\n",
      "flatten (Flatten)            (None, 738)               0         \n",
      "_________________________________________________________________\n",
      "dense_2 (Dense)              (None, 52)                38428     \n",
      "_________________________________________________________________\n",
      "dense_3 (Dense)              (None, 10)                530       \n",
      "=================================================================\n",
      "Total params: 83,352\n",
      "Trainable params: 83,352\n",
      "Non-trainable params: 0\n",
      "_________________________________________________________________\n"
     ]
    }
   ],
   "source": [
    "model_1 = Sequential(CNN_layers + FC_layers)\n",
    "model_1.summary()"
   ]
  },
  {
   "cell_type": "markdown",
   "metadata": {},
   "source": [
    "## 4.用model_1訓練mnist"
   ]
  },
  {
   "cell_type": "code",
   "execution_count": 8,
   "metadata": {},
   "outputs": [
    {
     "name": "stdout",
     "output_type": "stream",
     "text": [
      "Train on 60000 samples, validate on 10000 samples\n",
      "Epoch 1/10\n",
      "60000/60000 [==============================] - 79s 1ms/sample - loss: 0.0899 - acc: 0.1326 - val_loss: 0.0897 - val_acc: 0.2389\n",
      "Epoch 2/10\n",
      "60000/60000 [==============================] - 74s 1ms/sample - loss: 0.0896 - acc: 0.2804 - val_loss: 0.0894 - val_acc: 0.3095\n",
      "Epoch 3/10\n",
      "60000/60000 [==============================] - 61s 1ms/sample - loss: 0.0892 - acc: 0.3327 - val_loss: 0.0890 - val_acc: 0.3546\n",
      "Epoch 4/10\n",
      "60000/60000 [==============================] - 71s 1ms/sample - loss: 0.0887 - acc: 0.3935 - val_loss: 0.0884 - val_acc: 0.4208\n",
      "Epoch 5/10\n",
      "60000/60000 [==============================] - 71s 1ms/sample - loss: 0.0879 - acc: 0.4517 - val_loss: 0.0873 - val_acc: 0.4543\n",
      "Epoch 6/10\n",
      "60000/60000 [==============================] - 71s 1ms/sample - loss: 0.0862 - acc: 0.4607 - val_loss: 0.0848 - val_acc: 0.4522\n",
      "Epoch 7/10\n",
      "60000/60000 [==============================] - 72s 1ms/sample - loss: 0.0811 - acc: 0.4557 - val_loss: 0.0749 - val_acc: 0.4792\n",
      "Epoch 8/10\n",
      "60000/60000 [==============================] - 72s 1ms/sample - loss: 0.0626 - acc: 0.5764 - val_loss: 0.0487 - val_acc: 0.7223\n",
      "Epoch 9/10\n",
      "60000/60000 [==============================] - 72s 1ms/sample - loss: 0.0377 - acc: 0.7769 - val_loss: 0.0284 - val_acc: 0.8272\n",
      "Epoch 10/10\n",
      "60000/60000 [==============================] - 72s 1ms/sample - loss: 0.0241 - acc: 0.8541 - val_loss: 0.0194 - val_acc: 0.8816\n"
     ]
    },
    {
     "data": {
      "text/plain": [
       "<tensorflow.python.keras.callbacks.History at 0x246e166b888>"
      ]
     },
     "execution_count": 8,
     "metadata": {},
     "output_type": "execute_result"
    }
   ],
   "source": [
    "model_1.compile(loss = 'mse', optimizer = SGD(lr = 0.025), metrics = ['accuracy'])\n",
    "model_1.fit(x_train, y_train, batch_size = 85, epochs = 10, validation_data = (x_test, y_test))"
   ]
  },
  {
   "cell_type": "markdown",
   "metadata": {},
   "source": [
    "## 5.查看model_1權重"
   ]
  },
  {
   "cell_type": "code",
   "execution_count": 12,
   "metadata": {},
   "outputs": [
    {
     "name": "stdout",
     "output_type": "stream",
     "text": [
      "60000/60000 [==============================] - 24s 404us/sample - loss: 0.0204 - acc: 0.8744s - ETA: 1s - \n",
      "10000/10000 [==============================] - 4s 388us/sample - loss: 0.0194 - acc: 0.8816\n",
      "Train Accuracy: 87.43833303451538\n",
      "Test Accuracy: 88.1600022315979\n"
     ]
    }
   ],
   "source": [
    "train_score = model_1.evaluate(x_train, y_train)\n",
    "test_score = model_1.evaluate(x_test, y_test)\n",
    "\n",
    "print(f'Train Accuracy: {train_score[1]*100}')\n",
    "print(f'Test Accuracy: {test_score[1]*100}')"
   ]
  },
  {
   "cell_type": "markdown",
   "metadata": {},
   "source": [
    "## 6.讀入fashion_mnist數據集並整理"
   ]
  },
  {
   "cell_type": "code",
   "execution_count": 10,
   "metadata": {},
   "outputs": [
    {
     "name": "stdout",
     "output_type": "stream",
     "text": [
      "Downloading data from https://storage.googleapis.com/tensorflow/tf-keras-datasets/train-labels-idx1-ubyte.gz\n",
      "32768/29515 [=================================] - 0s 0us/step\n",
      "Downloading data from https://storage.googleapis.com/tensorflow/tf-keras-datasets/train-images-idx3-ubyte.gz\n",
      "26427392/26421880 [==============================] - 2s 0us/step\n",
      "Downloading data from https://storage.googleapis.com/tensorflow/tf-keras-datasets/t10k-labels-idx1-ubyte.gz\n",
      "8192/5148 [===============================================] - 0s 0us/step\n",
      "Downloading data from https://storage.googleapis.com/tensorflow/tf-keras-datasets/t10k-images-idx3-ubyte.gz\n",
      "4423680/4422102 [==============================] - 1s 0us/step\n"
     ]
    }
   ],
   "source": [
    "(a_train, b_train), (a_test, b_test) = fashion_mnist.load_data()\n",
    "\n",
    "a_train = a_train.reshape(60000, 28, 28, 1) / 255\n",
    "a_test = a_test.reshape(10000, 28, 28, 1) / 255\n",
    "\n",
    "b_train = to_categorical(b_train, 10)\n",
    "b_test = to_categorical(b_test, 10)"
   ]
  },
  {
   "cell_type": "markdown",
   "metadata": {},
   "source": [
    "## 7.建立新的FC層，並建立新model加入原有CNN層與新FC層"
   ]
  },
  {
   "cell_type": "code",
   "execution_count": 13,
   "metadata": {},
   "outputs": [],
   "source": [
    "new_FC_layers = [Flatten(),\n",
    "                Dense(78, activation = 'relu'),\n",
    "                Dense(43, activation = 'relu'),\n",
    "                Dense(10, activation = 'softmax')]\n",
    "\n",
    "model_2 = Sequential(CNN_layers + new_FC_layers)"
   ]
  },
  {
   "cell_type": "markdown",
   "metadata": {},
   "source": [
    "## 8.將借來的CNN層Frozen"
   ]
  },
  {
   "cell_type": "code",
   "execution_count": 14,
   "metadata": {},
   "outputs": [
    {
     "name": "stdout",
     "output_type": "stream",
     "text": [
      "Model: \"sequential_3\"\n",
      "_________________________________________________________________\n",
      "Layer (type)                 Output Shape              Param #   \n",
      "=================================================================\n",
      "conv2d_3 (Conv2D)            (None, 28, 28, 20)        200       \n",
      "_________________________________________________________________\n",
      "max_pooling2d_3 (MaxPooling2 (None, 14, 14, 20)        0         \n",
      "_________________________________________________________________\n",
      "conv2d_4 (Conv2D)            (None, 14, 14, 48)        8688      \n",
      "_________________________________________________________________\n",
      "max_pooling2d_4 (MaxPooling2 (None, 7, 7, 48)          0         \n",
      "_________________________________________________________________\n",
      "conv2d_5 (Conv2D)            (None, 7, 7, 82)          35506     \n",
      "_________________________________________________________________\n",
      "max_pooling2d_5 (MaxPooling2 (None, 3, 3, 82)          0         \n",
      "_________________________________________________________________\n",
      "flatten_2 (Flatten)          (None, 738)               0         \n",
      "_________________________________________________________________\n",
      "dense_7 (Dense)              (None, 78)                57642     \n",
      "_________________________________________________________________\n",
      "dense_8 (Dense)              (None, 43)                3397      \n",
      "_________________________________________________________________\n",
      "dense_9 (Dense)              (None, 10)                440       \n",
      "=================================================================\n",
      "Total params: 105,873\n",
      "Trainable params: 61,479\n",
      "Non-trainable params: 44,394\n",
      "_________________________________________________________________\n"
     ]
    }
   ],
   "source": [
    "for layer in CNN_layers:\n",
    "    layer.trainable = False\n",
    "    \n",
    "model_2.summary()"
   ]
  },
  {
   "cell_type": "markdown",
   "metadata": {},
   "source": [
    "## 9.用model_2訓練mnist_fashion"
   ]
  },
  {
   "cell_type": "code",
   "execution_count": 15,
   "metadata": {},
   "outputs": [
    {
     "name": "stdout",
     "output_type": "stream",
     "text": [
      "Train on 60000 samples, validate on 10000 samples\n",
      "Epoch 1/10\n",
      "60000/60000 [==============================] - 26s 431us/sample - loss: 0.0674 - acc: 0.4799 - val_loss: 0.0522 - val_acc: 0.6203\n",
      "Epoch 2/10\n",
      "60000/60000 [==============================] - 24s 400us/sample - loss: 0.0470 - acc: 0.6551 - val_loss: 0.0445 - val_acc: 0.6739\n",
      "Epoch 3/10\n",
      "60000/60000 [==============================] - 24s 399us/sample - loss: 0.0424 - acc: 0.6948 - val_loss: 0.0422 - val_acc: 0.6883\n",
      "Epoch 4/10\n",
      "60000/60000 [==============================] - 24s 393us/sample - loss: 0.0397 - acc: 0.7171 - val_loss: 0.0393 - val_acc: 0.7251\n",
      "Epoch 5/10\n",
      "60000/60000 [==============================] - 24s 402us/sample - loss: 0.0378 - acc: 0.7319 - val_loss: 0.0376 - val_acc: 0.7259\n",
      "Epoch 6/10\n",
      "60000/60000 [==============================] - 25s 419us/sample - loss: 0.0363 - acc: 0.7402 - val_loss: 0.0363 - val_acc: 0.7443\n",
      "Epoch 7/10\n",
      "60000/60000 [==============================] - 24s 398us/sample - loss: 0.0351 - acc: 0.7495 - val_loss: 0.0364 - val_acc: 0.7372\n",
      "Epoch 8/10\n",
      "60000/60000 [==============================] - 25s 419us/sample - loss: 0.0342 - acc: 0.7570 - val_loss: 0.0361 - val_acc: 0.7335\n",
      "Epoch 9/10\n",
      "60000/60000 [==============================] - 24s 392us/sample - loss: 0.0334 - acc: 0.7615 - val_loss: 0.0339 - val_acc: 0.7596\n",
      "Epoch 10/10\n",
      "60000/60000 [==============================] - 24s 392us/sample - loss: 0.0327 - acc: 0.7672 - val_loss: 0.0334 - val_acc: 0.7560\n"
     ]
    },
    {
     "data": {
      "text/plain": [
       "<tensorflow.python.keras.callbacks.History at 0x246834e2e88>"
      ]
     },
     "execution_count": 15,
     "metadata": {},
     "output_type": "execute_result"
    }
   ],
   "source": [
    "model_2.compile(loss = 'mse', optimizer = SGD(lr = 0.033), metrics = ['accuracy'])\n",
    "model_2.fit(a_train, b_train, batch_size = 76, epochs = 10, validation_data = (a_test, b_test))"
   ]
  },
  {
   "cell_type": "markdown",
   "metadata": {},
   "source": [
    "## 10.查看model_1權重是否有改變"
   ]
  },
  {
   "cell_type": "code",
   "execution_count": 16,
   "metadata": {},
   "outputs": [
    {
     "name": "stdout",
     "output_type": "stream",
     "text": [
      "60000/60000 [==============================] - 22s 364us/sample - loss: 0.0204 - acc: 0.8744\n",
      "10000/10000 [==============================] - 4s 370us/sample - loss: 0.0194 - acc: 0.8816\n",
      "Train Accuracy: 87.43833303451538\n",
      "Test Accuracy: 88.1600022315979\n"
     ]
    }
   ],
   "source": [
    "train_score = model_1.evaluate(x_train, y_train)\n",
    "test_score = model_1.evaluate(x_test, y_test)\n",
    "\n",
    "print(f'Train Accuracy: {train_score[1]*100}')\n",
    "print(f'Test Accuracy: {test_score[1]*100}')"
   ]
  },
  {
   "cell_type": "markdown",
   "metadata": {},
   "source": [
    "### ----沒有改變"
   ]
  },
  {
   "cell_type": "code",
   "execution_count": null,
   "metadata": {},
   "outputs": [],
   "source": []
  }
 ],
 "metadata": {
  "kernelspec": {
   "display_name": "Python 3",
   "language": "python",
   "name": "python3"
  },
  "language_info": {
   "codemirror_mode": {
    "name": "ipython",
    "version": 3
   },
   "file_extension": ".py",
   "mimetype": "text/x-python",
   "name": "python",
   "nbconvert_exporter": "python",
   "pygments_lexer": "ipython3",
   "version": "3.7.6"
  }
 },
 "nbformat": 4,
 "nbformat_minor": 4
}
