{
 "cells": [
  {
   "cell_type": "code",
   "execution_count": 3,
   "metadata": {},
   "outputs": [],
   "source": [
    "%matplotlib inline\n",
    "import numpy as np\n",
    "import matplotlib.pyplot as plt\n",
    "import pandas as pd"
   ]
  },
  {
   "cell_type": "code",
   "execution_count": 4,
   "metadata": {},
   "outputs": [],
   "source": [
    "train_set = pd.read_hdf(\"train_set0517.h5\")\n",
    "test_set = pd.read_hdf(\"test_set0517.h5\")"
   ]
  },
  {
   "cell_type": "code",
   "execution_count": 5,
   "metadata": {},
   "outputs": [],
   "source": [
    "x_train_data = train_set[['YEAR', 'MONTH', 'DAY', 'TMAX', 'TMIN', 'TAVG', 'PRCP']]\n",
    "x_train_data = x_train_data.drop(x_train_data.index[-1])\n",
    "x_test_data = test_set[['YEAR', 'MONTH', 'DAY', 'TMAX', 'TMIN', 'TAVG', 'PRCP']]\n",
    "x_test_data = x_test_data.drop(x_test_data.index[-1])"
   ]
  },
  {
   "cell_type": "code",
   "execution_count": 6,
   "metadata": {},
   "outputs": [
    {
     "name": "stderr",
     "output_type": "stream",
     "text": [
      "D:\\python\\lib\\site-packages\\tensorflow\\python\\framework\\dtypes.py:516: FutureWarning: Passing (type, 1) or '1type' as a synonym of type is deprecated; in a future version of numpy, it will be understood as (type, (1,)) / '(1,)type'.\n",
      "  _np_qint8 = np.dtype([(\"qint8\", np.int8, 1)])\n",
      "D:\\python\\lib\\site-packages\\tensorflow\\python\\framework\\dtypes.py:517: FutureWarning: Passing (type, 1) or '1type' as a synonym of type is deprecated; in a future version of numpy, it will be understood as (type, (1,)) / '(1,)type'.\n",
      "  _np_quint8 = np.dtype([(\"quint8\", np.uint8, 1)])\n",
      "D:\\python\\lib\\site-packages\\tensorflow\\python\\framework\\dtypes.py:518: FutureWarning: Passing (type, 1) or '1type' as a synonym of type is deprecated; in a future version of numpy, it will be understood as (type, (1,)) / '(1,)type'.\n",
      "  _np_qint16 = np.dtype([(\"qint16\", np.int16, 1)])\n",
      "D:\\python\\lib\\site-packages\\tensorflow\\python\\framework\\dtypes.py:519: FutureWarning: Passing (type, 1) or '1type' as a synonym of type is deprecated; in a future version of numpy, it will be understood as (type, (1,)) / '(1,)type'.\n",
      "  _np_quint16 = np.dtype([(\"quint16\", np.uint16, 1)])\n",
      "D:\\python\\lib\\site-packages\\tensorflow\\python\\framework\\dtypes.py:520: FutureWarning: Passing (type, 1) or '1type' as a synonym of type is deprecated; in a future version of numpy, it will be understood as (type, (1,)) / '(1,)type'.\n",
      "  _np_qint32 = np.dtype([(\"qint32\", np.int32, 1)])\n",
      "D:\\python\\lib\\site-packages\\tensorflow\\python\\framework\\dtypes.py:525: FutureWarning: Passing (type, 1) or '1type' as a synonym of type is deprecated; in a future version of numpy, it will be understood as (type, (1,)) / '(1,)type'.\n",
      "  np_resource = np.dtype([(\"resource\", np.ubyte, 1)])\n",
      "D:\\python\\lib\\site-packages\\tensorboard\\compat\\tensorflow_stub\\dtypes.py:541: FutureWarning: Passing (type, 1) or '1type' as a synonym of type is deprecated; in a future version of numpy, it will be understood as (type, (1,)) / '(1,)type'.\n",
      "  _np_qint8 = np.dtype([(\"qint8\", np.int8, 1)])\n",
      "D:\\python\\lib\\site-packages\\tensorboard\\compat\\tensorflow_stub\\dtypes.py:542: FutureWarning: Passing (type, 1) or '1type' as a synonym of type is deprecated; in a future version of numpy, it will be understood as (type, (1,)) / '(1,)type'.\n",
      "  _np_quint8 = np.dtype([(\"quint8\", np.uint8, 1)])\n",
      "D:\\python\\lib\\site-packages\\tensorboard\\compat\\tensorflow_stub\\dtypes.py:543: FutureWarning: Passing (type, 1) or '1type' as a synonym of type is deprecated; in a future version of numpy, it will be understood as (type, (1,)) / '(1,)type'.\n",
      "  _np_qint16 = np.dtype([(\"qint16\", np.int16, 1)])\n",
      "D:\\python\\lib\\site-packages\\tensorboard\\compat\\tensorflow_stub\\dtypes.py:544: FutureWarning: Passing (type, 1) or '1type' as a synonym of type is deprecated; in a future version of numpy, it will be understood as (type, (1,)) / '(1,)type'.\n",
      "  _np_quint16 = np.dtype([(\"quint16\", np.uint16, 1)])\n",
      "D:\\python\\lib\\site-packages\\tensorboard\\compat\\tensorflow_stub\\dtypes.py:545: FutureWarning: Passing (type, 1) or '1type' as a synonym of type is deprecated; in a future version of numpy, it will be understood as (type, (1,)) / '(1,)type'.\n",
      "  _np_qint32 = np.dtype([(\"qint32\", np.int32, 1)])\n",
      "D:\\python\\lib\\site-packages\\tensorboard\\compat\\tensorflow_stub\\dtypes.py:550: FutureWarning: Passing (type, 1) or '1type' as a synonym of type is deprecated; in a future version of numpy, it will be understood as (type, (1,)) / '(1,)type'.\n",
      "  np_resource = np.dtype([(\"resource\", np.ubyte, 1)])\n"
     ]
    }
   ],
   "source": [
    "from tensorflow.keras import backend as K"
   ]
  },
  {
   "cell_type": "code",
   "execution_count": 7,
   "metadata": {},
   "outputs": [],
   "source": [
    "x_train = K.cast_to_floatx(x_train_data.values.reshape((x_train_data.shape[0], 1, x_train_data.shape[1])))\n",
    "x_test = K.cast_to_floatx(x_test_data.values.reshape((x_test_data.shape[0], 1, x_test_data.shape[1])))"
   ]
  },
  {
   "cell_type": "code",
   "execution_count": 10,
   "metadata": {},
   "outputs": [],
   "source": [
    "y_train_TAVG_data = train_set[['TAVG_Interval']].astype(int)\n",
    "y_train_TAVG = y_train_TAVG_data.drop(y_train_TAVG_data.index[0])\n",
    "\n",
    "y_test_TAVG_data = test_set[['TAVG_Interval']].astype(int)\n",
    "y_test_TAVG = y_test_TAVG_data.drop(y_test_TAVG_data.index[0])"
   ]
  },
  {
   "cell_type": "code",
   "execution_count": 9,
   "metadata": {},
   "outputs": [],
   "source": [
    "from tensorflow.keras.models import Sequential\n",
    "from tensorflow.keras.layers import Dense\n",
    "from tensorflow.keras.layers import GRU"
   ]
  },
  {
   "cell_type": "code",
   "execution_count": 11,
   "metadata": {},
   "outputs": [
    {
     "name": "stdout",
     "output_type": "stream",
     "text": [
      "WARNING:tensorflow:From D:\\python\\lib\\site-packages\\tensorflow\\python\\ops\\init_ops.py:1251: calling VarianceScaling.__init__ (from tensorflow.python.ops.init_ops) with dtype is deprecated and will be removed in a future version.\n",
      "Instructions for updating:\n",
      "Call initializer instance with the dtype argument instead of passing it to the constructor\n",
      "Model: \"sequential\"\n",
      "_________________________________________________________________\n",
      "Layer (type)                 Output Shape              Param #   \n",
      "=================================================================\n",
      "gru (GRU)                    (None, 256)               202752    \n",
      "_________________________________________________________________\n",
      "dense (Dense)                (None, 100)               25700     \n",
      "_________________________________________________________________\n",
      "dense_1 (Dense)              (None, 80)                8080      \n",
      "=================================================================\n",
      "Total params: 236,532\n",
      "Trainable params: 236,532\n",
      "Non-trainable params: 0\n",
      "_________________________________________________________________\n"
     ]
    }
   ],
   "source": [
    "TAVG_model = Sequential()\n",
    "TAVG_model.add(GRU(256, dropout = 0.25, recurrent_dropout = 0.25, input_shape = (\n",
    "    x_train.shape[1], x_train.shape[2])))\n",
    "TAVG_model.add(Dense(100, activation = 'relu'))\n",
    "TAVG_model.add(Dense(80, activation = 'sigmoid'))\n",
    "TAVG_model.compile(loss = 'sparse_categorical_crossentropy', optimizer = 'adam', metrics = ['accuracy'])\n",
    "TAVG_model.summary()"
   ]
  },
  {
   "cell_type": "code",
   "execution_count": 12,
   "metadata": {},
   "outputs": [
    {
     "name": "stdout",
     "output_type": "stream",
     "text": [
      "Train on 4060570 samples, validate on 414830 samples\n",
      "WARNING:tensorflow:From D:\\python\\lib\\site-packages\\tensorflow\\python\\ops\\math_grad.py:1250: add_dispatch_support.<locals>.wrapper (from tensorflow.python.ops.array_ops) is deprecated and will be removed in a future version.\n",
      "Instructions for updating:\n",
      "Use tf.where in 2.0, which has the same broadcast rule as np.where\n",
      "Epoch 1/20\n",
      "4060570/4060570 [==============================] - 526s 130us/sample - loss: 0.4618 - acc: 0.8231 - val_loss: 0.6243 - val_acc: 0.7669\n",
      "Epoch 2/20\n",
      "4060570/4060570 [==============================] - 503s 124us/sample - loss: 0.3993 - acc: 0.8429 - val_loss: 0.4789 - val_acc: 0.8232\n",
      "Epoch 3/20\n",
      "4060570/4060570 [==============================] - 505s 124us/sample - loss: 0.3665 - acc: 0.8567 - val_loss: 0.4628 - val_acc: 0.8264\n",
      "Epoch 4/20\n",
      "4060570/4060570 [==============================] - 510s 126us/sample - loss: 0.3587 - acc: 0.8591 - val_loss: 0.4629 - val_acc: 0.8232\n",
      "Epoch 5/20\n",
      "4060570/4060570 [==============================] - 512s 126us/sample - loss: 0.3533 - acc: 0.8614 - val_loss: 0.4901 - val_acc: 0.8216\n",
      "Epoch 6/20\n",
      "4060570/4060570 [==============================] - 501s 123us/sample - loss: 0.3506 - acc: 0.8624 - val_loss: 0.4866 - val_acc: 0.8147\n",
      "Epoch 7/20\n",
      "4060570/4060570 [==============================] - 505s 124us/sample - loss: 0.3500 - acc: 0.8632 - val_loss: 0.4658 - val_acc: 0.8061\n",
      "Epoch 8/20\n",
      "4060570/4060570 [==============================] - 502s 124us/sample - loss: 0.3454 - acc: 0.8645 - val_loss: 0.4464 - val_acc: 0.8203\n",
      "Epoch 9/20\n",
      "4060570/4060570 [==============================] - 500s 123us/sample - loss: 0.3422 - acc: 0.8661 - val_loss: 0.4443 - val_acc: 0.8270\n",
      "Epoch 10/20\n",
      "4060570/4060570 [==============================] - 502s 124us/sample - loss: 0.3379 - acc: 0.8677 - val_loss: 0.4537 - val_acc: 0.8340\n",
      "Epoch 11/20\n",
      "4060570/4060570 [==============================] - 510s 126us/sample - loss: 0.3324 - acc: 0.8704 - val_loss: 0.4700 - val_acc: 0.8331\n",
      "Epoch 12/20\n",
      "4060570/4060570 [==============================] - 506s 125us/sample - loss: 0.3310 - acc: 0.8709 - val_loss: 0.4513 - val_acc: 0.8273\n",
      "Epoch 13/20\n",
      "4060570/4060570 [==============================] - 548s 135us/sample - loss: 0.3278 - acc: 0.8720 - val_loss: 0.4420 - val_acc: 0.8289\n",
      "Epoch 14/20\n",
      "4060570/4060570 [==============================] - 527s 130us/sample - loss: 0.3260 - acc: 0.8732 - val_loss: 0.4353 - val_acc: 0.8285\n",
      "Epoch 15/20\n",
      "4060570/4060570 [==============================] - 507s 125us/sample - loss: 0.3230 - acc: 0.8747 - val_loss: 0.4572 - val_acc: 0.8185\n",
      "Epoch 16/20\n",
      "4060570/4060570 [==============================] - 494s 122us/sample - loss: 0.3227 - acc: 0.8748 - val_loss: 0.4392 - val_acc: 0.8328\n",
      "Epoch 17/20\n",
      "4060570/4060570 [==============================] - 514s 127us/sample - loss: 0.3245 - acc: 0.8743 - val_loss: 0.4567 - val_acc: 0.8171\n",
      "Epoch 18/20\n",
      "4060570/4060570 [==============================] - 524s 129us/sample - loss: 0.3209 - acc: 0.8754 - val_loss: 0.4808 - val_acc: 0.8248\n",
      "Epoch 19/20\n",
      "4060570/4060570 [==============================] - 521s 128us/sample - loss: 0.3196 - acc: 0.8760 - val_loss: 0.4546 - val_acc: 0.8410\n",
      "Epoch 20/20\n",
      "4060570/4060570 [==============================] - 503s 124us/sample - loss: 0.3182 - acc: 0.8773 - val_loss: 0.4366 - val_acc: 0.8339\n"
     ]
    }
   ],
   "source": [
    "history = TAVG_model.fit(x_train, y_train_TAVG, batch_size = 50, epochs = 20, validation_data = (x_test, y_test_TAVG))"
   ]
  },
  {
   "cell_type": "code",
   "execution_count": 13,
   "metadata": {},
   "outputs": [
    {
     "data": {
      "image/png": "[encoded data removed]",
      "text/plain": [
       "<Figure size 432x288 with 1 Axes>"
      ]
     },
     "metadata": {
      "needs_background": "light"
     },
     "output_type": "display_data"
    },
    {
     "data": {
      "image/png": "[encoded data removed]",
      "text/plain": [
       "<Figure size 432x288 with 1 Axes>"
      ]
     },
     "metadata": {
      "needs_background": "light"
     },
     "output_type": "display_data"
    }
   ],
   "source": [
    "plt.plot(history.history['acc'])\n",
    "plt.plot(history.history['val_acc'])\n",
    "plt.title('model accuracy')\n",
    "plt.xlabel('epoch')\n",
    "plt.ylabel('accuracy')\n",
    "plt.legend(['train', 'validation'], loc='upper left')\n",
    "plt.show()\n",
    "\n",
    "plt.plot(history.history['loss'])\n",
    "plt.plot(history.history['val_loss'])\n",
    "plt.title('model loss')\n",
    "plt.xlabel('epoch')\n",
    "plt.ylabel('loss')\n",
    "plt.legend(['train', 'validation'], loc='upper left')\n",
    "plt.show()"
   ]
  },
  {
   "cell_type": "code",
   "execution_count": 14,
   "metadata": {},
   "outputs": [],
   "source": [
    "TAVG_model.save_weights('TAVG_model.h5')"
   ]
  },
  {
   "cell_type": "code",
   "execution_count": null,
   "metadata": {},
   "outputs": [],
   "source": []
  }
 ],
 "metadata": {
  "kernelspec": {
   "display_name": "Python 3",
   "language": "python",
   "name": "python3"
  },
  "language_info": {
   "codemirror_mode": {
    "name": "ipython",
    "version": 3
   },
   "file_extension": ".py",
   "mimetype": "text/x-python",
   "name": "python",
   "nbconvert_exporter": "python",
   "pygments_lexer": "ipython3",
   "version": "3.7.6"
  }
 },
 "nbformat": 4,
 "nbformat_minor": 4
}
