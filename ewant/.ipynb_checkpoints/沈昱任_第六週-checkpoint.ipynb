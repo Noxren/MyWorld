{
 "cells": [
  {
   "cell_type": "code",
   "execution_count": 3,
   "metadata": {},
   "outputs": [],
   "source": [
    "%matplotlib inline\n",
    "import numpy as np\n",
    "import matplotlib.pyplot as plt\n",
    "import pandas as pd"
   ]
  },
  {
   "cell_type": "code",
   "execution_count": 4,
   "metadata": {},
   "outputs": [
    {
     "name": "stderr",
     "output_type": "stream",
     "text": [
      "D:\\python\\lib\\site-packages\\pandas_datareader\\compat\\__init__.py:7: FutureWarning: pandas.util.testing is deprecated. Use the functions in the public API at pandas.testing instead.\n",
      "  from pandas.util.testing import assert_frame_equal\n"
     ]
    }
   ],
   "source": [
    "import pandas_datareader.data as web"
   ]
  },
  {
   "cell_type": "code",
   "execution_count": 5,
   "metadata": {},
   "outputs": [],
   "source": [
    "df = web.DataReader(\"AAPL\", \"yahoo\")"
   ]
  },
  {
   "cell_type": "code",
   "execution_count": 14,
   "metadata": {},
   "outputs": [
    {
     "data": {
      "text/html": [
       "<div>\n",
       "<style scoped>\n",
       "    .dataframe tbody tr th:only-of-type {\n",
       "        vertical-align: middle;\n",
       "    }\n",
       "\n",
       "    .dataframe tbody tr th {\n",
       "        vertical-align: top;\n",
       "    }\n",
       "\n",
       "    .dataframe thead th {\n",
       "        text-align: right;\n",
       "    }\n",
       "</style>\n",
       "<table border=\"1\" class=\"dataframe\">\n",
       "  <thead>\n",
       "    <tr style=\"text-align: right;\">\n",
       "      <th></th>\n",
       "      <th>High</th>\n",
       "      <th>Low</th>\n",
       "      <th>Open</th>\n",
       "      <th>Close</th>\n",
       "      <th>Volume</th>\n",
       "      <th>Adj Close</th>\n",
       "    </tr>\n",
       "    <tr>\n",
       "      <th>Date</th>\n",
       "      <th></th>\n",
       "      <th></th>\n",
       "      <th></th>\n",
       "      <th></th>\n",
       "      <th></th>\n",
       "      <th></th>\n",
       "    </tr>\n",
       "  </thead>\n",
       "  <tbody>\n",
       "    <tr>\n",
       "      <th>2019-03-04</th>\n",
       "      <td>177.750000</td>\n",
       "      <td>173.970001</td>\n",
       "      <td>175.690002</td>\n",
       "      <td>175.850006</td>\n",
       "      <td>27436200.0</td>\n",
       "      <td>173.109436</td>\n",
       "    </tr>\n",
       "    <tr>\n",
       "      <th>2019-03-05</th>\n",
       "      <td>176.000000</td>\n",
       "      <td>174.539993</td>\n",
       "      <td>175.940002</td>\n",
       "      <td>175.529999</td>\n",
       "      <td>19737400.0</td>\n",
       "      <td>172.794403</td>\n",
       "    </tr>\n",
       "    <tr>\n",
       "      <th>2019-03-06</th>\n",
       "      <td>175.490005</td>\n",
       "      <td>173.940002</td>\n",
       "      <td>174.669998</td>\n",
       "      <td>174.520004</td>\n",
       "      <td>20810400.0</td>\n",
       "      <td>171.800171</td>\n",
       "    </tr>\n",
       "    <tr>\n",
       "      <th>2019-03-07</th>\n",
       "      <td>174.440002</td>\n",
       "      <td>172.020004</td>\n",
       "      <td>173.869995</td>\n",
       "      <td>172.500000</td>\n",
       "      <td>24796400.0</td>\n",
       "      <td>169.811646</td>\n",
       "    </tr>\n",
       "    <tr>\n",
       "      <th>2019-03-08</th>\n",
       "      <td>173.070007</td>\n",
       "      <td>169.500000</td>\n",
       "      <td>170.320007</td>\n",
       "      <td>172.910004</td>\n",
       "      <td>23999400.0</td>\n",
       "      <td>170.215256</td>\n",
       "    </tr>\n",
       "    <tr>\n",
       "      <th>...</th>\n",
       "      <td>...</td>\n",
       "      <td>...</td>\n",
       "      <td>...</td>\n",
       "      <td>...</td>\n",
       "      <td>...</td>\n",
       "      <td>...</td>\n",
       "    </tr>\n",
       "    <tr>\n",
       "      <th>2020-05-04</th>\n",
       "      <td>293.690002</td>\n",
       "      <td>286.320007</td>\n",
       "      <td>289.170013</td>\n",
       "      <td>293.160004</td>\n",
       "      <td>33392000.0</td>\n",
       "      <td>292.368561</td>\n",
       "    </tr>\n",
       "    <tr>\n",
       "      <th>2020-05-05</th>\n",
       "      <td>301.000000</td>\n",
       "      <td>294.459991</td>\n",
       "      <td>295.059998</td>\n",
       "      <td>297.559998</td>\n",
       "      <td>36937800.0</td>\n",
       "      <td>296.756683</td>\n",
       "    </tr>\n",
       "    <tr>\n",
       "      <th>2020-05-06</th>\n",
       "      <td>303.239990</td>\n",
       "      <td>298.869995</td>\n",
       "      <td>300.459991</td>\n",
       "      <td>300.630005</td>\n",
       "      <td>35583400.0</td>\n",
       "      <td>299.818390</td>\n",
       "    </tr>\n",
       "    <tr>\n",
       "      <th>2020-05-07</th>\n",
       "      <td>305.170013</td>\n",
       "      <td>301.970001</td>\n",
       "      <td>303.220001</td>\n",
       "      <td>303.739990</td>\n",
       "      <td>28803800.0</td>\n",
       "      <td>302.919983</td>\n",
       "    </tr>\n",
       "    <tr>\n",
       "      <th>2020-05-08</th>\n",
       "      <td>310.350006</td>\n",
       "      <td>304.290009</td>\n",
       "      <td>305.640015</td>\n",
       "      <td>310.130005</td>\n",
       "      <td>33459600.0</td>\n",
       "      <td>310.130005</td>\n",
       "    </tr>\n",
       "  </tbody>\n",
       "</table>\n",
       "<p>300 rows × 6 columns</p>\n",
       "</div>"
      ],
      "text/plain": [
       "                  High         Low        Open       Close      Volume  \\\n",
       "Date                                                                     \n",
       "2019-03-04  177.750000  173.970001  175.690002  175.850006  27436200.0   \n",
       "2019-03-05  176.000000  174.539993  175.940002  175.529999  19737400.0   \n",
       "2019-03-06  175.490005  173.940002  174.669998  174.520004  20810400.0   \n",
       "2019-03-07  174.440002  172.020004  173.869995  172.500000  24796400.0   \n",
       "2019-03-08  173.070007  169.500000  170.320007  172.910004  23999400.0   \n",
       "...                ...         ...         ...         ...         ...   \n",
       "2020-05-04  293.690002  286.320007  289.170013  293.160004  33392000.0   \n",
       "2020-05-05  301.000000  294.459991  295.059998  297.559998  36937800.0   \n",
       "2020-05-06  303.239990  298.869995  300.459991  300.630005  35583400.0   \n",
       "2020-05-07  305.170013  301.970001  303.220001  303.739990  28803800.0   \n",
       "2020-05-08  310.350006  304.290009  305.640015  310.130005  33459600.0   \n",
       "\n",
       "             Adj Close  \n",
       "Date                    \n",
       "2019-03-04  173.109436  \n",
       "2019-03-05  172.794403  \n",
       "2019-03-06  171.800171  \n",
       "2019-03-07  169.811646  \n",
       "2019-03-08  170.215256  \n",
       "...                ...  \n",
       "2020-05-04  292.368561  \n",
       "2020-05-05  296.756683  \n",
       "2020-05-06  299.818390  \n",
       "2020-05-07  302.919983  \n",
       "2020-05-08  310.130005  \n",
       "\n",
       "[300 rows x 6 columns]"
      ]
     },
     "execution_count": 14,
     "metadata": {},
     "output_type": "execute_result"
    }
   ],
   "source": [
    "df1 = df.tail(300)\n",
    "df1"
   ]
  },
  {
   "cell_type": "code",
   "execution_count": 21,
   "metadata": {},
   "outputs": [],
   "source": [
    "close = np.array(df1[\"Close\"])"
   ]
  },
  {
   "cell_type": "code",
   "execution_count": 23,
   "metadata": {},
   "outputs": [],
   "source": [
    "X = close[:299]\n",
    "Y = close[1:]"
   ]
  },
  {
   "cell_type": "code",
   "execution_count": 24,
   "metadata": {},
   "outputs": [],
   "source": [
    "from sklearn.model_selection import train_test_split"
   ]
  },
  {
   "cell_type": "code",
   "execution_count": 26,
   "metadata": {},
   "outputs": [],
   "source": [
    "x_train, x_test, y_train, y_test = train_test_split(X, Y, test_size = 0.2, random_state = 1)"
   ]
  },
  {
   "cell_type": "code",
   "execution_count": 31,
   "metadata": {},
   "outputs": [],
   "source": [
    "x_train = x_train.reshape(239,1)\n",
    "x_test = x_test.reshape(60,1)"
   ]
  },
  {
   "cell_type": "code",
   "execution_count": 32,
   "metadata": {},
   "outputs": [],
   "source": [
    "from sklearn.linear_model import LinearRegression"
   ]
  },
  {
   "cell_type": "code",
   "execution_count": 33,
   "metadata": {},
   "outputs": [],
   "source": [
    "regr = LinearRegression()"
   ]
  },
  {
   "cell_type": "code",
   "execution_count": 34,
   "metadata": {},
   "outputs": [
    {
     "data": {
      "text/plain": [
       "LinearRegression(copy_X=True, fit_intercept=True, n_jobs=None, normalize=False)"
      ]
     },
     "execution_count": 34,
     "metadata": {},
     "output_type": "execute_result"
    }
   ],
   "source": [
    "regr.fit(x_train, y_train)"
   ]
  },
  {
   "cell_type": "code",
   "execution_count": 36,
   "metadata": {},
   "outputs": [
    {
     "data": {
      "text/plain": [
       "[<matplotlib.lines.Line2D at 0x21ab2e97e08>]"
      ]
     },
     "execution_count": 36,
     "metadata": {},
     "output_type": "execute_result"
    },
    {
     "data": {
      "image/png": "[encoded data removed]",
      "text/plain": [
       "<Figure size 432x288 with 1 Axes>"
      ]
     },
     "metadata": {
      "needs_background": "light"
     },
     "output_type": "display_data"
    }
   ],
   "source": [
    "plt.scatter(x_train, y_train)\n",
    "plt.plot(x_train, regr.predict(x_train),'r')"
   ]
  },
  {
   "cell_type": "code",
   "execution_count": null,
   "metadata": {},
   "outputs": [],
   "source": []
  }
 ],
 "metadata": {
  "kernelspec": {
   "display_name": "Python 3",
   "language": "python",
   "name": "python3"
  },
  "language_info": {
   "codemirror_mode": {
    "name": "ipython",
    "version": 3
   },
   "file_extension": ".py",
   "mimetype": "text/x-python",
   "name": "python",
   "nbconvert_exporter": "python",
   "pygments_lexer": "ipython3",
   "version": "3.7.4"
  }
 },
 "nbformat": 4,
 "nbformat_minor": 2
}
