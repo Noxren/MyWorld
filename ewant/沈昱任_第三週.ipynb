{
 "cells": [
  {
   "cell_type": "code",
   "execution_count": 1,
   "metadata": {},
   "outputs": [],
   "source": [
    "%matplotlib inline\n",
    "import numpy as np\n",
    "import matplotlib.pyplot as plt"
   ]
  },
  {
   "cell_type": "markdown",
   "metadata": {},
   "source": [
    "## 第一題"
   ]
  },
  {
   "cell_type": "code",
   "execution_count": 3,
   "metadata": {},
   "outputs": [],
   "source": [
    "A = np.random.randint(100, size = (10, 5))\n",
    "B = np.random.randint(100, size = (10, 5))\n",
    "C = np.random.randint(100, size = (10, 5))"
   ]
  },
  {
   "cell_type": "code",
   "execution_count": 4,
   "metadata": {},
   "outputs": [],
   "source": [
    "weights = np.array([0.25, 0.25, 0.25, 0.25, 0.10])"
   ]
  },
  {
   "cell_type": "code",
   "execution_count": 11,
   "metadata": {},
   "outputs": [],
   "source": [
    "A_avg = sum(np.dot(A, weights)) / 10\n",
    "B_avg = sum(np.dot(B, weights)) / 10\n",
    "C_avg = sum(np.dot(C, weights)) / 10"
   ]
  },
  {
   "cell_type": "code",
   "execution_count": 12,
   "metadata": {},
   "outputs": [
    {
     "data": {
      "text/plain": [
       "array([64.19 , 49.345, 55.635])"
      ]
     },
     "execution_count": 12,
     "metadata": {},
     "output_type": "execute_result"
    }
   ],
   "source": [
    "class_avg = np.array([A_avg, B_avg, C_avg])\n",
    "class_avg"
   ]
  },
  {
   "cell_type": "markdown",
   "metadata": {},
   "source": [
    "## 第二題"
   ]
  },
  {
   "cell_type": "code",
   "execution_count": 26,
   "metadata": {},
   "outputs": [
    {
     "data": {
      "text/plain": [
       "array([11, 16, 11, 38, 88, 68, 92, 42, 64,  7, 46, 19, 55, 79, 47, 68, 87,\n",
       "       25, 69, 95,  6, 99, 49, 61, 94, 12, 59, 90, 68, 83, 30, 47, 91, 60,\n",
       "       36, 15, 62,  5, 16,  9])"
      ]
     },
     "execution_count": 26,
     "metadata": {},
     "output_type": "execute_result"
    }
   ],
   "source": [
    "score = np.random.randint(100, size = 40)\n",
    "score"
   ]
  },
  {
   "cell_type": "code",
   "execution_count": 27,
   "metadata": {},
   "outputs": [
    {
     "name": "stdout",
     "output_type": "stream",
     "text": [
      "最高分:  99\n",
      "最低分:  5\n",
      "及格人數:  18\n",
      "平均數:  50.475\n",
      "標準差:  30.033304430248762\n"
     ]
    }
   ],
   "source": [
    "print(\"最高分: \", score.max())\n",
    "print(\"最低分: \", score.min())\n",
    "print(\"及格人數: \", len(score[score>=60]))\n",
    "print(\"平均數: \", score.mean())\n",
    "print(\"標準差: \", score.std())"
   ]
  },
  {
   "cell_type": "code",
   "execution_count": 28,
   "metadata": {},
   "outputs": [
    {
     "data": {
      "text/plain": [
       "(array([4., 7., 1., 3., 5., 2., 8., 1., 3., 6.]),\n",
       " array([  0,  10,  20,  30,  40,  50,  60,  70,  80,  90, 100]),\n",
       " <a list of 10 Patch objects>)"
      ]
     },
     "execution_count": 28,
     "metadata": {},
     "output_type": "execute_result"
    },
    {
     "data": {
      "image/png": "[encoded data removed]",
      "text/plain": [
       "<Figure size 432x288 with 1 Axes>"
      ]
     },
     "metadata": {
      "needs_background": "light"
     },
     "output_type": "display_data"
    }
   ],
   "source": [
    "bins = [i for i in range(0, 100+1, 10)]\n",
    "plt.hist(score, bins = bins)"
   ]
  },
  {
   "cell_type": "markdown",
   "metadata": {},
   "source": [
    "## 挑戰題一"
   ]
  },
  {
   "cell_type": "code",
   "execution_count": 45,
   "metadata": {},
   "outputs": [],
   "source": [
    "def calculus_score(array):\n",
    "    score1_weights = np.array([0.2, 0.35, 0.45])\n",
    "    score2_weights = np.array([0, 0.4, 0.6])\n",
    "    last_score = np.zeros((3,30,1))\n",
    "    for i in range(3):\n",
    "        for j in range(30):\n",
    "             score1 = np.dot(array[i, j, :], score1_weights)\n",
    "             score2 = np.dot(array[i, j, :], score2_weights)\n",
    "             if score1 > score2:\n",
    "                 last_score[i, j, 0] = score1\n",
    "             else:\n",
    "                 last_score[i, j, 0] = score2\n",
    "    return last_score"
   ]
  },
  {
   "cell_type": "code",
   "execution_count": 50,
   "metadata": {},
   "outputs": [
    {
     "data": {
      "text/plain": [
       "array([[[64.45],\n",
       "        [69.6 ],\n",
       "        [65.2 ],\n",
       "        [48.6 ],\n",
       "        [77.2 ],\n",
       "        [50.2 ],\n",
       "        [32.25],\n",
       "        [36.4 ],\n",
       "        [67.  ],\n",
       "        [78.  ],\n",
       "        [62.  ],\n",
       "        [63.8 ],\n",
       "        [71.2 ],\n",
       "        [60.95],\n",
       "        [20.35],\n",
       "        [45.55],\n",
       "        [59.2 ],\n",
       "        [71.6 ],\n",
       "        [73.2 ],\n",
       "        [44.9 ],\n",
       "        [37.8 ],\n",
       "        [58.4 ],\n",
       "        [50.8 ],\n",
       "        [67.8 ],\n",
       "        [28.2 ],\n",
       "        [76.2 ],\n",
       "        [65.95],\n",
       "        [29.45],\n",
       "        [43.8 ],\n",
       "        [53.2 ]],\n",
       "\n",
       "       [[51.8 ],\n",
       "        [45.2 ],\n",
       "        [57.1 ],\n",
       "        [53.6 ],\n",
       "        [68.6 ],\n",
       "        [77.6 ],\n",
       "        [91.  ],\n",
       "        [19.5 ],\n",
       "        [56.6 ],\n",
       "        [37.85],\n",
       "        [33.1 ],\n",
       "        [65.4 ],\n",
       "        [57.7 ],\n",
       "        [63.15],\n",
       "        [49.25],\n",
       "        [58.  ],\n",
       "        [78.4 ],\n",
       "        [83.2 ],\n",
       "        [64.25],\n",
       "        [75.6 ],\n",
       "        [50.6 ],\n",
       "        [49.2 ],\n",
       "        [84.  ],\n",
       "        [60.45],\n",
       "        [50.2 ],\n",
       "        [70.4 ],\n",
       "        [31.3 ],\n",
       "        [64.2 ],\n",
       "        [76.  ],\n",
       "        [46.8 ]],\n",
       "\n",
       "       [[47.85],\n",
       "        [53.4 ],\n",
       "        [68.95],\n",
       "        [62.4 ],\n",
       "        [46.1 ],\n",
       "        [69.2 ],\n",
       "        [57.2 ],\n",
       "        [57.8 ],\n",
       "        [60.55],\n",
       "        [53.8 ],\n",
       "        [73.2 ],\n",
       "        [29.6 ],\n",
       "        [38.6 ],\n",
       "        [69.8 ],\n",
       "        [34.6 ],\n",
       "        [71.  ],\n",
       "        [81.8 ],\n",
       "        [73.2 ],\n",
       "        [71.8 ],\n",
       "        [63.2 ],\n",
       "        [17.8 ],\n",
       "        [69.6 ],\n",
       "        [62.65],\n",
       "        [56.2 ],\n",
       "        [59.8 ],\n",
       "        [52.6 ],\n",
       "        [92.3 ],\n",
       "        [80.2 ],\n",
       "        [98.6 ],\n",
       "        [61.85]]])"
      ]
     },
     "execution_count": 50,
     "metadata": {},
     "output_type": "execute_result"
    }
   ],
   "source": [
    "cal_score = np.random.randint(100, size = (3, 30, 3))\n",
    "calculus_score(cal_score)"
   ]
  },
  {
   "cell_type": "markdown",
   "metadata": {},
   "source": [
    "## 挑戰題二"
   ]
  },
  {
   "cell_type": "code",
   "execution_count": 54,
   "metadata": {},
   "outputs": [
    {
     "data": {
      "text/plain": [
       "array([[1.73849976, 0.17828227, 0.43793542, 0.6186195 , 0.20661036,\n",
       "        1.82232141, 0.46943501, 1.45062248, 0.84432927, 0.62965902],\n",
       "       [0.24842041, 1.07878635, 1.38724483, 1.34746315, 0.27896111,\n",
       "        0.58545781, 0.31669355, 1.73559346, 1.70788896, 1.0763059 ],\n",
       "       [1.17892806, 1.23507605, 1.69733145, 1.74739133, 1.3162228 ,\n",
       "        1.04077707, 0.93872963, 0.9208743 , 1.07454247, 0.44537872],\n",
       "       [1.31438879, 0.85211852, 1.60196323, 1.33153947, 1.31086834,\n",
       "        1.37138365, 0.99488736, 1.3135476 , 1.28571017, 0.48811869],\n",
       "       [1.42626447, 0.03047495, 0.4130586 , 0.81094947, 1.52330025,\n",
       "        1.37922485, 0.12102703, 0.74502166, 1.9284384 , 1.12545739],\n",
       "       [0.10645719, 1.1248717 , 1.91291925, 0.66398727, 1.89146847,\n",
       "        0.70510798, 0.48595939, 0.3243355 , 1.97886683, 0.19400952],\n",
       "       [0.00519651, 1.03335762, 1.36692205, 1.26538106, 1.5068856 ,\n",
       "        0.59529187, 0.48372656, 1.76905981, 1.04996452, 0.81469162],\n",
       "       [0.7817968 , 0.11661472, 1.64651956, 1.17276963, 0.86100675,\n",
       "        1.91998669, 0.3845143 , 1.93846742, 1.90744049, 0.73160065],\n",
       "       [1.52100023, 0.3929768 , 1.43469522, 1.22080194, 1.45134768,\n",
       "        1.29002343, 1.52096036, 1.81360981, 1.09249804, 1.72719754],\n",
       "       [1.68871331, 0.75294307, 1.04960903, 0.14160956, 1.35882629,\n",
       "        0.01817208, 1.65683397, 0.94074978, 1.73182833, 0.87300319]])"
      ]
     },
     "execution_count": 54,
     "metadata": {},
     "output_type": "execute_result"
    }
   ],
   "source": [
    "m = np.random.uniform(0, 2, size = (10, 10))\n",
    "m"
   ]
  },
  {
   "cell_type": "code",
   "execution_count": 55,
   "metadata": {},
   "outputs": [
    {
     "data": {
      "text/plain": [
       "array([[1., 0., 0., 0., 0., 1., 0., 1., 0., 0.],\n",
       "       [0., 1., 1., 1., 0., 0., 0., 1., 1., 1.],\n",
       "       [1., 1., 1., 1., 1., 1., 0., 0., 1., 0.],\n",
       "       [1., 0., 1., 1., 1., 1., 0., 1., 1., 0.],\n",
       "       [1., 0., 0., 0., 1., 1., 0., 0., 1., 1.],\n",
       "       [0., 1., 1., 0., 1., 0., 0., 0., 1., 0.],\n",
       "       [0., 1., 1., 1., 1., 0., 0., 1., 1., 0.],\n",
       "       [0., 0., 1., 1., 0., 1., 0., 1., 1., 0.],\n",
       "       [1., 0., 1., 1., 1., 1., 1., 1., 1., 1.],\n",
       "       [1., 0., 1., 0., 1., 0., 1., 0., 1., 0.]])"
      ]
     },
     "execution_count": 55,
     "metadata": {},
     "output_type": "execute_result"
    }
   ],
   "source": [
    "for i in range(10):\n",
    "    for j in range(10):\n",
    "        if m[i,j] >= 1:\n",
    "            m[i, j] = 1\n",
    "        else:\n",
    "            m[i, j] = 0\n",
    "m"
   ]
  },
  {
   "cell_type": "markdown",
   "metadata": {},
   "source": [
    "## 挑戰題三"
   ]
  },
  {
   "cell_type": "markdown",
   "metadata": {},
   "source": [
    "### 計算自己上一學期的平均成績"
   ]
  },
  {
   "cell_type": "code",
   "execution_count": 63,
   "metadata": {},
   "outputs": [
    {
     "data": {
      "text/plain": [
       "85.88235294117648"
      ]
     },
     "execution_count": 63,
     "metadata": {},
     "output_type": "execute_result"
    }
   ],
   "source": [
    "my_score = np.array([85, 85, 89, 80, 97, 83])\n",
    "weight_credits = np.array([3/17, 3/17, 3/17, 3/17, 2/17, 3/17])\n",
    "my_avg_score = np.dot(my_score, weight_credits)\n",
    "my_avg_score"
   ]
  },
  {
   "cell_type": "code",
   "execution_count": null,
   "metadata": {},
   "outputs": [],
   "source": []
  }
 ],
 "metadata": {
  "kernelspec": {
   "display_name": "Python 3",
   "language": "python",
   "name": "python3"
  },
  "language_info": {
   "codemirror_mode": {
    "name": "ipython",
    "version": 3
   },
   "file_extension": ".py",
   "mimetype": "text/x-python",
   "name": "python",
   "nbconvert_exporter": "python",
   "pygments_lexer": "ipython3",
   "version": "3.7.4"
  }
 },
 "nbformat": 4,
 "nbformat_minor": 2
}
