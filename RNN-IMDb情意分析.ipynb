{
 "cells": [
  {
   "cell_type": "code",
   "execution_count": 2,
   "metadata": {},
   "outputs": [],
   "source": [
    "%matplotlib inline\n",
    "\n",
    "import numpy as np\n",
    "import matplotlib.pyplot as plt\n",
    "import pandas as pd"
   ]
  },
  {
   "cell_type": "markdown",
   "metadata": {},
   "source": [
    "## 1.讀入套件"
   ]
  },
  {
   "cell_type": "code",
   "execution_count": 3,
   "metadata": {},
   "outputs": [],
   "source": [
    "from tensorflow.keras.preprocessing import sequence\n",
    "from tensorflow.keras.models import Sequential\n",
    "from tensorflow.keras.layers import Dense, Embedding\n",
    "from tensorflow.keras.layers import LSTM\n",
    "from tensorflow.keras.datasets import imdb"
   ]
  },
  {
   "cell_type": "markdown",
   "metadata": {},
   "source": [
    "## 2.讀入資料集"
   ]
  },
  {
   "cell_type": "markdown",
   "metadata": {},
   "source": [
    "### 保留8000個字"
   ]
  },
  {
   "cell_type": "code",
   "execution_count": 4,
   "metadata": {},
   "outputs": [],
   "source": [
    "(x_train, y_train), (x_test, y_test) = imdb.load_data(num_words=8000)"
   ]
  },
  {
   "cell_type": "markdown",
   "metadata": {},
   "source": [
    "## 3.整理資料"
   ]
  },
  {
   "cell_type": "markdown",
   "metadata": {},
   "source": [
    "### 將資料長度設定為150"
   ]
  },
  {
   "cell_type": "code",
   "execution_count": 5,
   "metadata": {},
   "outputs": [],
   "source": [
    "x_train = sequence.pad_sequences(x_train, maxlen = 150)\n",
    "x_test = sequence.pad_sequences(x_test, maxlen = 150)"
   ]
  },
  {
   "cell_type": "markdown",
   "metadata": {},
   "source": [
    "## 4.建立模型"
   ]
  },
  {
   "cell_type": "code",
   "execution_count": 6,
   "metadata": {},
   "outputs": [],
   "source": [
    "model = Sequential()"
   ]
  },
  {
   "cell_type": "markdown",
   "metadata": {},
   "source": [
    "### 加入Embedding層，設定output dimension為88"
   ]
  },
  {
   "cell_type": "code",
   "execution_count": 7,
   "metadata": {},
   "outputs": [],
   "source": [
    "model.add(Embedding(8000, 88))"
   ]
  },
  {
   "cell_type": "markdown",
   "metadata": {},
   "source": [
    "### 加入LSTM層，將兩個dropout都設為0.25"
   ]
  },
  {
   "cell_type": "code",
   "execution_count": 8,
   "metadata": {},
   "outputs": [],
   "source": [
    "model.add(LSTM(88, dropout = 0.25, recurrent_dropout = 0.25))"
   ]
  },
  {
   "cell_type": "code",
   "execution_count": 9,
   "metadata": {},
   "outputs": [],
   "source": [
    "model.add(Dense(1, activation = 'sigmoid'))"
   ]
  },
  {
   "cell_type": "code",
   "execution_count": 10,
   "metadata": {},
   "outputs": [],
   "source": [
    "model.compile(loss = 'binary_crossentropy', optimizer = 'adam', metrics = ['accuracy'])"
   ]
  },
  {
   "cell_type": "code",
   "execution_count": 11,
   "metadata": {},
   "outputs": [
    {
     "name": "stdout",
     "output_type": "stream",
     "text": [
      "Model: \"sequential\"\n",
      "_________________________________________________________________\n",
      "Layer (type)                 Output Shape              Param #   \n",
      "=================================================================\n",
      "embedding (Embedding)        (None, None, 88)          704000    \n",
      "_________________________________________________________________\n",
      "lstm (LSTM)                  (None, 88)                62304     \n",
      "_________________________________________________________________\n",
      "dense (Dense)                (None, 1)                 89        \n",
      "=================================================================\n",
      "Total params: 766,393\n",
      "Trainable params: 766,393\n",
      "Non-trainable params: 0\n",
      "_________________________________________________________________\n"
     ]
    }
   ],
   "source": [
    "model.summary()"
   ]
  },
  {
   "cell_type": "markdown",
   "metadata": {},
   "source": [
    "## 5.訓練模型"
   ]
  },
  {
   "cell_type": "markdown",
   "metadata": {},
   "source": [
    "### 設定batch size為21，訓練8次"
   ]
  },
  {
   "cell_type": "code",
   "execution_count": 12,
   "metadata": {},
   "outputs": [
    {
     "name": "stdout",
     "output_type": "stream",
     "text": [
      "Train on 25000 samples, validate on 25000 samples\n",
      "Epoch 1/8\n",
      "25000/25000 [==============================] - 528s 21ms/sample - loss: 0.4914 - accuracy: 0.7624 - val_loss: 0.3828 - val_accuracy: 0.8359\n",
      "Epoch 2/8\n",
      "25000/25000 [==============================] - 482s 19ms/sample - loss: 0.3608 - accuracy: 0.8475 - val_loss: 0.3662 - val_accuracy: 0.8434\n",
      "Epoch 3/8\n",
      "25000/25000 [==============================] - 457s 18ms/sample - loss: 0.2977 - accuracy: 0.8766 - val_loss: 0.3470 - val_accuracy: 0.8569\n",
      "Epoch 4/8\n",
      "25000/25000 [==============================] - 468s 19ms/sample - loss: 0.2468 - accuracy: 0.9018 - val_loss: 0.3783 - val_accuracy: 0.8480\n",
      "Epoch 5/8\n",
      "25000/25000 [==============================] - 477s 19ms/sample - loss: 0.2119 - accuracy: 0.9170 - val_loss: 0.3644 - val_accuracy: 0.8540\n",
      "Epoch 6/8\n",
      "25000/25000 [==============================] - 473s 19ms/sample - loss: 0.1737 - accuracy: 0.9324 - val_loss: 0.3988 - val_accuracy: 0.8634\n",
      "Epoch 7/8\n",
      "25000/25000 [==============================] - 458s 18ms/sample - loss: 0.1414 - accuracy: 0.9474 - val_loss: 0.4322 - val_accuracy: 0.8454\n",
      "Epoch 8/8\n",
      "25000/25000 [==============================] - 463s 19ms/sample - loss: 0.1154 - accuracy: 0.9574 - val_loss: 0.4803 - val_accuracy: 0.8512\n"
     ]
    },
    {
     "data": {
      "text/plain": [
       "<tensorflow.python.keras.callbacks.History at 0x184a4285488>"
      ]
     },
     "execution_count": 12,
     "metadata": {},
     "output_type": "execute_result"
    }
   ],
   "source": [
    "model.fit(x_train, y_train, batch_size = 21, epochs = 8, validation_data = (x_test, y_test))"
   ]
  },
  {
   "cell_type": "code",
   "execution_count": null,
   "metadata": {},
   "outputs": [],
   "source": []
  }
 ],
 "metadata": {
  "kernelspec": {
   "display_name": "Python 3",
   "language": "python",
   "name": "python3"
  },
  "language_info": {
   "codemirror_mode": {
    "name": "ipython",
    "version": 3
   },
   "file_extension": ".py",
   "mimetype": "text/x-python",
   "name": "python",
   "nbconvert_exporter": "python",
   "pygments_lexer": "ipython3",
   "version": "3.7.4"
  }
 },
 "nbformat": 4,
 "nbformat_minor": 2
}
