{
 "cells": [
  {
   "cell_type": "code",
   "execution_count": 1,
   "metadata": {},
   "outputs": [],
   "source": [
    "%matplotlib inline\n",
    "\n",
    "import numpy as np\n",
    "import matplotlib.pyplot as plt\n",
    "import pandas as pd"
   ]
  },
  {
   "cell_type": "code",
   "execution_count": 2,
   "metadata": {},
   "outputs": [],
   "source": [
    "train_set = pd.read_hdf(\"train_set0517.h5\")\n",
    "test_set = pd.read_hdf(\"test_set0517.h5\")"
   ]
  },
  {
   "cell_type": "code",
   "execution_count": 3,
   "metadata": {},
   "outputs": [
    {
     "data": {
      "text/html": [
       "<div>\n",
       "<style scoped>\n",
       "    .dataframe tbody tr th:only-of-type {\n",
       "        vertical-align: middle;\n",
       "    }\n",
       "\n",
       "    .dataframe tbody tr th {\n",
       "        vertical-align: top;\n",
       "    }\n",
       "\n",
       "    .dataframe thead th {\n",
       "        text-align: right;\n",
       "    }\n",
       "</style>\n",
       "<table border=\"1\" class=\"dataframe\">\n",
       "  <thead>\n",
       "    <tr style=\"text-align: right;\">\n",
       "      <th></th>\n",
       "      <th>ID</th>\n",
       "      <th>YEAR</th>\n",
       "      <th>MONTH</th>\n",
       "      <th>DAY</th>\n",
       "      <th>TMAX</th>\n",
       "      <th>TMIN</th>\n",
       "      <th>TAVG</th>\n",
       "      <th>PRCP</th>\n",
       "      <th>MM/DD/YYYY</th>\n",
       "      <th>Station name</th>\n",
       "      <th>Altitude</th>\n",
       "      <th>latitude</th>\n",
       "      <th>longitude</th>\n",
       "      <th>City</th>\n",
       "      <th>Address</th>\n",
       "      <th>ID_Code</th>\n",
       "      <th>TMAX_Interval</th>\n",
       "      <th>TMIN_Interval</th>\n",
       "      <th>TAVG_Interval</th>\n",
       "      <th>PRCP_Interval</th>\n",
       "    </tr>\n",
       "  </thead>\n",
       "  <tbody>\n",
       "    <tr>\n",
       "      <th>0</th>\n",
       "      <td>466880</td>\n",
       "      <td>2017</td>\n",
       "      <td>1</td>\n",
       "      <td>1</td>\n",
       "      <td>26.8</td>\n",
       "      <td>17.9</td>\n",
       "      <td>22.283333</td>\n",
       "      <td>0.000000</td>\n",
       "      <td>2017-01-01</td>\n",
       "      <td>板橋</td>\n",
       "      <td>9.7</td>\n",
       "      <td>121.442</td>\n",
       "      <td>24.9976</td>\n",
       "      <td>新北市</td>\n",
       "      <td>板橋區大觀路二段265巷62號</td>\n",
       "      <td>115083.0</td>\n",
       "      <td>16.0</td>\n",
       "      <td>14.0</td>\n",
       "      <td>15.0</td>\n",
       "      <td>0.0</td>\n",
       "    </tr>\n",
       "    <tr>\n",
       "      <th>1</th>\n",
       "      <td>466880</td>\n",
       "      <td>2017</td>\n",
       "      <td>1</td>\n",
       "      <td>2</td>\n",
       "      <td>25.1</td>\n",
       "      <td>16.8</td>\n",
       "      <td>20.829167</td>\n",
       "      <td>0.000000</td>\n",
       "      <td>2017-01-02</td>\n",
       "      <td>板橋</td>\n",
       "      <td>9.7</td>\n",
       "      <td>121.442</td>\n",
       "      <td>24.9976</td>\n",
       "      <td>新北市</td>\n",
       "      <td>板橋區大觀路二段265巷62號</td>\n",
       "      <td>115083.0</td>\n",
       "      <td>16.0</td>\n",
       "      <td>14.0</td>\n",
       "      <td>15.0</td>\n",
       "      <td>0.0</td>\n",
       "    </tr>\n",
       "    <tr>\n",
       "      <th>2</th>\n",
       "      <td>466880</td>\n",
       "      <td>2017</td>\n",
       "      <td>1</td>\n",
       "      <td>3</td>\n",
       "      <td>21.7</td>\n",
       "      <td>19.9</td>\n",
       "      <td>20.820833</td>\n",
       "      <td>0.110417</td>\n",
       "      <td>2017-01-03</td>\n",
       "      <td>板橋</td>\n",
       "      <td>9.7</td>\n",
       "      <td>121.442</td>\n",
       "      <td>24.9976</td>\n",
       "      <td>新北市</td>\n",
       "      <td>板橋區大觀路二段265巷62號</td>\n",
       "      <td>115083.0</td>\n",
       "      <td>15.0</td>\n",
       "      <td>14.0</td>\n",
       "      <td>15.0</td>\n",
       "      <td>0.0</td>\n",
       "    </tr>\n",
       "    <tr>\n",
       "      <th>3</th>\n",
       "      <td>466880</td>\n",
       "      <td>2017</td>\n",
       "      <td>1</td>\n",
       "      <td>4</td>\n",
       "      <td>26.5</td>\n",
       "      <td>19.0</td>\n",
       "      <td>22.858333</td>\n",
       "      <td>0.000000</td>\n",
       "      <td>2017-01-04</td>\n",
       "      <td>板橋</td>\n",
       "      <td>9.7</td>\n",
       "      <td>121.442</td>\n",
       "      <td>24.9976</td>\n",
       "      <td>新北市</td>\n",
       "      <td>板橋區大觀路二段265巷62號</td>\n",
       "      <td>115083.0</td>\n",
       "      <td>16.0</td>\n",
       "      <td>14.0</td>\n",
       "      <td>15.0</td>\n",
       "      <td>0.0</td>\n",
       "    </tr>\n",
       "    <tr>\n",
       "      <th>4</th>\n",
       "      <td>466880</td>\n",
       "      <td>2017</td>\n",
       "      <td>1</td>\n",
       "      <td>5</td>\n",
       "      <td>25.4</td>\n",
       "      <td>18.2</td>\n",
       "      <td>21.487500</td>\n",
       "      <td>0.000000</td>\n",
       "      <td>2017-01-05</td>\n",
       "      <td>板橋</td>\n",
       "      <td>9.7</td>\n",
       "      <td>121.442</td>\n",
       "      <td>24.9976</td>\n",
       "      <td>新北市</td>\n",
       "      <td>板橋區大觀路二段265巷62號</td>\n",
       "      <td>115083.0</td>\n",
       "      <td>16.0</td>\n",
       "      <td>14.0</td>\n",
       "      <td>15.0</td>\n",
       "      <td>0.0</td>\n",
       "    </tr>\n",
       "    <tr>\n",
       "      <th>...</th>\n",
       "      <td>...</td>\n",
       "      <td>...</td>\n",
       "      <td>...</td>\n",
       "      <td>...</td>\n",
       "      <td>...</td>\n",
       "      <td>...</td>\n",
       "      <td>...</td>\n",
       "      <td>...</td>\n",
       "      <td>...</td>\n",
       "      <td>...</td>\n",
       "      <td>...</td>\n",
       "      <td>...</td>\n",
       "      <td>...</td>\n",
       "      <td>...</td>\n",
       "      <td>...</td>\n",
       "      <td>...</td>\n",
       "      <td>...</td>\n",
       "      <td>...</td>\n",
       "      <td>...</td>\n",
       "      <td>...</td>\n",
       "    </tr>\n",
       "    <tr>\n",
       "      <th>4493412</th>\n",
       "      <td>ZI000067983</td>\n",
       "      <td>2018</td>\n",
       "      <td>9</td>\n",
       "      <td>1</td>\n",
       "      <td>25.8</td>\n",
       "      <td>10.5</td>\n",
       "      <td>18.700000</td>\n",
       "      <td>0.000000</td>\n",
       "      <td>2018-09-01</td>\n",
       "      <td>CHIPINGE</td>\n",
       "      <td>NaN</td>\n",
       "      <td>-20.200</td>\n",
       "      <td>32.6160</td>\n",
       "      <td>NaN</td>\n",
       "      <td>NaN</td>\n",
       "      <td>115081.0</td>\n",
       "      <td>16.0</td>\n",
       "      <td>13.0</td>\n",
       "      <td>14.0</td>\n",
       "      <td>0.0</td>\n",
       "    </tr>\n",
       "    <tr>\n",
       "      <th>4493413</th>\n",
       "      <td>ZI000067983</td>\n",
       "      <td>2018</td>\n",
       "      <td>9</td>\n",
       "      <td>29</td>\n",
       "      <td>28.1</td>\n",
       "      <td>16.6</td>\n",
       "      <td>18.300000</td>\n",
       "      <td>0.000000</td>\n",
       "      <td>2018-09-29</td>\n",
       "      <td>CHIPINGE</td>\n",
       "      <td>NaN</td>\n",
       "      <td>-20.200</td>\n",
       "      <td>32.6160</td>\n",
       "      <td>NaN</td>\n",
       "      <td>NaN</td>\n",
       "      <td>115081.0</td>\n",
       "      <td>16.0</td>\n",
       "      <td>14.0</td>\n",
       "      <td>14.0</td>\n",
       "      <td>0.0</td>\n",
       "    </tr>\n",
       "    <tr>\n",
       "      <th>4493414</th>\n",
       "      <td>ZI000067983</td>\n",
       "      <td>2018</td>\n",
       "      <td>10</td>\n",
       "      <td>20</td>\n",
       "      <td>27.0</td>\n",
       "      <td>15.2</td>\n",
       "      <td>21.900000</td>\n",
       "      <td>0.000000</td>\n",
       "      <td>2018-10-20</td>\n",
       "      <td>CHIPINGE</td>\n",
       "      <td>NaN</td>\n",
       "      <td>-20.200</td>\n",
       "      <td>32.6160</td>\n",
       "      <td>NaN</td>\n",
       "      <td>NaN</td>\n",
       "      <td>115081.0</td>\n",
       "      <td>16.0</td>\n",
       "      <td>14.0</td>\n",
       "      <td>15.0</td>\n",
       "      <td>0.0</td>\n",
       "    </tr>\n",
       "    <tr>\n",
       "      <th>4493415</th>\n",
       "      <td>ZI000067983</td>\n",
       "      <td>2018</td>\n",
       "      <td>11</td>\n",
       "      <td>12</td>\n",
       "      <td>24.9</td>\n",
       "      <td>11.9</td>\n",
       "      <td>21.000000</td>\n",
       "      <td>0.000000</td>\n",
       "      <td>2018-11-12</td>\n",
       "      <td>CHIPINGE</td>\n",
       "      <td>NaN</td>\n",
       "      <td>-20.200</td>\n",
       "      <td>32.6160</td>\n",
       "      <td>NaN</td>\n",
       "      <td>NaN</td>\n",
       "      <td>115081.0</td>\n",
       "      <td>15.0</td>\n",
       "      <td>13.0</td>\n",
       "      <td>15.0</td>\n",
       "      <td>0.0</td>\n",
       "    </tr>\n",
       "    <tr>\n",
       "      <th>4493416</th>\n",
       "      <td>ZI000067983</td>\n",
       "      <td>2019</td>\n",
       "      <td>5</td>\n",
       "      <td>5</td>\n",
       "      <td>23.6</td>\n",
       "      <td>13.4</td>\n",
       "      <td>18.200000</td>\n",
       "      <td>0.000000</td>\n",
       "      <td>2019-05-05</td>\n",
       "      <td>CHIPINGE</td>\n",
       "      <td>NaN</td>\n",
       "      <td>-20.200</td>\n",
       "      <td>32.6160</td>\n",
       "      <td>NaN</td>\n",
       "      <td>NaN</td>\n",
       "      <td>115081.0</td>\n",
       "      <td>15.0</td>\n",
       "      <td>13.0</td>\n",
       "      <td>14.0</td>\n",
       "      <td>0.0</td>\n",
       "    </tr>\n",
       "  </tbody>\n",
       "</table>\n",
       "<p>4060571 rows × 20 columns</p>\n",
       "</div>"
      ],
      "text/plain": [
       "                  ID  YEAR MONTH DAY  TMAX  TMIN       TAVG      PRCP  \\\n",
       "0             466880  2017     1   1  26.8  17.9  22.283333  0.000000   \n",
       "1             466880  2017     1   2  25.1  16.8  20.829167  0.000000   \n",
       "2             466880  2017     1   3  21.7  19.9  20.820833  0.110417   \n",
       "3             466880  2017     1   4  26.5  19.0  22.858333  0.000000   \n",
       "4             466880  2017     1   5  25.4  18.2  21.487500  0.000000   \n",
       "...              ...   ...   ...  ..   ...   ...        ...       ...   \n",
       "4493412  ZI000067983  2018     9   1  25.8  10.5  18.700000  0.000000   \n",
       "4493413  ZI000067983  2018     9  29  28.1  16.6  18.300000  0.000000   \n",
       "4493414  ZI000067983  2018    10  20  27.0  15.2  21.900000  0.000000   \n",
       "4493415  ZI000067983  2018    11  12  24.9  11.9  21.000000  0.000000   \n",
       "4493416  ZI000067983  2019     5   5  23.6  13.4  18.200000  0.000000   \n",
       "\n",
       "        MM/DD/YYYY Station name  Altitude  latitude  longitude City  \\\n",
       "0       2017-01-01           板橋       9.7   121.442    24.9976  新北市   \n",
       "1       2017-01-02           板橋       9.7   121.442    24.9976  新北市   \n",
       "2       2017-01-03           板橋       9.7   121.442    24.9976  新北市   \n",
       "3       2017-01-04           板橋       9.7   121.442    24.9976  新北市   \n",
       "4       2017-01-05           板橋       9.7   121.442    24.9976  新北市   \n",
       "...            ...          ...       ...       ...        ...  ...   \n",
       "4493412 2018-09-01     CHIPINGE       NaN   -20.200    32.6160  NaN   \n",
       "4493413 2018-09-29     CHIPINGE       NaN   -20.200    32.6160  NaN   \n",
       "4493414 2018-10-20     CHIPINGE       NaN   -20.200    32.6160  NaN   \n",
       "4493415 2018-11-12     CHIPINGE       NaN   -20.200    32.6160  NaN   \n",
       "4493416 2019-05-05     CHIPINGE       NaN   -20.200    32.6160  NaN   \n",
       "\n",
       "                 Address   ID_Code  TMAX_Interval  TMIN_Interval  \\\n",
       "0        板橋區大觀路二段265巷62號  115083.0           16.0           14.0   \n",
       "1        板橋區大觀路二段265巷62號  115083.0           16.0           14.0   \n",
       "2        板橋區大觀路二段265巷62號  115083.0           15.0           14.0   \n",
       "3        板橋區大觀路二段265巷62號  115083.0           16.0           14.0   \n",
       "4        板橋區大觀路二段265巷62號  115083.0           16.0           14.0   \n",
       "...                  ...       ...            ...            ...   \n",
       "4493412              NaN  115081.0           16.0           13.0   \n",
       "4493413              NaN  115081.0           16.0           14.0   \n",
       "4493414              NaN  115081.0           16.0           14.0   \n",
       "4493415              NaN  115081.0           15.0           13.0   \n",
       "4493416              NaN  115081.0           15.0           13.0   \n",
       "\n",
       "         TAVG_Interval  PRCP_Interval  \n",
       "0                 15.0            0.0  \n",
       "1                 15.0            0.0  \n",
       "2                 15.0            0.0  \n",
       "3                 15.0            0.0  \n",
       "4                 15.0            0.0  \n",
       "...                ...            ...  \n",
       "4493412           14.0            0.0  \n",
       "4493413           14.0            0.0  \n",
       "4493414           15.0            0.0  \n",
       "4493415           15.0            0.0  \n",
       "4493416           14.0            0.0  \n",
       "\n",
       "[4060571 rows x 20 columns]"
      ]
     },
     "execution_count": 3,
     "metadata": {},
     "output_type": "execute_result"
    }
   ],
   "source": [
    "train_set"
   ]
  },
  {
   "cell_type": "code",
   "execution_count": 3,
   "metadata": {},
   "outputs": [],
   "source": [
    "x_train_data = train_set[['YEAR', 'MONTH', 'DAY', 'TMAX', 'TMIN', 'TAVG', 'PRCP']]\n",
    "x_train_data = x_train_data.drop(x_train_data.index[-1])"
   ]
  },
  {
   "cell_type": "code",
   "execution_count": 4,
   "metadata": {},
   "outputs": [
    {
     "name": "stderr",
     "output_type": "stream",
     "text": [
      "D:\\python\\lib\\site-packages\\tensorflow\\python\\framework\\dtypes.py:516: FutureWarning: Passing (type, 1) or '1type' as a synonym of type is deprecated; in a future version of numpy, it will be understood as (type, (1,)) / '(1,)type'.\n",
      "  _np_qint8 = np.dtype([(\"qint8\", np.int8, 1)])\n",
      "D:\\python\\lib\\site-packages\\tensorflow\\python\\framework\\dtypes.py:517: FutureWarning: Passing (type, 1) or '1type' as a synonym of type is deprecated; in a future version of numpy, it will be understood as (type, (1,)) / '(1,)type'.\n",
      "  _np_quint8 = np.dtype([(\"quint8\", np.uint8, 1)])\n",
      "D:\\python\\lib\\site-packages\\tensorflow\\python\\framework\\dtypes.py:518: FutureWarning: Passing (type, 1) or '1type' as a synonym of type is deprecated; in a future version of numpy, it will be understood as (type, (1,)) / '(1,)type'.\n",
      "  _np_qint16 = np.dtype([(\"qint16\", np.int16, 1)])\n",
      "D:\\python\\lib\\site-packages\\tensorflow\\python\\framework\\dtypes.py:519: FutureWarning: Passing (type, 1) or '1type' as a synonym of type is deprecated; in a future version of numpy, it will be understood as (type, (1,)) / '(1,)type'.\n",
      "  _np_quint16 = np.dtype([(\"quint16\", np.uint16, 1)])\n",
      "D:\\python\\lib\\site-packages\\tensorflow\\python\\framework\\dtypes.py:520: FutureWarning: Passing (type, 1) or '1type' as a synonym of type is deprecated; in a future version of numpy, it will be understood as (type, (1,)) / '(1,)type'.\n",
      "  _np_qint32 = np.dtype([(\"qint32\", np.int32, 1)])\n",
      "D:\\python\\lib\\site-packages\\tensorflow\\python\\framework\\dtypes.py:525: FutureWarning: Passing (type, 1) or '1type' as a synonym of type is deprecated; in a future version of numpy, it will be understood as (type, (1,)) / '(1,)type'.\n",
      "  np_resource = np.dtype([(\"resource\", np.ubyte, 1)])\n",
      "D:\\python\\lib\\site-packages\\tensorboard\\compat\\tensorflow_stub\\dtypes.py:541: FutureWarning: Passing (type, 1) or '1type' as a synonym of type is deprecated; in a future version of numpy, it will be understood as (type, (1,)) / '(1,)type'.\n",
      "  _np_qint8 = np.dtype([(\"qint8\", np.int8, 1)])\n",
      "D:\\python\\lib\\site-packages\\tensorboard\\compat\\tensorflow_stub\\dtypes.py:542: FutureWarning: Passing (type, 1) or '1type' as a synonym of type is deprecated; in a future version of numpy, it will be understood as (type, (1,)) / '(1,)type'.\n",
      "  _np_quint8 = np.dtype([(\"quint8\", np.uint8, 1)])\n",
      "D:\\python\\lib\\site-packages\\tensorboard\\compat\\tensorflow_stub\\dtypes.py:543: FutureWarning: Passing (type, 1) or '1type' as a synonym of type is deprecated; in a future version of numpy, it will be understood as (type, (1,)) / '(1,)type'.\n",
      "  _np_qint16 = np.dtype([(\"qint16\", np.int16, 1)])\n",
      "D:\\python\\lib\\site-packages\\tensorboard\\compat\\tensorflow_stub\\dtypes.py:544: FutureWarning: Passing (type, 1) or '1type' as a synonym of type is deprecated; in a future version of numpy, it will be understood as (type, (1,)) / '(1,)type'.\n",
      "  _np_quint16 = np.dtype([(\"quint16\", np.uint16, 1)])\n",
      "D:\\python\\lib\\site-packages\\tensorboard\\compat\\tensorflow_stub\\dtypes.py:545: FutureWarning: Passing (type, 1) or '1type' as a synonym of type is deprecated; in a future version of numpy, it will be understood as (type, (1,)) / '(1,)type'.\n",
      "  _np_qint32 = np.dtype([(\"qint32\", np.int32, 1)])\n",
      "D:\\python\\lib\\site-packages\\tensorboard\\compat\\tensorflow_stub\\dtypes.py:550: FutureWarning: Passing (type, 1) or '1type' as a synonym of type is deprecated; in a future version of numpy, it will be understood as (type, (1,)) / '(1,)type'.\n",
      "  np_resource = np.dtype([(\"resource\", np.ubyte, 1)])\n"
     ]
    }
   ],
   "source": [
    "from tensorflow.keras import backend as K"
   ]
  },
  {
   "cell_type": "code",
   "execution_count": 5,
   "metadata": {},
   "outputs": [],
   "source": [
    "x_train = K.cast_to_floatx(x_train_data.values.reshape((x_train_data.shape[0], 1, x_train_data.shape[1])))"
   ]
  },
  {
   "cell_type": "code",
   "execution_count": 7,
   "metadata": {},
   "outputs": [
    {
     "data": {
      "text/plain": [
       "(4060570, 1, 7)"
      ]
     },
     "execution_count": 7,
     "metadata": {},
     "output_type": "execute_result"
    }
   ],
   "source": [
    "x_train.shape"
   ]
  },
  {
   "cell_type": "code",
   "execution_count": 6,
   "metadata": {},
   "outputs": [],
   "source": [
    "x_test_data = test_set[['YEAR', 'MONTH', 'DAY', 'TMAX', 'TMIN', 'TAVG', 'PRCP']]\n",
    "x_test_data = x_test_data.drop(x_test_data.index[-1])"
   ]
  },
  {
   "cell_type": "code",
   "execution_count": 7,
   "metadata": {},
   "outputs": [],
   "source": [
    "x_test = K.cast_to_floatx(x_test_data.values.reshape((x_test_data.shape[0], 1, x_test_data.shape[1])))"
   ]
  },
  {
   "cell_type": "code",
   "execution_count": 8,
   "metadata": {},
   "outputs": [],
   "source": [
    "y_train_TMAX_data = train_set[['TMAX_Interval']].astype(int)\n",
    "y_train_TMAX = y_train_TMAX_data.drop(y_train_TMAX_data.index[0])"
   ]
  },
  {
   "cell_type": "code",
   "execution_count": 9,
   "metadata": {},
   "outputs": [],
   "source": [
    "y_test_TMAX_data = test_set[['TMAX_Interval']].astype(int)\n",
    "y_test_TMAX = y_test_TMAX_data.drop(y_test_TMAX_data.index[0])"
   ]
  },
  {
   "cell_type": "code",
   "execution_count": 10,
   "metadata": {},
   "outputs": [],
   "source": [
    "from tensorflow.keras.models import Sequential\n",
    "from tensorflow.keras.layers import Dense\n",
    "from tensorflow.keras.layers import GRU"
   ]
  },
  {
   "cell_type": "code",
   "execution_count": 11,
   "metadata": {},
   "outputs": [
    {
     "name": "stdout",
     "output_type": "stream",
     "text": [
      "WARNING:tensorflow:From D:\\python\\lib\\site-packages\\tensorflow\\python\\ops\\init_ops.py:1251: calling VarianceScaling.__init__ (from tensorflow.python.ops.init_ops) with dtype is deprecated and will be removed in a future version.\n",
      "Instructions for updating:\n",
      "Call initializer instance with the dtype argument instead of passing it to the constructor\n",
      "Model: \"sequential\"\n",
      "_________________________________________________________________\n",
      "Layer (type)                 Output Shape              Param #   \n",
      "=================================================================\n",
      "gru (GRU)                    (None, 256)               202752    \n",
      "_________________________________________________________________\n",
      "dense (Dense)                (None, 100)               25700     \n",
      "_________________________________________________________________\n",
      "dense_1 (Dense)              (None, 50)                5050      \n",
      "=================================================================\n",
      "Total params: 233,502\n",
      "Trainable params: 233,502\n",
      "Non-trainable params: 0\n",
      "_________________________________________________________________\n"
     ]
    }
   ],
   "source": [
    "TMAX_model_2 = Sequential()\n",
    "TMAX_model_2.add(GRU(256, dropout = 0.25, recurrent_dropout = 0.25, input_shape = (\n",
    "    x_train.shape[1], x_train.shape[2])))\n",
    "TMAX_model_2.add(Dense(100, activation = 'relu'))\n",
    "TMAX_model_2.add(Dense(50, activation = 'sigmoid'))\n",
    "TMAX_model_2.compile(loss = 'sparse_categorical_crossentropy', optimizer = 'adam', metrics = ['accuracy'])\n",
    "TMAX_model_2.summary()"
   ]
  },
  {
   "cell_type": "code",
   "execution_count": 14,
   "metadata": {},
   "outputs": [
    {
     "name": "stdout",
     "output_type": "stream",
     "text": [
      "Train on 4060570 samples, validate on 414830 samples\n",
      "WARNING:tensorflow:From D:\\python\\lib\\site-packages\\tensorflow\\python\\ops\\math_grad.py:1250: add_dispatch_support.<locals>.wrapper (from tensorflow.python.ops.array_ops) is deprecated and will be removed in a future version.\n",
      "Instructions for updating:\n",
      "Use tf.where in 2.0, which has the same broadcast rule as np.where\n",
      "Epoch 1/20\n",
      "4060570/4060570 [==============================] - 550s 135us/sample - loss: 0.4870 - acc: 0.8101 - val_loss: 0.5892 - val_acc: 0.7873\n",
      "Epoch 2/20\n",
      "4060570/4060570 [==============================] - 633s 156us/sample - loss: 0.4119 - acc: 0.8443 - val_loss: 0.5429 - val_acc: 0.8024\n",
      "Epoch 3/20\n",
      "4060570/4060570 [==============================] - 632s 156us/sample - loss: 0.3910 - acc: 0.8511 - val_loss: 0.5008 - val_acc: 0.8075\n",
      "Epoch 4/20\n",
      "4060570/4060570 [==============================] - 641s 158us/sample - loss: 0.3858 - acc: 0.8535 - val_loss: 0.5369 - val_acc: 0.8018\n",
      "Epoch 5/20\n",
      "4060570/4060570 [==============================] - 598s 147us/sample - loss: 0.3796 - acc: 0.8555 - val_loss: 0.5328 - val_acc: 0.7722\n",
      "Epoch 6/20\n",
      "4060570/4060570 [==============================] - 591s 145us/sample - loss: 0.3760 - acc: 0.8576 - val_loss: 0.4977 - val_acc: 0.8119\n",
      "Epoch 7/20\n",
      "4060570/4060570 [==============================] - 572s 141us/sample - loss: 0.3720 - acc: 0.8590 - val_loss: 0.4926 - val_acc: 0.8099\n",
      "Epoch 8/20\n",
      "4060570/4060570 [==============================] - 737s 182us/sample - loss: 0.3687 - acc: 0.8608 - val_loss: 0.4950 - val_acc: 0.8049\n",
      "Epoch 9/20\n",
      "4060570/4060570 [==============================] - 877s 216us/sample - loss: 0.3637 - acc: 0.8622 - val_loss: 0.5311 - val_acc: 0.7827\n",
      "Epoch 10/20\n",
      "4060570/4060570 [==============================] - 609s 150us/sample - loss: 0.3634 - acc: 0.8612 - val_loss: 0.4991 - val_acc: 0.7998\n",
      "Epoch 11/20\n",
      "4060570/4060570 [==============================] - 742s 183us/sample - loss: 0.3603 - acc: 0.8630 - val_loss: 0.5146 - val_acc: 0.7868\n",
      "Epoch 12/20\n",
      "4060570/4060570 [==============================] - 568s 140us/sample - loss: 0.3601 - acc: 0.8631 - val_loss: 0.5063 - val_acc: 0.8060\n",
      "Epoch 13/20\n",
      "4060570/4060570 [==============================] - 570s 140us/sample - loss: 0.3594 - acc: 0.8636 - val_loss: 0.5127 - val_acc: 0.7585\n",
      "Epoch 14/20\n",
      "4060570/4060570 [==============================] - 570s 140us/sample - loss: 0.3606 - acc: 0.8629 - val_loss: 0.4934 - val_acc: 0.7854\n",
      "Epoch 15/20\n",
      "4060570/4060570 [==============================] - 570s 140us/sample - loss: 0.3590 - acc: 0.8639 - val_loss: 0.5294 - val_acc: 0.7563\n",
      "Epoch 16/20\n",
      "4060570/4060570 [==============================] - 574s 141us/sample - loss: 0.3583 - acc: 0.8641 - val_loss: 0.4985 - val_acc: 0.8112\n",
      "Epoch 17/20\n",
      "4060570/4060570 [==============================] - 573s 141us/sample - loss: 0.3581 - acc: 0.8643 - val_loss: 0.4748 - val_acc: 0.7923\n",
      "Epoch 18/20\n",
      "4060570/4060570 [==============================] - 571s 141us/sample - loss: 0.3561 - acc: 0.8643 - val_loss: 0.4873 - val_acc: 0.8166\n",
      "Epoch 19/20\n",
      "4060570/4060570 [==============================] - 571s 141us/sample - loss: 0.3555 - acc: 0.8652 - val_loss: 0.4712 - val_acc: 0.8030\n",
      "Epoch 20/20\n",
      "4060570/4060570 [==============================] - 571s 141us/sample - loss: 0.3551 - acc: 0.8655 - val_loss: 0.5068 - val_acc: 0.8066\n"
     ]
    }
   ],
   "source": [
    "history = TMAX_model_2.fit(x_train, y_train_TMAX, batch_size = 50, epochs = 20, validation_data = (x_test, y_test_TMAX))"
   ]
  },
  {
   "cell_type": "code",
   "execution_count": 15,
   "metadata": {},
   "outputs": [],
   "source": [
    "TMAX_model_2.save_weights('TMAX_model.h5')"
   ]
  },
  {
   "cell_type": "code",
   "execution_count": 16,
   "metadata": {},
   "outputs": [
    {
     "data": {
      "image/png": "[encoded data removed]",
      "text/plain": [
       "<Figure size 432x288 with 1 Axes>"
      ]
     },
     "metadata": {
      "needs_background": "light"
     },
     "output_type": "display_data"
    },
    {
     "data": {
      "image/png": "[encoded data removed]",
      "text/plain": [
       "<Figure size 432x288 with 1 Axes>"
      ]
     },
     "metadata": {
      "needs_background": "light"
     },
     "output_type": "display_data"
    }
   ],
   "source": [
    "plt.plot(history.history['acc'])\n",
    "plt.plot(history.history['val_acc'])\n",
    "plt.title('model accuracy')\n",
    "plt.xlabel('epoch')\n",
    "plt.ylabel('accuracy')\n",
    "plt.legend(['train', 'validation'], loc='upper left')\n",
    "plt.show()\n",
    "\n",
    "plt.plot(history.history['loss'])\n",
    "plt.plot(history.history['val_loss'])\n",
    "plt.title('model loss')\n",
    "plt.xlabel('epoch')\n",
    "plt.ylabel('loss')\n",
    "plt.legend(['train', 'validation'], loc='upper left')\n",
    "plt.show()"
   ]
  },
  {
   "cell_type": "code",
   "execution_count": 12,
   "metadata": {},
   "outputs": [],
   "source": [
    "TMAX_model_2.load_weights(\"TMAX_model.h5\")"
   ]
  },
  {
   "cell_type": "code",
   "execution_count": 13,
   "metadata": {},
   "outputs": [],
   "source": [
    "predict_data = pd.read_csv('氣象局觀測資料.csv')\n",
    "predict_data = predict_data[['YEAR', 'MONTH', 'DAY', 'TMAX', 'TMIN', 'TAVG', 'PRCP']]\n",
    "predict_data = K.cast_to_floatx(predict_data.values.reshape(predict_data.shape[0], 1, predict_data.shape[1]))"
   ]
  },
  {
   "cell_type": "code",
   "execution_count": 15,
   "metadata": {},
   "outputs": [
    {
     "data": {
      "text/plain": [
       "array([17, 17, 17, 16, 15, 16, 16, 16], dtype=int64)"
      ]
     },
     "execution_count": 15,
     "metadata": {},
     "output_type": "execute_result"
    }
   ],
   "source": [
    "TMAX_result = TMAX_model_2.predict_classes(predict_data)\n",
    "TMAX_result"
   ]
  },
  {
   "cell_type": "code",
   "execution_count": null,
   "metadata": {},
   "outputs": [],
   "source": []
  }
 ],
 "metadata": {
  "kernelspec": {
   "display_name": "Python 3",
   "language": "python",
   "name": "python3"
  },
  "language_info": {
   "codemirror_mode": {
    "name": "ipython",
    "version": 3
   },
   "file_extension": ".py",
   "mimetype": "text/x-python",
   "name": "python",
   "nbconvert_exporter": "python",
   "pygments_lexer": "ipython3",
   "version": "3.7.6"
  }
 },
 "nbformat": 4,
 "nbformat_minor": 4
}
