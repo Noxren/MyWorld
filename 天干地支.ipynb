{
 "cells": [
  {
   "cell_type": "code",
   "execution_count": 1,
   "metadata": {},
   "outputs": [],
   "source": [
    "%matplotlib inline\n",
    "\n",
    "import numpy as np\n",
    "import matplotlib.pyplot as plt\n",
    "import pandas as pd"
   ]
  },
  {
   "cell_type": "code",
   "execution_count": 4,
   "metadata": {},
   "outputs": [
    {
     "name": "stdout",
     "output_type": "stream",
     "text": [
      "輸入西元年 4\n",
      "西元 4 年是 甲子 年\n"
     ]
    }
   ],
   "source": [
    "天干 = \"甲乙丙丁戊己庚辛壬癸\"\n",
    "地支 = \"子丑寅卯辰巳午未申酉戌亥\"\n",
    "year = int(input(\"輸入西元年 \"))\n",
    "A = (year-3)%60\n",
    "B = A%10\n",
    "C = A%12\n",
    "print(\"西元 {} 年是 {}{} 年\".format(year, 天干[B-1], 地支[C-1]))"
   ]
  },
  {
   "cell_type": "code",
   "execution_count": null,
   "metadata": {},
   "outputs": [],
   "source": []
  }
 ],
 "metadata": {
  "kernelspec": {
   "display_name": "Python 3",
   "language": "python",
   "name": "python3"
  },
  "language_info": {
   "codemirror_mode": {
    "name": "ipython",
    "version": 3
   },
   "file_extension": ".py",
   "mimetype": "text/x-python",
   "name": "python",
   "nbconvert_exporter": "python",
   "pygments_lexer": "ipython3",
   "version": "3.7.4"
  }
 },
 "nbformat": 4,
 "nbformat_minor": 2
}
