{
 "cells": [
  {
   "cell_type": "code",
   "execution_count": 1,
   "metadata": {},
   "outputs": [],
   "source": [
    "%matplotlib inline\n",
    "\n",
    "import numpy as np\n",
    "import matplotlib.pyplot as plt\n",
    "import pandas as pd"
   ]
  },
  {
   "cell_type": "markdown",
   "metadata": {},
   "source": [
    "### 讀入整理好的數據集"
   ]
  },
  {
   "cell_type": "code",
   "execution_count": 4,
   "metadata": {},
   "outputs": [],
   "source": [
    "train_set = pd.read_hdf(\"train_set0517.h5\")\n",
    "test_set = pd.read_hdf(\"test_set0517.h5\")"
   ]
  },
  {
   "cell_type": "markdown",
   "metadata": {},
   "source": [
    "### 篩選x_train, x_test要用的資料\n",
    "### 用前一天的數據預測隔一天的天氣"
   ]
  },
  {
   "cell_type": "code",
   "execution_count": 5,
   "metadata": {},
   "outputs": [],
   "source": [
    "x_train_data = train_set[['YEAR', 'MONTH', 'DAY', 'TMAX', 'TMIN', 'TAVG', 'PRCP']]\n",
    "x_train_data = x_train_data.drop(x_train_data.index[-1])\n",
    "x_test_data = test_set[['YEAR', 'MONTH', 'DAY', 'TMAX', 'TMIN', 'TAVG', 'PRCP']]\n",
    "x_test_data = x_test_data.drop(x_test_data.index[-1])"
   ]
  },
  {
   "cell_type": "code",
   "execution_count": 6,
   "metadata": {},
   "outputs": [],
   "source": [
    "from tensorflow.keras import backend as K"
   ]
  },
  {
   "cell_type": "markdown",
   "metadata": {},
   "source": [
    "### 將x資料轉為floatx形式，並reshape以便訓練"
   ]
  },
  {
   "cell_type": "code",
   "execution_count": 7,
   "metadata": {},
   "outputs": [],
   "source": [
    "x_train = K.cast_to_floatx(x_train_data.values.reshape((x_train_data.shape[0], 1, x_train_data.shape[1])))\n",
    "x_test = K.cast_to_floatx(x_test_data.values.reshape((x_test_data.shape[0], 1, x_test_data.shape[1])))"
   ]
  },
  {
   "cell_type": "markdown",
   "metadata": {},
   "source": [
    "### 篩選y_train, y_test要用的資料"
   ]
  },
  {
   "cell_type": "code",
   "execution_count": 8,
   "metadata": {},
   "outputs": [],
   "source": [
    "y_train_TMIN_data = train_set[['TMIN_Interval']].astype(int)\n",
    "y_train_TMIN = y_train_TMIN_data.drop(y_train_TMIN_data.index[0])\n",
    "\n",
    "y_test_TMIN_data = test_set[['TMIN_Interval']].astype(int)\n",
    "y_test_TMIN = y_test_TMIN_data.drop(y_test_TMIN_data.index[0])"
   ]
  },
  {
   "cell_type": "code",
   "execution_count": 9,
   "metadata": {},
   "outputs": [],
   "source": [
    "from tensorflow.keras.models import Sequential\n",
    "from tensorflow.keras.layers import Dense\n",
    "from tensorflow.keras.layers import GRU"
   ]
  },
  {
   "cell_type": "markdown",
   "metadata": {},
   "source": [
    "### 建立model\n",
    "### 使用GRU訓練，加入兩層Dense，分別用relu及sigmoid\n",
    "### loss採用sparse_categorical_crossentropy，optimizer用adam"
   ]
  },
  {
   "cell_type": "code",
   "execution_count": 10,
   "metadata": {},
   "outputs": [
    {
     "name": "stdout",
     "output_type": "stream",
     "text": [
      "WARNING:tensorflow:From D:\\python\\lib\\site-packages\\tensorflow\\python\\ops\\init_ops.py:1251: calling VarianceScaling.__init__ (from tensorflow.python.ops.init_ops) with dtype is deprecated and will be removed in a future version.\n",
      "Instructions for updating:\n",
      "Call initializer instance with the dtype argument instead of passing it to the constructor\n",
      "Model: \"sequential_1\"\n",
      "_________________________________________________________________\n",
      "Layer (type)                 Output Shape              Param #   \n",
      "=================================================================\n",
      "gru (GRU)                    (None, 256)               202752    \n",
      "_________________________________________________________________\n",
      "dense (Dense)                (None, 100)               25700     \n",
      "_________________________________________________________________\n",
      "dense_1 (Dense)              (None, 80)                8080      \n",
      "=================================================================\n",
      "Total params: 236,532\n",
      "Trainable params: 236,532\n",
      "Non-trainable params: 0\n",
      "_________________________________________________________________\n"
     ]
    }
   ],
   "source": [
    "TMIN_model = Sequential()\n",
    "TMIN_model.add(GRU(256, dropout = 0.25, recurrent_dropout = 0.25, input_shape = (\n",
    "    x_train.shape[1], x_train.shape[2])))\n",
    "TMIN_model.add(Dense(100, activation = 'relu'))\n",
    "TMIN_model.add(Dense(80, activation = 'sigmoid'))\n",
    "TMIN_model.compile(loss = 'sparse_categorical_crossentropy', optimizer = 'adam', metrics = ['accuracy'])\n",
    "TMIN_model.summary()"
   ]
  },
  {
   "cell_type": "markdown",
   "metadata": {},
   "source": [
    "### 訓練模型20次"
   ]
  },
  {
   "cell_type": "code",
   "execution_count": 9,
   "metadata": {},
   "outputs": [
    {
     "name": "stdout",
     "output_type": "stream",
     "text": [
      "Train on 4060570 samples, validate on 414830 samples\n",
      "WARNING:tensorflow:From D:\\python\\lib\\site-packages\\tensorflow\\python\\ops\\math_grad.py:1250: add_dispatch_support.<locals>.wrapper (from tensorflow.python.ops.array_ops) is deprecated and will be removed in a future version.\n",
      "Instructions for updating:\n",
      "Use tf.where in 2.0, which has the same broadcast rule as np.where\n",
      "Epoch 1/20\n",
      "4060570/4060570 [==============================] - 529s 130us/sample - loss: 0.5665 - acc: 0.7860 - val_loss: 0.5484 - val_acc: 0.8043\n",
      "Epoch 2/20\n",
      "4060570/4060570 [==============================] - 570s 140us/sample - loss: 0.4715 - acc: 0.8153 - val_loss: 0.5037 - val_acc: 0.8177\n",
      "Epoch 3/20\n",
      "4060570/4060570 [==============================] - 556s 137us/sample - loss: 0.4432 - acc: 0.8312 - val_loss: 0.5188 - val_acc: 0.8113\n",
      "Epoch 4/20\n",
      "4060570/4060570 [==============================] - 552s 136us/sample - loss: 0.4272 - acc: 0.8379 - val_loss: 0.5052 - val_acc: 0.8117\n",
      "Epoch 5/20\n",
      "4060570/4060570 [==============================] - 552s 136us/sample - loss: 0.4247 - acc: 0.8370 - val_loss: 0.4933 - val_acc: 0.7694\n",
      "Epoch 6/20\n",
      "4060570/4060570 [==============================] - 562s 138us/sample - loss: 0.4203 - acc: 0.8388 - val_loss: 0.4659 - val_acc: 0.8311\n",
      "Epoch 7/20\n",
      "4060570/4060570 [==============================] - 559s 138us/sample - loss: 0.4187 - acc: 0.8396 - val_loss: 0.4811 - val_acc: 0.8310\n",
      "Epoch 8/20\n",
      "4060570/4060570 [==============================] - 550s 136us/sample - loss: 0.4127 - acc: 0.8415 - val_loss: 0.4814 - val_acc: 0.8344\n",
      "Epoch 9/20\n",
      "4060570/4060570 [==============================] - 551s 136us/sample - loss: 0.4128 - acc: 0.8409 - val_loss: 0.4694 - val_acc: 0.8303\n",
      "Epoch 10/20\n",
      "4060570/4060570 [==============================] - 550s 135us/sample - loss: 0.4099 - acc: 0.8433 - val_loss: 0.5142 - val_acc: 0.8255\n",
      "Epoch 11/20\n",
      "4060570/4060570 [==============================] - 546s 134us/sample - loss: 0.4053 - acc: 0.8446 - val_loss: 0.4791 - val_acc: 0.8362\n",
      "Epoch 12/20\n",
      "4060570/4060570 [==============================] - 562s 138us/sample - loss: 0.4044 - acc: 0.8452 - val_loss: 0.4768 - val_acc: 0.8400\n",
      "Epoch 13/20\n",
      "4060570/4060570 [==============================] - 605s 149us/sample - loss: 0.4022 - acc: 0.8474 - val_loss: 0.5129 - val_acc: 0.8358\n",
      "Epoch 14/20\n",
      "4060570/4060570 [==============================] - 624s 154us/sample - loss: 0.4019 - acc: 0.8478 - val_loss: 0.4845 - val_acc: 0.8374\n",
      "Epoch 15/20\n",
      "4060570/4060570 [==============================] - 578s 142us/sample - loss: 0.4009 - acc: 0.8480 - val_loss: 0.4930 - val_acc: 0.8381\n",
      "Epoch 16/20\n",
      "4060570/4060570 [==============================] - 577s 142us/sample - loss: 0.3992 - acc: 0.8483 - val_loss: 0.4689 - val_acc: 0.8358\n",
      "Epoch 17/20\n",
      "4060570/4060570 [==============================] - 555s 137us/sample - loss: 0.3985 - acc: 0.8486 - val_loss: 0.4577 - val_acc: 0.8312\n",
      "Epoch 18/20\n",
      "4060570/4060570 [==============================] - 548s 135us/sample - loss: 0.3960 - acc: 0.8496 - val_loss: 0.4539 - val_acc: 0.8371\n",
      "Epoch 19/20\n",
      "4060570/4060570 [==============================] - 558s 138us/sample - loss: 0.3991 - acc: 0.8489 - val_loss: 0.5032 - val_acc: 0.8285\n",
      "Epoch 20/20\n",
      "4060570/4060570 [==============================] - 566s 139us/sample - loss: 0.3979 - acc: 0.8501 - val_loss: 0.4874 - val_acc: 0.8326\n"
     ]
    }
   ],
   "source": [
    "history = TMIN_model.fit(x_train, y_train_TMIN, batch_size = 50, epochs = 20, validation_data = (x_test, y_test_TMIN))"
   ]
  },
  {
   "cell_type": "markdown",
   "metadata": {},
   "source": [
    "### 繪製accuracy, loss訓練軌跡圖"
   ]
  },
  {
   "cell_type": "code",
   "execution_count": 10,
   "metadata": {},
   "outputs": [
    {
     "data": {
      "image/png": "[encoded data removed]",
      "text/plain": [
       "<Figure size 432x288 with 1 Axes>"
      ]
     },
     "metadata": {
      "needs_background": "light"
     },
     "output_type": "display_data"
    },
    {
     "data": {
      "image/png": "[encoded data removed]",
      "text/plain": [
       "<Figure size 432x288 with 1 Axes>"
      ]
     },
     "metadata": {
      "needs_background": "light"
     },
     "output_type": "display_data"
    }
   ],
   "source": [
    "plt.plot(history.history['acc'])\n",
    "plt.plot(history.history['val_acc'])\n",
    "plt.title('model accuracy')\n",
    "plt.xlabel('epoch')\n",
    "plt.ylabel('accuracy')\n",
    "plt.legend(['train', 'validation'], loc='upper left')\n",
    "plt.show()\n",
    "\n",
    "plt.plot(history.history['loss'])\n",
    "plt.plot(history.history['val_loss'])\n",
    "plt.title('model loss')\n",
    "plt.xlabel('epoch')\n",
    "plt.ylabel('loss')\n",
    "plt.legend(['train', 'validation'], loc='upper left')\n",
    "plt.show()"
   ]
  },
  {
   "cell_type": "code",
   "execution_count": 11,
   "metadata": {},
   "outputs": [],
   "source": [
    "TMIN_model.save_weights('TMIN_model.h5')"
   ]
  },
  {
   "cell_type": "code",
   "execution_count": 12,
   "metadata": {},
   "outputs": [],
   "source": [
    "TMIN_model.load_weights('TMIN_model.h5')"
   ]
  },
  {
   "cell_type": "code",
   "execution_count": 30,
   "metadata": {},
   "outputs": [],
   "source": [
    "predict_data = pd.read_csv('氣象局觀測資料.csv')"
   ]
  },
  {
   "cell_type": "code",
   "execution_count": 32,
   "metadata": {},
   "outputs": [],
   "source": [
    "predict_data = predict_data[['YEAR', 'MONTH', 'DAY', 'TMAX', 'TMIN', 'TAVG', 'PRCP']]\n",
    "predict_data = K.cast_to_floatx(predict_data.values.reshape(predict_data.shape[0], 1, predict_data.shape[1]))"
   ]
  },
  {
   "cell_type": "code",
   "execution_count": 31,
   "metadata": {},
   "outputs": [
    {
     "data": {
      "text/html": [
       "<div>\n",
       "<style scoped>\n",
       "    .dataframe tbody tr th:only-of-type {\n",
       "        vertical-align: middle;\n",
       "    }\n",
       "\n",
       "    .dataframe tbody tr th {\n",
       "        vertical-align: top;\n",
       "    }\n",
       "\n",
       "    .dataframe thead th {\n",
       "        text-align: right;\n",
       "    }\n",
       "</style>\n",
       "<table border=\"1\" class=\"dataframe\">\n",
       "  <thead>\n",
       "    <tr style=\"text-align: right;\">\n",
       "      <th></th>\n",
       "      <th>YEAR</th>\n",
       "      <th>MONTH</th>\n",
       "      <th>DAY</th>\n",
       "      <th>TMAX</th>\n",
       "      <th>TMIN</th>\n",
       "      <th>TAVG</th>\n",
       "      <th>PRCP</th>\n",
       "    </tr>\n",
       "  </thead>\n",
       "  <tbody>\n",
       "    <tr>\n",
       "      <th>0</th>\n",
       "      <td>2020</td>\n",
       "      <td>5</td>\n",
       "      <td>15</td>\n",
       "      <td>32.1</td>\n",
       "      <td>22.6</td>\n",
       "      <td>27.200000</td>\n",
       "      <td>0.000000</td>\n",
       "    </tr>\n",
       "    <tr>\n",
       "      <th>1</th>\n",
       "      <td>2020</td>\n",
       "      <td>5</td>\n",
       "      <td>16</td>\n",
       "      <td>32.4</td>\n",
       "      <td>23.0</td>\n",
       "      <td>25.900000</td>\n",
       "      <td>0.458333</td>\n",
       "    </tr>\n",
       "    <tr>\n",
       "      <th>2</th>\n",
       "      <td>2020</td>\n",
       "      <td>5</td>\n",
       "      <td>17</td>\n",
       "      <td>31.9</td>\n",
       "      <td>21.7</td>\n",
       "      <td>25.441667</td>\n",
       "      <td>0.000000</td>\n",
       "    </tr>\n",
       "    <tr>\n",
       "      <th>3</th>\n",
       "      <td>2020</td>\n",
       "      <td>5</td>\n",
       "      <td>18</td>\n",
       "      <td>27.7</td>\n",
       "      <td>23.2</td>\n",
       "      <td>24.645833</td>\n",
       "      <td>0.291667</td>\n",
       "    </tr>\n",
       "    <tr>\n",
       "      <th>4</th>\n",
       "      <td>2020</td>\n",
       "      <td>5</td>\n",
       "      <td>19</td>\n",
       "      <td>24.0</td>\n",
       "      <td>21.8</td>\n",
       "      <td>21.841667</td>\n",
       "      <td>0.250000</td>\n",
       "    </tr>\n",
       "    <tr>\n",
       "      <th>5</th>\n",
       "      <td>2020</td>\n",
       "      <td>5</td>\n",
       "      <td>20</td>\n",
       "      <td>25.9</td>\n",
       "      <td>21.5</td>\n",
       "      <td>22.608333</td>\n",
       "      <td>0.312500</td>\n",
       "    </tr>\n",
       "    <tr>\n",
       "      <th>6</th>\n",
       "      <td>2020</td>\n",
       "      <td>5</td>\n",
       "      <td>21</td>\n",
       "      <td>27.9</td>\n",
       "      <td>22.7</td>\n",
       "      <td>24.300000</td>\n",
       "      <td>1.937500</td>\n",
       "    </tr>\n",
       "    <tr>\n",
       "      <th>7</th>\n",
       "      <td>2020</td>\n",
       "      <td>5</td>\n",
       "      <td>22</td>\n",
       "      <td>25.1</td>\n",
       "      <td>23.0</td>\n",
       "      <td>23.700000</td>\n",
       "      <td>3.229167</td>\n",
       "    </tr>\n",
       "  </tbody>\n",
       "</table>\n",
       "</div>"
      ],
      "text/plain": [
       "   YEAR  MONTH  DAY  TMAX  TMIN       TAVG      PRCP\n",
       "0  2020      5   15  32.1  22.6  27.200000  0.000000\n",
       "1  2020      5   16  32.4  23.0  25.900000  0.458333\n",
       "2  2020      5   17  31.9  21.7  25.441667  0.000000\n",
       "3  2020      5   18  27.7  23.2  24.645833  0.291667\n",
       "4  2020      5   19  24.0  21.8  21.841667  0.250000\n",
       "5  2020      5   20  25.9  21.5  22.608333  0.312500\n",
       "6  2020      5   21  27.9  22.7  24.300000  1.937500\n",
       "7  2020      5   22  25.1  23.0  23.700000  3.229167"
      ]
     },
     "execution_count": 31,
     "metadata": {},
     "output_type": "execute_result"
    }
   ],
   "source": [
    "predict_data"
   ]
  },
  {
   "cell_type": "code",
   "execution_count": 37,
   "metadata": {},
   "outputs": [],
   "source": [
    "TMIN_result = TMIN_model.predict_classes(predict_data)"
   ]
  },
  {
   "cell_type": "code",
   "execution_count": 38,
   "metadata": {},
   "outputs": [
    {
     "data": {
      "text/plain": [
       "array([15, 15, 15, 15, 15, 15, 15, 15], dtype=int64)"
      ]
     },
     "execution_count": 38,
     "metadata": {},
     "output_type": "execute_result"
    }
   ],
   "source": [
    "TMIN_result"
   ]
  },
  {
   "cell_type": "code",
   "execution_count": null,
   "metadata": {},
   "outputs": [],
   "source": []
  }
 ],
 "metadata": {
  "kernelspec": {
   "display_name": "Python 3",
   "language": "python",
   "name": "python3"
  },
  "language_info": {
   "codemirror_mode": {
    "name": "ipython",
    "version": 3
   },
   "file_extension": ".py",
   "mimetype": "text/x-python",
   "name": "python",
   "nbconvert_exporter": "python",
   "pygments_lexer": "ipython3",
   "version": "3.7.6"
  }
 },
 "nbformat": 4,
 "nbformat_minor": 4
}
