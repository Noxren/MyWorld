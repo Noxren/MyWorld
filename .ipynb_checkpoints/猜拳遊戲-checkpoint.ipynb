{
 "cells": [
  {
   "cell_type": "code",
   "execution_count": 1,
   "metadata": {},
   "outputs": [],
   "source": [
    "%matplotlib inline\n",
    "\n",
    "import numpy as np\n",
    "import matplotlib.pyplot as plt\n",
    "import pandas as pd"
   ]
  },
  {
   "cell_type": "code",
   "execution_count": 9,
   "metadata": {},
   "outputs": [
    {
     "name": "stdout",
     "output_type": "stream",
     "text": [
      "剪刀石頭布! 石頭\n",
      "布\n",
      "我贏了!\n"
     ]
    }
   ],
   "source": [
    "import random\n",
    "play = [\"剪刀\", \"石頭\", \"布\"]\n",
    "me = input(\"剪刀石頭布! \")\n",
    "pc = random.choice(play)\n",
    "print(pc)\n",
    "if(me == pc):\n",
    "    print(\"平手~\")\n",
    "elif(me == \"剪刀\") and (pc == \"石頭\"):\n",
    "    print(\"我贏了!\")\n",
    "elif(me == \"剪刀\") and (pc == \"布\"):\n",
    "    print(\"你贏了!\")\n",
    "elif(me == \"石頭\") and (pc == \"布\"):\n",
    "    print(\"我贏了!\")\n",
    "elif(me == \"石頭\") and (pc == \"剪刀\"):\n",
    "    print(\"你贏了!\")\n",
    "elif(me == \"布\") and (pc == \"剪刀\"):\n",
    "    print(\"我贏了!\")\n",
    "elif(me == \"布\") and (pc == \"石頭\"):\n",
    "    print(\"你贏了!\")"
   ]
  },
  {
   "cell_type": "code",
   "execution_count": null,
   "metadata": {},
   "outputs": [],
   "source": []
  }
 ],
 "metadata": {
  "kernelspec": {
   "display_name": "Python 3",
   "language": "python",
   "name": "python3"
  },
  "language_info": {
   "codemirror_mode": {
    "name": "ipython",
    "version": 3
   },
   "file_extension": ".py",
   "mimetype": "text/x-python",
   "name": "python",
   "nbconvert_exporter": "python",
   "pygments_lexer": "ipython3",
   "version": "3.7.4"
  }
 },
 "nbformat": 4,
 "nbformat_minor": 2
}
