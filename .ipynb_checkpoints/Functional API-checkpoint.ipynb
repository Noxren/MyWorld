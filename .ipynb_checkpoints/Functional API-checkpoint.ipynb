{
 "cells": [
  {
   "cell_type": "markdown",
   "metadata": {},
   "source": [
    "## 1. 讀入套件"
   ]
  },
  {
   "cell_type": "code",
   "execution_count": 2,
   "metadata": {},
   "outputs": [],
   "source": [
    "%matplotlib inline\n",
    "\n",
    "import numpy as np\n",
    "import matplotlib.pyplot as plt\n",
    "import pandas as pd\n",
    "\n",
    "from tensorflow.keras.models import Sequential\n",
    "from tensorflow.keras.layers import Dense\n",
    "from tensorflow.keras.layers import Flatten\n",
    "\n",
    "from tensorflow.keras.layers import Conv2D, MaxPool2D\n",
    "from tensorflow.keras.optimizers import SGD\n",
    "\n",
    "from tensorflow.keras.datasets import mnist\n",
    "from tensorflow.keras.utils import to_categorical\n",
    "\n",
    "from tensorflow.keras.models import Model\n",
    "from tensorflow.keras.layers import Input\n",
    "from tensorflow.keras.layers import concatenate"
   ]
  },
  {
   "cell_type": "markdown",
   "metadata": {},
   "source": [
    "## 2. 讀入mnist資料集並整理"
   ]
  },
  {
   "cell_type": "code",
   "execution_count": 3,
   "metadata": {},
   "outputs": [],
   "source": [
    "(x_train, y_train), (x_test, y_test) = mnist.load_data()\n",
    "\n",
    "x_train = x_train.reshape(-1, 784) / 255\n",
    "x_test = x_test.reshape(-1, 784) / 255\n",
    "\n",
    "y_train = to_categorical(y_train, 10)\n",
    "y_test = to_categorical(y_test, 10)"
   ]
  },
  {
   "cell_type": "markdown",
   "metadata": {},
   "source": [
    "### 建立 h_1 = f_1(x) , h_2 = f_2(h_1) , h_3 =  f_3(h_1) , y =  f_4(h_2, h_3)的模型\n",
    "\n",
    "## 3. 定義各層函數"
   ]
  },
  {
   "cell_type": "code",
   "execution_count": 5,
   "metadata": {},
   "outputs": [],
   "source": [
    "f_1 = Dense(512, activation = 'sigmoid')\n",
    "f_2 = Dense(256, activation = 'sigmoid')\n",
    "f_3 = Dense(128, activation = 'relu')\n",
    "f_4 = Dense(10, activation = 'softmax')"
   ]
  },
  {
   "cell_type": "code",
   "execution_count": 6,
   "metadata": {},
   "outputs": [],
   "source": [
    "x = Input(shape = (784, ))\n",
    "h_1 = f_1(x)\n",
    "h_2 = f_2(h_1)\n",
    "h_3 = f_3(h_1)\n",
    "c = concatenate([h_2, h_3])\n",
    "y = f_4(c)"
   ]
  },
  {
   "cell_type": "markdown",
   "metadata": {},
   "source": [
    "## 4. 建立模型"
   ]
  },
  {
   "cell_type": "code",
   "execution_count": 7,
   "metadata": {},
   "outputs": [
    {
     "name": "stdout",
     "output_type": "stream",
     "text": [
      "Model: \"model\"\n",
      "__________________________________________________________________________________________________\n",
      "Layer (type)                    Output Shape         Param #     Connected to                     \n",
      "==================================================================================================\n",
      "input_1 (InputLayer)            [(None, 784)]        0                                            \n",
      "__________________________________________________________________________________________________\n",
      "dense_4 (Dense)                 (None, 512)          401920      input_1[0][0]                    \n",
      "__________________________________________________________________________________________________\n",
      "dense_5 (Dense)                 (None, 256)          131328      dense_4[0][0]                    \n",
      "__________________________________________________________________________________________________\n",
      "dense_6 (Dense)                 (None, 128)          65664       dense_4[0][0]                    \n",
      "__________________________________________________________________________________________________\n",
      "concatenate (Concatenate)       (None, 384)          0           dense_5[0][0]                    \n",
      "                                                                 dense_6[0][0]                    \n",
      "__________________________________________________________________________________________________\n",
      "dense_7 (Dense)                 (None, 10)           3850        concatenate[0][0]                \n",
      "==================================================================================================\n",
      "Total params: 602,762\n",
      "Trainable params: 602,762\n",
      "Non-trainable params: 0\n",
      "__________________________________________________________________________________________________\n"
     ]
    }
   ],
   "source": [
    "model = Model(x, y)\n",
    "model.summary()"
   ]
  },
  {
   "cell_type": "markdown",
   "metadata": {},
   "source": [
    "## 5. 訓練模型"
   ]
  },
  {
   "cell_type": "code",
   "execution_count": 8,
   "metadata": {},
   "outputs": [
    {
     "name": "stdout",
     "output_type": "stream",
     "text": [
      "Train on 60000 samples, validate on 10000 samples\n",
      "Epoch 1/20\n",
      "60000/60000 [==============================] - 5s 92us/sample - loss: 0.0900 - acc: 0.1667 - val_loss: 0.0892 - val_acc: 0.1933\n",
      "Epoch 2/20\n",
      "60000/60000 [==============================] - 6s 101us/sample - loss: 0.0888 - acc: 0.2080 - val_loss: 0.0883 - val_acc: 0.2752\n",
      "Epoch 3/20\n",
      "60000/60000 [==============================] - 5s 85us/sample - loss: 0.0878 - acc: 0.2406 - val_loss: 0.0872 - val_acc: 0.2533\n",
      "Epoch 4/20\n",
      "60000/60000 [==============================] - 5s 86us/sample - loss: 0.0866 - acc: 0.2531 - val_loss: 0.0858 - val_acc: 0.2742\n",
      "Epoch 5/20\n",
      "60000/60000 [==============================] - 5s 87us/sample - loss: 0.0850 - acc: 0.2664 - val_loss: 0.0838 - val_acc: 0.2800\n",
      "Epoch 6/20\n",
      "60000/60000 [==============================] - 6s 94us/sample - loss: 0.0828 - acc: 0.2802 - val_loss: 0.0813 - val_acc: 0.2938\n",
      "Epoch 7/20\n",
      "60000/60000 [==============================] - 5s 89us/sample - loss: 0.0799 - acc: 0.3119 - val_loss: 0.0781 - val_acc: 0.3384\n",
      "Epoch 8/20\n",
      "60000/60000 [==============================] - 6s 96us/sample - loss: 0.0766 - acc: 0.3725 - val_loss: 0.0745 - val_acc: 0.3988\n",
      "Epoch 9/20\n",
      "60000/60000 [==============================] - 6s 97us/sample - loss: 0.0729 - acc: 0.4390 - val_loss: 0.0707 - val_acc: 0.4745\n",
      "Epoch 10/20\n",
      "60000/60000 [==============================] - 5s 88us/sample - loss: 0.0692 - acc: 0.5023 - val_loss: 0.0669 - val_acc: 0.5118\n",
      "Epoch 11/20\n",
      "60000/60000 [==============================] - 6s 92us/sample - loss: 0.0654 - acc: 0.5568 - val_loss: 0.0629 - val_acc: 0.5961\n",
      "Epoch 12/20\n",
      "60000/60000 [==============================] - 5s 90us/sample - loss: 0.0614 - acc: 0.6126 - val_loss: 0.0588 - val_acc: 0.6456\n",
      "Epoch 13/20\n",
      "60000/60000 [==============================] - 5s 89us/sample - loss: 0.0573 - acc: 0.6558 - val_loss: 0.0547 - val_acc: 0.6956\n",
      "Epoch 14/20\n",
      "60000/60000 [==============================] - 6s 93us/sample - loss: 0.0533 - acc: 0.6951 - val_loss: 0.0505 - val_acc: 0.7177\n",
      "Epoch 15/20\n",
      "60000/60000 [==============================] - 5s 91us/sample - loss: 0.0493 - acc: 0.7294 - val_loss: 0.0466 - val_acc: 0.7640\n",
      "Epoch 16/20\n",
      "60000/60000 [==============================] - 6s 95us/sample - loss: 0.0455 - acc: 0.7618 - val_loss: 0.0429 - val_acc: 0.7949\n",
      "Epoch 17/20\n",
      "60000/60000 [==============================] - 5s 91us/sample - loss: 0.0420 - acc: 0.7908 - val_loss: 0.0395 - val_acc: 0.8109\n",
      "Epoch 18/20\n",
      "60000/60000 [==============================] - 5s 90us/sample - loss: 0.0388 - acc: 0.8106 - val_loss: 0.0365 - val_acc: 0.8267\n",
      "Epoch 19/20\n",
      "60000/60000 [==============================] - 6s 93us/sample - loss: 0.0360 - acc: 0.8256 - val_loss: 0.0338 - val_acc: 0.8407\n",
      "Epoch 20/20\n",
      "60000/60000 [==============================] - 6s 93us/sample - loss: 0.0335 - acc: 0.8358 - val_loss: 0.0315 - val_acc: 0.8493\n"
     ]
    },
    {
     "data": {
      "text/plain": [
       "<tensorflow.python.keras.callbacks.History at 0x27d2f153848>"
      ]
     },
     "execution_count": 8,
     "metadata": {},
     "output_type": "execute_result"
    }
   ],
   "source": [
    "model.compile(loss = 'mse', optimizer = SGD(lr = 0.025), metrics = ['accuracy'])\n",
    "model.fit(x_train, y_train, batch_size = 64, epochs = 20, validation_data = (x_test, y_test))"
   ]
  },
  {
   "cell_type": "code",
   "execution_count": 9,
   "metadata": {},
   "outputs": [],
   "source": [
    "model.save_weights('mnist_functionAPI_model.h5')"
   ]
  },
  {
   "cell_type": "code",
   "execution_count": null,
   "metadata": {},
   "outputs": [],
   "source": []
  }
 ],
 "metadata": {
  "kernelspec": {
   "display_name": "Python 3",
   "language": "python",
   "name": "python3"
  },
  "language_info": {
   "codemirror_mode": {
    "name": "ipython",
    "version": 3
   },
   "file_extension": ".py",
   "mimetype": "text/x-python",
   "name": "python",
   "nbconvert_exporter": "python",
   "pygments_lexer": "ipython3",
   "version": "3.7.6"
  }
 },
 "nbformat": 4,
 "nbformat_minor": 4
}
