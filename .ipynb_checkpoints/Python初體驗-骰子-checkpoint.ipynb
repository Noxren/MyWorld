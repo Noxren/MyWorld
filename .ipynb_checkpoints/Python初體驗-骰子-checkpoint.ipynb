{
 "cells": [
  {
   "cell_type": "code",
   "execution_count": 2,
   "metadata": {},
   "outputs": [],
   "source": [
    "%matplotlib inline\n",
    "\n",
    "import numpy as np\n",
    "import matplotlib.pyplot as plt\n",
    "import pandas as pd"
   ]
  },
  {
   "cell_type": "code",
   "execution_count": 46,
   "metadata": {
    "scrolled": true
   },
   "outputs": [
    {
     "name": "stdout",
     "output_type": "stream",
     "text": [
      "[1, 3, 1]\n",
      "sum = 5\n",
      "Bad\n"
     ]
    }
   ],
   "source": [
    "import random\n",
    "dice = [1,2,3,4,5,6]\n",
    "n = np.random.randint(0, len(dice), size = 3)\n",
    "play = [dice[i] for i in n]\n",
    "num = sum(play)\n",
    "print(play)\n",
    "print(\"sum = %d\" %(num))\n",
    "if(num <= 6):\n",
    "    print('Bad')\n",
    "elif(num > 6 and num < 12):\n",
    "    print('Fine')\n",
    "else:\n",
    "    print('Good')"
   ]
  },
  {
   "cell_type": "code",
   "execution_count": null,
   "metadata": {},
   "outputs": [],
   "source": []
  }
 ],
 "metadata": {
  "kernelspec": {
   "display_name": "Python 3",
   "language": "python",
   "name": "python3"
  },
  "language_info": {
   "codemirror_mode": {
    "name": "ipython",
    "version": 3
   },
   "file_extension": ".py",
   "mimetype": "text/x-python",
   "name": "python",
   "nbconvert_exporter": "python",
   "pygments_lexer": "ipython3",
   "version": "3.7.4"
  }
 },
 "nbformat": 4,
 "nbformat_minor": 2
}
