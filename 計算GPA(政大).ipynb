{
 "cells": [
  {
   "cell_type": "code",
   "execution_count": 1,
   "metadata": {},
   "outputs": [],
   "source": [
    "%matplotlib inline\n",
    "\n",
    "import numpy as np\n",
    "import matplotlib.pyplot as plt\n",
    "import pandas as pd"
   ]
  },
  {
   "cell_type": "code",
   "execution_count": 4,
   "metadata": {},
   "outputs": [
    {
     "name": "stdout",
     "output_type": "stream",
     "text": [
      "輸入你的成績(輸入GPA開始計算): 87\n",
      "輸入你的成績(輸入GPA開始計算): 75\n",
      "輸入你的成績(輸入GPA開始計算): 65\n",
      "輸入你的成績(輸入GPA開始計算): GPA\n",
      "GPA= 3.0\n"
     ]
    }
   ],
   "source": [
    "sum = 0\n",
    "i = 0\n",
    "one = 1\n",
    "while(one == 1):\n",
    "    str1 = input(\"輸入你的成績(輸入GPA開始計算): \")\n",
    "    if str1 == \"GPA\":\n",
    "        break\n",
    "    i = i + 1\n",
    "    S = float(str1)\n",
    "    if (S<=100) and (S>=90):\n",
    "        sum = sum + 4.3\n",
    "    elif (S<=89) and (S>=85):\n",
    "        sum = sum + 4\n",
    "    elif (S<=84) and (S>=80):\n",
    "        sum = sum + 3.7\n",
    "    elif (S<=79) and (S>=77):\n",
    "        sum = sum + 3.3\n",
    "    elif (S<=76) and (S>=73):\n",
    "        sum = sum + 3\n",
    "    elif (S<=72) and (S>=70):\n",
    "        sum = sum + 2.7\n",
    "    elif (S<=69) and (S>=67):\n",
    "        sum = sum + 2.3\n",
    "    elif (S<=66) and (S>=63):\n",
    "        sum = sum + 2\n",
    "    elif (S<=62) and (S>=60):\n",
    "        sum = sum + 1.7\n",
    "    elif (S<=59) and (S>=57):\n",
    "        sum = sum + 1.3\n",
    "    elif (S<=56) and (S>=53):\n",
    "        sum = sum + 1\n",
    "    elif (S<=52) and (S>=50):\n",
    "        sum = sum + 0.7\n",
    "    elif (S<=49) and (S>=0):\n",
    "        sum = sum\n",
    "GPA = sum / i\n",
    "print(\"GPA= \" + str(GPA))"
   ]
  },
  {
   "cell_type": "code",
   "execution_count": null,
   "metadata": {},
   "outputs": [],
   "source": []
  }
 ],
 "metadata": {
  "kernelspec": {
   "display_name": "Python 3",
   "language": "python",
   "name": "python3"
  },
  "language_info": {
   "codemirror_mode": {
    "name": "ipython",
    "version": 3
   },
   "file_extension": ".py",
   "mimetype": "text/x-python",
   "name": "python",
   "nbconvert_exporter": "python",
   "pygments_lexer": "ipython3",
   "version": "3.7.4"
  }
 },
 "nbformat": 4,
 "nbformat_minor": 2
}
