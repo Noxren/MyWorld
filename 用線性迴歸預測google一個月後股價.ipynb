{
 "cells": [
  {
   "cell_type": "code",
   "execution_count": 3,
   "metadata": {},
   "outputs": [
    {
     "name": "stderr",
     "output_type": "stream",
     "text": [
      "D:\\python\\lib\\site-packages\\pandas_datareader\\compat\\__init__.py:7: FutureWarning: pandas.util.testing is deprecated. Use the functions in the public API at pandas.testing instead.\n",
      "  from pandas.util.testing import assert_frame_equal\n"
     ]
    }
   ],
   "source": [
    "%matplotlib inline\n",
    "\n",
    "import numpy as np\n",
    "import matplotlib.pyplot as plt\n",
    "import pandas as pd\n",
    "\n",
    "#用datareader讀入股價資料\n",
    "import pandas_datareader.data as web\n",
    "\n",
    "#讀入迴歸分析套件\n",
    "from sklearn.model_selection import train_test_split\n",
    "from sklearn.linear_model import LinearRegression"
   ]
  },
  {
   "cell_type": "code",
   "execution_count": 4,
   "metadata": {},
   "outputs": [],
   "source": [
    "df = web.DataReader(\"GOOG\", \"yahoo\")"
   ]
  },
  {
   "cell_type": "code",
   "execution_count": 6,
   "metadata": {},
   "outputs": [
    {
     "data": {
      "text/html": [
       "<div>\n",
       "<style scoped>\n",
       "    .dataframe tbody tr th:only-of-type {\n",
       "        vertical-align: middle;\n",
       "    }\n",
       "\n",
       "    .dataframe tbody tr th {\n",
       "        vertical-align: top;\n",
       "    }\n",
       "\n",
       "    .dataframe thead th {\n",
       "        text-align: right;\n",
       "    }\n",
       "</style>\n",
       "<table border=\"1\" class=\"dataframe\">\n",
       "  <thead>\n",
       "    <tr style=\"text-align: right;\">\n",
       "      <th></th>\n",
       "      <th>High</th>\n",
       "      <th>Low</th>\n",
       "      <th>Open</th>\n",
       "      <th>Close</th>\n",
       "      <th>Volume</th>\n",
       "      <th>Adj Close</th>\n",
       "    </tr>\n",
       "    <tr>\n",
       "      <th>Date</th>\n",
       "      <th></th>\n",
       "      <th></th>\n",
       "      <th></th>\n",
       "      <th></th>\n",
       "      <th></th>\n",
       "      <th></th>\n",
       "    </tr>\n",
       "  </thead>\n",
       "  <tbody>\n",
       "    <tr>\n",
       "      <th>2015-06-08</th>\n",
       "      <td>534.119995</td>\n",
       "      <td>526.239990</td>\n",
       "      <td>533.309998</td>\n",
       "      <td>526.830017</td>\n",
       "      <td>1520600</td>\n",
       "      <td>526.830017</td>\n",
       "    </tr>\n",
       "    <tr>\n",
       "      <th>2015-06-09</th>\n",
       "      <td>529.200012</td>\n",
       "      <td>523.010010</td>\n",
       "      <td>527.559998</td>\n",
       "      <td>526.690002</td>\n",
       "      <td>1455300</td>\n",
       "      <td>526.690002</td>\n",
       "    </tr>\n",
       "    <tr>\n",
       "      <th>2015-06-10</th>\n",
       "      <td>538.359985</td>\n",
       "      <td>529.349976</td>\n",
       "      <td>529.359985</td>\n",
       "      <td>536.690002</td>\n",
       "      <td>1815000</td>\n",
       "      <td>536.690002</td>\n",
       "    </tr>\n",
       "    <tr>\n",
       "      <th>2015-06-11</th>\n",
       "      <td>538.979980</td>\n",
       "      <td>533.020020</td>\n",
       "      <td>538.424988</td>\n",
       "      <td>534.609985</td>\n",
       "      <td>1217500</td>\n",
       "      <td>534.609985</td>\n",
       "    </tr>\n",
       "    <tr>\n",
       "      <th>2015-06-12</th>\n",
       "      <td>533.119995</td>\n",
       "      <td>530.159973</td>\n",
       "      <td>531.599976</td>\n",
       "      <td>532.330017</td>\n",
       "      <td>955800</td>\n",
       "      <td>532.330017</td>\n",
       "    </tr>\n",
       "    <tr>\n",
       "      <th>...</th>\n",
       "      <td>...</td>\n",
       "      <td>...</td>\n",
       "      <td>...</td>\n",
       "      <td>...</td>\n",
       "      <td>...</td>\n",
       "      <td>...</td>\n",
       "    </tr>\n",
       "    <tr>\n",
       "      <th>2020-06-01</th>\n",
       "      <td>1437.959961</td>\n",
       "      <td>1418.000000</td>\n",
       "      <td>1418.390015</td>\n",
       "      <td>1431.819946</td>\n",
       "      <td>1217100</td>\n",
       "      <td>1431.819946</td>\n",
       "    </tr>\n",
       "    <tr>\n",
       "      <th>2020-06-02</th>\n",
       "      <td>1439.609985</td>\n",
       "      <td>1418.829956</td>\n",
       "      <td>1430.550049</td>\n",
       "      <td>1439.219971</td>\n",
       "      <td>1278100</td>\n",
       "      <td>1439.219971</td>\n",
       "    </tr>\n",
       "    <tr>\n",
       "      <th>2020-06-03</th>\n",
       "      <td>1446.552002</td>\n",
       "      <td>1429.776978</td>\n",
       "      <td>1438.300049</td>\n",
       "      <td>1436.380005</td>\n",
       "      <td>1256200</td>\n",
       "      <td>1436.380005</td>\n",
       "    </tr>\n",
       "    <tr>\n",
       "      <th>2020-06-04</th>\n",
       "      <td>1438.959961</td>\n",
       "      <td>1404.729980</td>\n",
       "      <td>1430.400024</td>\n",
       "      <td>1412.180054</td>\n",
       "      <td>1484300</td>\n",
       "      <td>1412.180054</td>\n",
       "    </tr>\n",
       "    <tr>\n",
       "      <th>2020-06-05</th>\n",
       "      <td>1445.050049</td>\n",
       "      <td>1406.000000</td>\n",
       "      <td>1413.170044</td>\n",
       "      <td>1438.390015</td>\n",
       "      <td>1734900</td>\n",
       "      <td>1438.390015</td>\n",
       "    </tr>\n",
       "  </tbody>\n",
       "</table>\n",
       "<p>1259 rows × 6 columns</p>\n",
       "</div>"
      ],
      "text/plain": [
       "                   High          Low         Open        Close   Volume  \\\n",
       "Date                                                                      \n",
       "2015-06-08   534.119995   526.239990   533.309998   526.830017  1520600   \n",
       "2015-06-09   529.200012   523.010010   527.559998   526.690002  1455300   \n",
       "2015-06-10   538.359985   529.349976   529.359985   536.690002  1815000   \n",
       "2015-06-11   538.979980   533.020020   538.424988   534.609985  1217500   \n",
       "2015-06-12   533.119995   530.159973   531.599976   532.330017   955800   \n",
       "...                 ...          ...          ...          ...      ...   \n",
       "2020-06-01  1437.959961  1418.000000  1418.390015  1431.819946  1217100   \n",
       "2020-06-02  1439.609985  1418.829956  1430.550049  1439.219971  1278100   \n",
       "2020-06-03  1446.552002  1429.776978  1438.300049  1436.380005  1256200   \n",
       "2020-06-04  1438.959961  1404.729980  1430.400024  1412.180054  1484300   \n",
       "2020-06-05  1445.050049  1406.000000  1413.170044  1438.390015  1734900   \n",
       "\n",
       "              Adj Close  \n",
       "Date                     \n",
       "2015-06-08   526.830017  \n",
       "2015-06-09   526.690002  \n",
       "2015-06-10   536.690002  \n",
       "2015-06-11   534.609985  \n",
       "2015-06-12   532.330017  \n",
       "...                 ...  \n",
       "2020-06-01  1431.819946  \n",
       "2020-06-02  1439.219971  \n",
       "2020-06-03  1436.380005  \n",
       "2020-06-04  1412.180054  \n",
       "2020-06-05  1438.390015  \n",
       "\n",
       "[1259 rows x 6 columns]"
      ]
     },
     "execution_count": 6,
     "metadata": {},
     "output_type": "execute_result"
    }
   ],
   "source": [
    "df"
   ]
  },
  {
   "cell_type": "code",
   "execution_count": 7,
   "metadata": {},
   "outputs": [],
   "source": [
    "close = np.array(df[\"Adj Close\"])"
   ]
  },
  {
   "cell_type": "code",
   "execution_count": 10,
   "metadata": {},
   "outputs": [],
   "source": [
    "#以25天作為一個月的基準\n",
    "X = close[:close.shape[0]-25]\n",
    "Y = close[25:]"
   ]
  },
  {
   "cell_type": "code",
   "execution_count": 11,
   "metadata": {},
   "outputs": [],
   "source": [
    "x_train, x_test, y_train, y_test = train_test_split(X, Y, test_size = 0.25, random_state = 1)"
   ]
  },
  {
   "cell_type": "code",
   "execution_count": 12,
   "metadata": {},
   "outputs": [],
   "source": [
    "x_train = x_train.reshape(x_train.shape[0], 1)\n",
    "x_test = x_test.reshape(x_test.shape[0], 1)"
   ]
  },
  {
   "cell_type": "code",
   "execution_count": 13,
   "metadata": {},
   "outputs": [],
   "source": [
    "regr = LinearRegression()"
   ]
  },
  {
   "cell_type": "code",
   "execution_count": 14,
   "metadata": {},
   "outputs": [
    {
     "data": {
      "text/plain": [
       "LinearRegression(copy_X=True, fit_intercept=True, n_jobs=None, normalize=False)"
      ]
     },
     "execution_count": 14,
     "metadata": {},
     "output_type": "execute_result"
    }
   ],
   "source": [
    "regr.fit(x_train, y_train)"
   ]
  },
  {
   "cell_type": "code",
   "execution_count": 16,
   "metadata": {},
   "outputs": [
    {
     "data": {
      "text/plain": [
       "[<matplotlib.lines.Line2D at 0x2dc603b0a88>]"
      ]
     },
     "execution_count": 16,
     "metadata": {},
     "output_type": "execute_result"
    },
    {
     "data": {
      "image/png": "[encoded data removed]",
      "text/plain": [
       "<Figure size 432x288 with 1 Axes>"
      ]
     },
     "metadata": {
      "needs_background": "light"
     },
     "output_type": "display_data"
    }
   ],
   "source": [
    "#查看訓練資料與迴歸模型的關係\n",
    "plt.scatter(x_train, y_train)\n",
    "plt.plot(x_train, regr.predict(x_train), c = 'r')"
   ]
  },
  {
   "cell_type": "code",
   "execution_count": 17,
   "metadata": {},
   "outputs": [
    {
     "data": {
      "text/plain": [
       "[<matplotlib.lines.Line2D at 0x2dc60407308>]"
      ]
     },
     "execution_count": 17,
     "metadata": {},
     "output_type": "execute_result"
    },
    {
     "data": {
      "image/png": "[encoded data removed]",
      "text/plain": [
       "<Figure size 432x288 with 1 Axes>"
      ]
     },
     "metadata": {
      "needs_background": "light"
     },
     "output_type": "display_data"
    }
   ],
   "source": [
    "#查看測試資料與迴歸模型的關係\n",
    "plt.scatter(x_test, y_test)\n",
    "plt.plot(x_test, regr.predict(x_test), c = 'r')"
   ]
  },
  {
   "cell_type": "code",
   "execution_count": null,
   "metadata": {},
   "outputs": [],
   "source": []
  }
 ],
 "metadata": {
  "kernelspec": {
   "display_name": "Python 3",
   "language": "python",
   "name": "python3"
  },
  "language_info": {
   "codemirror_mode": {
    "name": "ipython",
    "version": 3
   },
   "file_extension": ".py",
   "mimetype": "text/x-python",
   "name": "python",
   "nbconvert_exporter": "python",
   "pygments_lexer": "ipython3",
   "version": "3.7.6"
  }
 },
 "nbformat": 4,
 "nbformat_minor": 4
}
