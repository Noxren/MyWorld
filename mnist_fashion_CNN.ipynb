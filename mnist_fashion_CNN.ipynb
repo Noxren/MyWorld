{
 "cells": [
  {
   "cell_type": "code",
   "execution_count": 1,
   "metadata": {},
   "outputs": [],
   "source": [
    "%matplotlib inline\n",
    "\n",
    "import numpy as np\n",
    "import matplotlib.pyplot as plt\n",
    "import pandas as pd"
   ]
  },
  {
   "cell_type": "markdown",
   "metadata": {},
   "source": [
    "## 1.讀入數據集"
   ]
  },
  {
   "cell_type": "code",
   "execution_count": 2,
   "metadata": {},
   "outputs": [],
   "source": [
    "from tensorflow.keras.datasets import fashion_mnist"
   ]
  },
  {
   "cell_type": "code",
   "execution_count": 3,
   "metadata": {},
   "outputs": [],
   "source": [
    "(x_train, y_train), (x_test, y_test) = fashion_mnist.load_data()"
   ]
  },
  {
   "cell_type": "markdown",
   "metadata": {},
   "source": [
    "### 查看數據集資料型態"
   ]
  },
  {
   "cell_type": "code",
   "execution_count": 4,
   "metadata": {},
   "outputs": [
    {
     "data": {
      "text/plain": [
       "(60000, 28, 28)"
      ]
     },
     "execution_count": 4,
     "metadata": {},
     "output_type": "execute_result"
    }
   ],
   "source": [
    "x_train.shape"
   ]
  },
  {
   "cell_type": "code",
   "execution_count": 5,
   "metadata": {},
   "outputs": [
    {
     "data": {
      "text/plain": [
       "(10000, 28, 28)"
      ]
     },
     "execution_count": 5,
     "metadata": {},
     "output_type": "execute_result"
    }
   ],
   "source": [
    "x_test.shape"
   ]
  },
  {
   "cell_type": "markdown",
   "metadata": {},
   "source": [
    "## 2.整理資料"
   ]
  },
  {
   "cell_type": "code",
   "execution_count": 6,
   "metadata": {},
   "outputs": [],
   "source": [
    "x_train = x_train.reshape(60000, 28, 28, 1) / 255"
   ]
  },
  {
   "cell_type": "code",
   "execution_count": 7,
   "metadata": {},
   "outputs": [],
   "source": [
    "x_test = x_test.reshape(10000, 28, 28, 1) / 255"
   ]
  },
  {
   "cell_type": "code",
   "execution_count": 8,
   "metadata": {},
   "outputs": [],
   "source": [
    "from tensorflow.keras.utils import to_categorical"
   ]
  },
  {
   "cell_type": "code",
   "execution_count": 9,
   "metadata": {},
   "outputs": [],
   "source": [
    "y_train = to_categorical(y_train, 10)\n",
    "y_test = to_categorical(y_test, 10)"
   ]
  },
  {
   "cell_type": "markdown",
   "metadata": {},
   "source": [
    "## 3.建立模型"
   ]
  },
  {
   "cell_type": "code",
   "execution_count": 10,
   "metadata": {},
   "outputs": [],
   "source": [
    "from tensorflow.keras.models import Sequential\n",
    "from tensorflow.keras.layers import Conv2D, MaxPooling2D\n",
    "from tensorflow.keras.layers import Dense, Flatten\n",
    "from tensorflow.keras.layers import Dropout\n",
    "from tensorflow.keras.optimizers import SGD"
   ]
  },
  {
   "cell_type": "code",
   "execution_count": 11,
   "metadata": {},
   "outputs": [],
   "source": [
    "model = Sequential()"
   ]
  },
  {
   "cell_type": "markdown",
   "metadata": {},
   "source": [
    "### 建立第一層Conv，並設計10個filter和5x5的篩選機制"
   ]
  },
  {
   "cell_type": "code",
   "execution_count": 12,
   "metadata": {},
   "outputs": [],
   "source": [
    "model.add(Conv2D(10, (5, 5), padding = 'same', input_shape = (28, 28, 1), activation = 'relu'))"
   ]
  },
  {
   "cell_type": "markdown",
   "metadata": {},
   "source": [
    "### 建立第一層MaxPooling"
   ]
  },
  {
   "cell_type": "code",
   "execution_count": 13,
   "metadata": {},
   "outputs": [],
   "source": [
    "model.add(MaxPooling2D(pool_size = (2,2)))"
   ]
  },
  {
   "cell_type": "markdown",
   "metadata": {},
   "source": [
    "### 建立第二層Conv，並設計20個filter和3x3的篩選機制"
   ]
  },
  {
   "cell_type": "code",
   "execution_count": 14,
   "metadata": {},
   "outputs": [],
   "source": [
    "model.add(Conv2D(20, (3, 3), padding = 'same', activation = 'relu'))"
   ]
  },
  {
   "cell_type": "markdown",
   "metadata": {},
   "source": [
    "### 建立第二層MaxPooling"
   ]
  },
  {
   "cell_type": "code",
   "execution_count": 15,
   "metadata": {},
   "outputs": [],
   "source": [
    "model.add(MaxPooling2D(pool_size = (2, 2)))"
   ]
  },
  {
   "cell_type": "markdown",
   "metadata": {},
   "source": [
    "### 建立第三層Conv，並設計40個filter和1x1的篩選機制"
   ]
  },
  {
   "cell_type": "code",
   "execution_count": 16,
   "metadata": {},
   "outputs": [],
   "source": [
    "model.add(Conv2D(40, (1, 1), padding = 'same', activation = 'relu'))"
   ]
  },
  {
   "cell_type": "markdown",
   "metadata": {},
   "source": [
    "### 建立第三層MaxPooling"
   ]
  },
  {
   "cell_type": "code",
   "execution_count": 17,
   "metadata": {},
   "outputs": [],
   "source": [
    "model.add(MaxPooling2D(pool_size = (2, 2)))"
   ]
  },
  {
   "cell_type": "markdown",
   "metadata": {},
   "source": [
    "### 將矩陣拉平"
   ]
  },
  {
   "cell_type": "code",
   "execution_count": 18,
   "metadata": {},
   "outputs": [],
   "source": [
    "model.add(Flatten())"
   ]
  },
  {
   "cell_type": "markdown",
   "metadata": {},
   "source": [
    "### 建立Dense，神經元設為80個"
   ]
  },
  {
   "cell_type": "code",
   "execution_count": 19,
   "metadata": {},
   "outputs": [],
   "source": [
    "model.add(Dense(80, activation = 'relu'))"
   ]
  },
  {
   "cell_type": "markdown",
   "metadata": {},
   "source": [
    "### 建立Dropout，防止Overfitting"
   ]
  },
  {
   "cell_type": "code",
   "execution_count": 20,
   "metadata": {},
   "outputs": [],
   "source": [
    "model.add(Dropout(0.3))"
   ]
  },
  {
   "cell_type": "markdown",
   "metadata": {},
   "source": [
    "### 建立最後一層Dense，輸出為10個"
   ]
  },
  {
   "cell_type": "code",
   "execution_count": 21,
   "metadata": {},
   "outputs": [],
   "source": [
    "model.add(Dense(10, activation = 'softmax'))"
   ]
  },
  {
   "cell_type": "markdown",
   "metadata": {},
   "source": [
    "### 查看模型"
   ]
  },
  {
   "cell_type": "code",
   "execution_count": 22,
   "metadata": {},
   "outputs": [
    {
     "name": "stdout",
     "output_type": "stream",
     "text": [
      "Model: \"sequential\"\n",
      "_________________________________________________________________\n",
      "Layer (type)                 Output Shape              Param #   \n",
      "=================================================================\n",
      "conv2d (Conv2D)              (None, 28, 28, 10)        260       \n",
      "_________________________________________________________________\n",
      "max_pooling2d (MaxPooling2D) (None, 14, 14, 10)        0         \n",
      "_________________________________________________________________\n",
      "conv2d_1 (Conv2D)            (None, 14, 14, 20)        1820      \n",
      "_________________________________________________________________\n",
      "max_pooling2d_1 (MaxPooling2 (None, 7, 7, 20)          0         \n",
      "_________________________________________________________________\n",
      "conv2d_2 (Conv2D)            (None, 7, 7, 40)          840       \n",
      "_________________________________________________________________\n",
      "max_pooling2d_2 (MaxPooling2 (None, 3, 3, 40)          0         \n",
      "_________________________________________________________________\n",
      "flatten (Flatten)            (None, 360)               0         \n",
      "_________________________________________________________________\n",
      "dense (Dense)                (None, 80)                28880     \n",
      "_________________________________________________________________\n",
      "dropout (Dropout)            (None, 80)                0         \n",
      "_________________________________________________________________\n",
      "dense_1 (Dense)              (None, 10)                810       \n",
      "=================================================================\n",
      "Total params: 32,610\n",
      "Trainable params: 32,610\n",
      "Non-trainable params: 0\n",
      "_________________________________________________________________\n"
     ]
    }
   ],
   "source": [
    "model.summary()"
   ]
  },
  {
   "cell_type": "markdown",
   "metadata": {},
   "source": [
    "### 將模型的學習率設為0.048"
   ]
  },
  {
   "cell_type": "code",
   "execution_count": 23,
   "metadata": {},
   "outputs": [],
   "source": [
    "model.compile(loss = 'mse', optimizer = SGD(lr = 0.048), metrics = ['accuracy'])"
   ]
  },
  {
   "cell_type": "markdown",
   "metadata": {},
   "source": [
    "## 4.訓練"
   ]
  },
  {
   "cell_type": "markdown",
   "metadata": {},
   "source": [
    "### 訓練模型，將batch_size設為50，訓練次數設為25次"
   ]
  },
  {
   "cell_type": "code",
   "execution_count": 24,
   "metadata": {},
   "outputs": [
    {
     "name": "stdout",
     "output_type": "stream",
     "text": [
      "Train on 60000 samples\n",
      "Epoch 1/25\n",
      "60000/60000 [==============================] - 61s 1ms/sample - loss: 0.0897 - accuracy: 0.1591\n",
      "Epoch 2/25\n",
      "60000/60000 [==============================] - 59s 986us/sample - loss: 0.0887 - accuracy: 0.2409\n",
      "Epoch 3/25\n",
      "60000/60000 [==============================] - 60s 993us/sample - loss: 0.0828 - accuracy: 0.3421\n",
      "Epoch 4/25\n",
      "60000/60000 [==============================] - 59s 975us/sample - loss: 0.0574 - accuracy: 0.5606\n",
      "Epoch 5/25\n",
      "60000/60000 [==============================] - 59s 975us/sample - loss: 0.0471 - accuracy: 0.6514\n",
      "Epoch 6/25\n",
      "60000/60000 [==============================] - 59s 987us/sample - loss: 0.0438 - accuracy: 0.6779\n",
      "Epoch 7/25\n",
      "60000/60000 [==============================] - 59s 985us/sample - loss: 0.0416 - accuracy: 0.6980\n",
      "Epoch 8/25\n",
      "60000/60000 [==============================] - 59s 992us/sample - loss: 0.0401 - accuracy: 0.7106\n",
      "Epoch 9/25\n",
      "60000/60000 [==============================] - 59s 981us/sample - loss: 0.0388 - accuracy: 0.7224\n",
      "Epoch 10/25\n",
      "60000/60000 [==============================] - 59s 983us/sample - loss: 0.0378 - accuracy: 0.7284\n",
      "Epoch 11/25\n",
      "60000/60000 [==============================] - 59s 987us/sample - loss: 0.0367 - accuracy: 0.7378\n",
      "Epoch 12/25\n",
      "60000/60000 [==============================] - 61s 1ms/sample - loss: 0.0359 - accuracy: 0.7421\n",
      "Epoch 13/25\n",
      "60000/60000 [==============================] - 61s 1ms/sample - loss: 0.0350 - accuracy: 0.7488\n",
      "Epoch 14/25\n",
      "60000/60000 [==============================] - 59s 982us/sample - loss: 0.0343 - accuracy: 0.7570\n",
      "Epoch 15/25\n",
      "60000/60000 [==============================] - 59s 984us/sample - loss: 0.0335 - accuracy: 0.7610\n",
      "Epoch 16/25\n",
      "60000/60000 [==============================] - 59s 983us/sample - loss: 0.0329 - accuracy: 0.7671\n",
      "Epoch 17/25\n",
      "60000/60000 [==============================] - 59s 983us/sample - loss: 0.0320 - accuracy: 0.7721\n",
      "Epoch 18/25\n",
      "60000/60000 [==============================] - 59s 990us/sample - loss: 0.0314 - accuracy: 0.7790\n",
      "Epoch 19/25\n",
      "60000/60000 [==============================] - 59s 988us/sample - loss: 0.0308 - accuracy: 0.7818\n",
      "Epoch 20/25\n",
      "60000/60000 [==============================] - 59s 984us/sample - loss: 0.0303 - accuracy: 0.7867\n",
      "Epoch 21/25\n",
      "60000/60000 [==============================] - 59s 978us/sample - loss: 0.0298 - accuracy: 0.7904\n",
      "Epoch 22/25\n",
      "60000/60000 [==============================] - 59s 982us/sample - loss: 0.0293 - accuracy: 0.7939\n",
      "Epoch 23/25\n",
      "60000/60000 [==============================] - 59s 991us/sample - loss: 0.0288 - accuracy: 0.7982\n",
      "Epoch 24/25\n",
      "60000/60000 [==============================] - 59s 984us/sample - loss: 0.0282 - accuracy: 0.8032\n",
      "Epoch 25/25\n",
      "60000/60000 [==============================] - 59s 983us/sample - loss: 0.0277 - accuracy: 0.8062\n"
     ]
    },
    {
     "data": {
      "text/plain": [
       "<tensorflow.python.keras.callbacks.History at 0x1cac1dd27c8>"
      ]
     },
     "execution_count": 24,
     "metadata": {},
     "output_type": "execute_result"
    }
   ],
   "source": [
    "model.fit(x_train, y_train, batch_size = 50, epochs = 25)"
   ]
  },
  {
   "cell_type": "markdown",
   "metadata": {},
   "source": [
    "### 再訓練一次"
   ]
  },
  {
   "cell_type": "code",
   "execution_count": 25,
   "metadata": {},
   "outputs": [
    {
     "name": "stdout",
     "output_type": "stream",
     "text": [
      "Train on 60000 samples\n",
      "Epoch 1/25\n",
      "60000/60000 [==============================] - 59s 982us/sample - loss: 0.0273 - accuracy: 0.8078\n",
      "Epoch 2/25\n",
      "60000/60000 [==============================] - 61s 1ms/sample - loss: 0.0269 - accuracy: 0.8113\n",
      "Epoch 3/25\n",
      "60000/60000 [==============================] - 61s 1ms/sample - loss: 0.0265 - accuracy: 0.8155\n",
      "Epoch 4/25\n",
      "60000/60000 [==============================] - 61s 1ms/sample - loss: 0.0261 - accuracy: 0.8180\n",
      "Epoch 5/25\n",
      "60000/60000 [==============================] - 61s 1ms/sample - loss: 0.0258 - accuracy: 0.8210\n",
      "Epoch 6/25\n",
      "60000/60000 [==============================] - 59s 981us/sample - loss: 0.0254 - accuracy: 0.8235\n",
      "Epoch 7/25\n",
      "60000/60000 [==============================] - 59s 986us/sample - loss: 0.0252 - accuracy: 0.8253\n",
      "Epoch 8/25\n",
      "60000/60000 [==============================] - 59s 987us/sample - loss: 0.0249 - accuracy: 0.8266\n",
      "Epoch 9/25\n",
      "60000/60000 [==============================] - 59s 987us/sample - loss: 0.0246 - accuracy: 0.8294\n",
      "Epoch 10/25\n",
      "60000/60000 [==============================] - 60s 993us/sample - loss: 0.0244 - accuracy: 0.8308\n",
      "Epoch 11/25\n",
      "60000/60000 [==============================] - 60s 995us/sample - loss: 0.0242 - accuracy: 0.8333\n",
      "Epoch 12/25\n",
      "60000/60000 [==============================] - 59s 984us/sample - loss: 0.0240 - accuracy: 0.8345\n",
      "Epoch 13/25\n",
      "60000/60000 [==============================] - 60s 994us/sample - loss: 0.0237 - accuracy: 0.8357\n",
      "Epoch 14/25\n",
      "60000/60000 [==============================] - 59s 989us/sample - loss: 0.0235 - accuracy: 0.8375\n",
      "Epoch 15/25\n",
      "60000/60000 [==============================] - 59s 986us/sample - loss: 0.0234 - accuracy: 0.8386\n",
      "Epoch 16/25\n",
      "60000/60000 [==============================] - 59s 984us/sample - loss: 0.0232 - accuracy: 0.8402\n",
      "Epoch 17/25\n",
      "60000/60000 [==============================] - 60s 1ms/sample - loss: 0.0230 - accuracy: 0.8409\n",
      "Epoch 18/25\n",
      "60000/60000 [==============================] - 59s 989us/sample - loss: 0.0228 - accuracy: 0.8426\n",
      "Epoch 19/25\n",
      "60000/60000 [==============================] - 59s 980us/sample - loss: 0.0228 - accuracy: 0.8422\n",
      "Epoch 20/25\n",
      "60000/60000 [==============================] - 59s 981us/sample - loss: 0.0225 - accuracy: 0.8460\n",
      "Epoch 21/25\n",
      "60000/60000 [==============================] - 60s 1000us/sample - loss: 0.0223 - accuracy: 0.8451\n",
      "Epoch 22/25\n",
      "60000/60000 [==============================] - 60s 1ms/sample - loss: 0.0222 - accuracy: 0.8460\n",
      "Epoch 23/25\n",
      "60000/60000 [==============================] - 59s 984us/sample - loss: 0.0221 - accuracy: 0.8482\n",
      "Epoch 24/25\n",
      "60000/60000 [==============================] - 59s 981us/sample - loss: 0.0219 - accuracy: 0.8490\n",
      "Epoch 25/25\n",
      "60000/60000 [==============================] - 59s 984us/sample - loss: 0.0217 - accuracy: 0.8514\n"
     ]
    },
    {
     "data": {
      "text/plain": [
       "<tensorflow.python.keras.callbacks.History at 0x1cac4b97e88>"
      ]
     },
     "execution_count": 25,
     "metadata": {},
     "output_type": "execute_result"
    }
   ],
   "source": [
    "model.fit(x_train, y_train, batch_size = 50, epochs = 25)"
   ]
  },
  {
   "cell_type": "markdown",
   "metadata": {},
   "source": [
    "### 檢查是否有overfit"
   ]
  },
  {
   "cell_type": "code",
   "execution_count": 26,
   "metadata": {},
   "outputs": [
    {
     "name": "stdout",
     "output_type": "stream",
     "text": [
      "10000/10000 [==============================] - 3s 331us/sample - loss: 0.0215 - accuracy: 0.8504\n"
     ]
    },
    {
     "data": {
      "text/plain": [
       "[0.02152263320945203, 0.8504]"
      ]
     },
     "execution_count": 26,
     "metadata": {},
     "output_type": "execute_result"
    }
   ],
   "source": [
    "model.evaluate(x_test, y_test)"
   ]
  },
  {
   "cell_type": "markdown",
   "metadata": {},
   "source": [
    "### --沒有overfit"
   ]
  },
  {
   "cell_type": "markdown",
   "metadata": {},
   "source": [
    "## 5.訓練成果"
   ]
  },
  {
   "cell_type": "markdown",
   "metadata": {},
   "source": [
    "### 建立名稱以方便確認神經網路預測是否正確"
   ]
  },
  {
   "cell_type": "code",
   "execution_count": 27,
   "metadata": {},
   "outputs": [],
   "source": [
    "class_names = ['T-shirt/top', 'Trouser', 'Pullover', 'Dress', 'Coat',\n",
    "               'Sandal', 'Shirt', 'Sneaker', 'Bag', 'Ankle boot']"
   ]
  },
  {
   "cell_type": "code",
   "execution_count": 28,
   "metadata": {},
   "outputs": [],
   "source": [
    "result = model.predict_classes(x_test)"
   ]
  },
  {
   "cell_type": "code",
   "execution_count": 29,
   "metadata": {},
   "outputs": [],
   "source": [
    "def my_predict(n):\n",
    "    print('預測結果為:', class_names[result[n]])\n",
    "    X = x_test[n].reshape(28, 28)\n",
    "    plt.imshow(X)"
   ]
  },
  {
   "cell_type": "code",
   "execution_count": 30,
   "metadata": {},
   "outputs": [],
   "source": [
    "from ipywidgets import interact_manual"
   ]
  },
  {
   "cell_type": "code",
   "execution_count": 31,
   "metadata": {},
   "outputs": [
    {
     "data": {
      "application/vnd.jupyter.widget-view+json": {
       "model_id": "2f20de4b57ea4ca1b099e7d6cce42e4e",
       "version_major": 2,
       "version_minor": 0
      },
      "text/plain": [
       "interactive(children=(IntSlider(value=4999, description='n', max=9999), Button(description='Run Interact', sty…"
      ]
     },
     "metadata": {},
     "output_type": "display_data"
    },
    {
     "data": {
      "text/plain": [
       "<function __main__.my_predict(n)>"
      ]
     },
     "execution_count": 31,
     "metadata": {},
     "output_type": "execute_result"
    }
   ],
   "source": [
    "interact_manual(my_predict, n = (0, 9999))"
   ]
  },
  {
   "cell_type": "code",
   "execution_count": null,
   "metadata": {},
   "outputs": [],
   "source": []
  }
 ],
 "metadata": {
  "kernelspec": {
   "display_name": "Python 3",
   "language": "python",
   "name": "python3"
  },
  "language_info": {
   "codemirror_mode": {
    "name": "ipython",
    "version": 3
   },
   "file_extension": ".py",
   "mimetype": "text/x-python",
   "name": "python",
   "nbconvert_exporter": "python",
   "pygments_lexer": "ipython3",
   "version": "3.7.4"
  }
 },
 "nbformat": 4,
 "nbformat_minor": 2
}
